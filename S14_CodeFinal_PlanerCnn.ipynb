{
  "nbformat": 4,
  "nbformat_minor": 0,
  "metadata": {
    "accelerator": "GPU",
    "colab": {
      "name": "S14_CodeFinal_PlanerCnn.ipynb",
      "provenance": [],
      "collapsed_sections": []
    },
    "kernelspec": {
      "display_name": "Python 3",
      "language": "python",
      "name": "python3"
    },
    "language_info": {
      "codemirror_mode": {
        "name": "ipython",
        "version": 3
      },
      "file_extension": ".py",
      "mimetype": "text/x-python",
      "name": "python",
      "nbconvert_exporter": "python",
      "pygments_lexer": "ipython3",
      "version": "3.8.5"
    }
  },
  "cells": [
    {
      "cell_type": "code",
      "metadata": {
        "id": "eEnEqhEl7lsD"
      },
      "source": [
        "# Repository github url : https://github.com/jai-mr/\n",
        "# Assignment Repository : https://github.com/jai-mr/Assignment-14\n",
        "# Submitted by : Jaideep Rangnekar\n",
        "# Registered email id : jaideepmr@gmail.com"
      ],
      "execution_count": null,
      "outputs": []
    },
    {
      "cell_type": "code",
      "metadata": {
        "id": "XNUWDeG27lsZ"
      },
      "source": [
        "#-----------------------------PlanerCNN----------------------------#"
      ],
      "execution_count": null,
      "outputs": []
    },
    {
      "cell_type": "code",
      "metadata": {
        "id": "EnSPUDfw3Bm-",
        "outputId": "630b4e69-a109-4c83-d1bd-042668d7bf01",
        "colab": {
          "base_uri": "https://localhost:8080/"
        }
      },
      "source": [
        "import os, torch\n",
        "print('Torch', torch.__version__, 'CUDA', torch.version.cuda)\n",
        "print('Device:', torch.device('cuda:0'))\n",
        "print(torch.cuda.is_available())  "
      ],
      "execution_count": 1,
      "outputs": [
        {
          "output_type": "stream",
          "text": [
            "Torch 1.6.0+cu101 CUDA 10.1\n",
            "Device: cuda:0\n",
            "True\n"
          ],
          "name": "stdout"
        }
      ]
    },
    {
      "cell_type": "code",
      "metadata": {
        "id": "u-uFzet43Btc",
        "outputId": "44b8f207-c7a9-4f9b-8998-8bf75b5fd5d8",
        "colab": {
          "base_uri": "https://localhost:8080/"
        }
      },
      "source": [
        "# Install Cuda 8.0\n",
        "!wget https://developer.nvidia.com/compute/cuda/8.0/Prod2/local_installers/cuda-repo-ubuntu1604-8-0-local-ga2_8.0.61-1_amd64-deb"
      ],
      "execution_count": 2,
      "outputs": [
        {
          "output_type": "stream",
          "text": [
            "--2020-10-31 14:13:00--  https://developer.nvidia.com/compute/cuda/8.0/Prod2/local_installers/cuda-repo-ubuntu1604-8-0-local-ga2_8.0.61-1_amd64-deb\n",
            "Resolving developer.nvidia.com (developer.nvidia.com)... 152.199.0.24\n",
            "Connecting to developer.nvidia.com (developer.nvidia.com)|152.199.0.24|:443... connected.\n",
            "HTTP request sent, awaiting response... 302 Found\n",
            "Location: https://developer.download.nvidia.com/compute/cuda/8.0/secure/Prod2/local_installers/cuda-repo-ubuntu1604-8-0-local-ga2_8.0.61-1_amd64.deb?2YcwtVW_8F56XKjz6hidm-A4Zo2_p_wqp38EpNREpV7YYYSCH3WxxZH9w_mEtNY9fPCytsaK4Ol96ABqlKy_JJ-hepJDpiajdQfEIz6Ml-gleZVUZizC-pWqNLFKz3WfcwEGlzjt1iOLzqnYDHZ-IGd6AsjhPZjZfsinJtpxtRuOVPkreUOUdyTWs4G1GpIqXSnNGhy2u78TWn__dSiabyGxeA [following]\n",
            "--2020-10-31 14:13:00--  https://developer.download.nvidia.com/compute/cuda/8.0/secure/Prod2/local_installers/cuda-repo-ubuntu1604-8-0-local-ga2_8.0.61-1_amd64.deb?2YcwtVW_8F56XKjz6hidm-A4Zo2_p_wqp38EpNREpV7YYYSCH3WxxZH9w_mEtNY9fPCytsaK4Ol96ABqlKy_JJ-hepJDpiajdQfEIz6Ml-gleZVUZizC-pWqNLFKz3WfcwEGlzjt1iOLzqnYDHZ-IGd6AsjhPZjZfsinJtpxtRuOVPkreUOUdyTWs4G1GpIqXSnNGhy2u78TWn__dSiabyGxeA\n",
            "Resolving developer.download.nvidia.com (developer.download.nvidia.com)... 152.195.19.142\n",
            "Connecting to developer.download.nvidia.com (developer.download.nvidia.com)|152.195.19.142|:443... connected.\n",
            "HTTP request sent, awaiting response... 200 OK\n",
            "Length: 1913589814 (1.8G) [application/x-deb]\n",
            "Saving to: ‘cuda-repo-ubuntu1604-8-0-local-ga2_8.0.61-1_amd64-deb’\n",
            "\n",
            "cuda-repo-ubuntu160 100%[===================>]   1.78G  44.2MB/s    in 14s     \n",
            "\n",
            "2020-10-31 14:13:14 (133 MB/s) - ‘cuda-repo-ubuntu1604-8-0-local-ga2_8.0.61-1_amd64-deb’ saved [1913589814/1913589814]\n",
            "\n"
          ],
          "name": "stdout"
        }
      ]
    },
    {
      "cell_type": "code",
      "metadata": {
        "id": "sq6dk6fh7Hzf",
        "outputId": "e40bf678-2362-41f9-db0a-3904c22d3303",
        "colab": {
          "base_uri": "https://localhost:8080/"
        }
      },
      "source": [
        "!ls"
      ],
      "execution_count": 3,
      "outputs": [
        {
          "output_type": "stream",
          "text": [
            "cuda-repo-ubuntu1604-8-0-local-ga2_8.0.61-1_amd64-deb  sample_data\n"
          ],
          "name": "stdout"
        }
      ]
    },
    {
      "cell_type": "code",
      "metadata": {
        "id": "emMdJjO67H7W",
        "outputId": "16e9627e-1dc3-47bb-c9c2-e4cada18a42e",
        "colab": {
          "base_uri": "https://localhost:8080/"
        }
      },
      "source": [
        "!dpkg -i cuda-repo-ubuntu1604-8-0-local-ga2_8.0.61-1_amd64-deb"
      ],
      "execution_count": 4,
      "outputs": [
        {
          "output_type": "stream",
          "text": [
            "Selecting previously unselected package cuda-repo-ubuntu1604-8-0-local-ga2.\n",
            "(Reading database ... 144628 files and directories currently installed.)\n",
            "Preparing to unpack cuda-repo-ubuntu1604-8-0-local-ga2_8.0.61-1_amd64-deb ...\n",
            "Unpacking cuda-repo-ubuntu1604-8-0-local-ga2 (8.0.61-1) ...\n",
            "Setting up cuda-repo-ubuntu1604-8-0-local-ga2 (8.0.61-1) ...\n",
            "Warning: The postinst maintainerscript of the package cuda-repo-ubuntu1604-8-0-local-ga2\n",
            "Warning: seems to use apt-key (provided by apt) without depending on gnupg or gnupg2.\n",
            "Warning: This will BREAK in the future and should be fixed by the package maintainer(s).\n",
            "Note: Check first if apt-key functionality is needed at all - it probably isn't!\n",
            "Warning: apt-key should not be used in scripts (called from postinst maintainerscript of the package cuda-repo-ubuntu1604-8-0-local-ga2)\n",
            "OK\n"
          ],
          "name": "stdout"
        }
      ]
    },
    {
      "cell_type": "code",
      "metadata": {
        "id": "22jtxn_27OoN",
        "outputId": "f1264ae1-887c-4d26-d17b-d5e0e9de4421",
        "colab": {
          "base_uri": "https://localhost:8080/"
        }
      },
      "source": [
        "!ls /var/"
      ],
      "execution_count": 5,
      "outputs": [
        {
          "output_type": "stream",
          "text": [
            "backups  colab\t\t\t  lib\t lock  mail  run    tmp\n",
            "cache\t cuda-repo-8-0-local-ga2  local  log   opt   spool\n"
          ],
          "name": "stdout"
        }
      ]
    },
    {
      "cell_type": "code",
      "metadata": {
        "id": "OmXUJTkF7Ov5",
        "outputId": "7bda04fe-a5f6-4b77-c380-5ee76b1e3154",
        "colab": {
          "base_uri": "https://localhost:8080/"
        }
      },
      "source": [
        "!ls /var/cuda-repo-8-0-local-ga2 | grep .pub"
      ],
      "execution_count": 6,
      "outputs": [
        {
          "output_type": "stream",
          "text": [
            "7fa2af80.pub\n"
          ],
          "name": "stdout"
        }
      ]
    },
    {
      "cell_type": "code",
      "metadata": {
        "id": "KYUgL3kD7O0_",
        "outputId": "7ae5d298-b4df-48de-e0d7-489c56286bf7",
        "colab": {
          "base_uri": "https://localhost:8080/"
        }
      },
      "source": [
        "!apt-key add /var/cuda-repo-8-0-local-ga2/7fa2af80.pub"
      ],
      "execution_count": 7,
      "outputs": [
        {
          "output_type": "stream",
          "text": [
            "OK\n"
          ],
          "name": "stdout"
        }
      ]
    },
    {
      "cell_type": "code",
      "metadata": {
        "id": "PZY6d9be7OuF",
        "outputId": "2fd598e8-f82e-4f96-9cce-4099608c393e",
        "colab": {
          "base_uri": "https://localhost:8080/"
        }
      },
      "source": [
        "!apt-get update"
      ],
      "execution_count": 8,
      "outputs": [
        {
          "output_type": "stream",
          "text": [
            "\r0% [Working]\r            \rGet:1 file:/var/cuda-repo-8-0-local-ga2  InRelease\n",
            "\r            \rIgn:1 file:/var/cuda-repo-8-0-local-ga2  InRelease\n",
            "\r0% [Connecting to cloud.r-project.org]\r                                      \rGet:2 file:/var/cuda-repo-8-0-local-ga2  Release [574 B]\n",
            "\r0% [Connecting to cloud.r-project.org]\r                                      \rGet:2 file:/var/cuda-repo-8-0-local-ga2  Release [574 B]\n",
            "\r0% [2 Release 0 B/574 B 0%] [Connecting to archive.ubuntu.com] [Connecting to s\r0% [Connecting to archive.ubuntu.com] [Connecting to security.ubuntu.com] [Conn\r                                                                               \rGet:3 file:/var/cuda-repo-8-0-local-ga2  Release.gpg [819 B]\n",
            "\r0% [Connecting to archive.ubuntu.com] [Connecting to security.ubuntu.com] [Conn\r                                                                               \rGet:3 file:/var/cuda-repo-8-0-local-ga2  Release.gpg [819 B]\n",
            "\r0% [3 Release.gpg 0 B/819 B 0%] [Connecting to archive.ubuntu.com] [Connecting \r0% [Connecting to archive.ubuntu.com] [Connecting to security.ubuntu.com] [Conn\r0% [3 Release.gpg gpgv 574 B] [Connecting to archive.ubuntu.com (91.189.88.152)\r                                                                               \rGet:4 https://cloud.r-project.org/bin/linux/ubuntu bionic-cran40/ InRelease [3,626 B]\n",
            "\r0% [3 Release.gpg gpgv 574 B] [Connecting to archive.ubuntu.com (91.189.88.152)\r0% [3 Release.gpg gpgv 574 B] [Connecting to archive.ubuntu.com (91.189.88.152)\r                                                                               \rIgn:5 https://developer.download.nvidia.com/compute/cuda/repos/ubuntu1804/x86_64  InRelease\n",
            "\r0% [3 Release.gpg gpgv 574 B] [Waiting for headers] [Connecting to security.ubu\r                                                                               \rHit:6 http://ppa.launchpad.net/c2d4u.team/c2d4u4.0+/ubuntu bionic InRelease\n",
            "\r0% [3 Release.gpg gpgv 574 B] [Waiting for headers] [Waiting for headers] [Conn\r                                                                               \rHit:7 http://archive.ubuntu.com/ubuntu bionic InRelease\n",
            "\r0% [3 Release.gpg gpgv 574 B] [Waiting for headers] [Waiting for headers] [Conn\r0% [Waiting for headers] [Waiting for headers] [Connecting to ppa.launchpad.net\r0% [4 InRelease gpgv 3,626 B] [Waiting for headers] [Waiting for headers] [Conn\r                                                                               \rGet:8 file:/var/cuda-repo-8-0-local-ga2  Packages [22.7 kB]\n",
            "\r0% [4 InRelease gpgv 3,626 B] [Waiting for headers] [Waiting for headers] [Conn\r                                                                               \rIgn:9 https://developer.download.nvidia.com/compute/machine-learning/repos/ubuntu1804/x86_64  InRelease\n",
            "\r0% [4 InRelease gpgv 3,626 B] [Waiting for headers] [Waiting for headers] [Conn\r0% [8 Packages store 0 B] [4 InRelease gpgv 3,626 B] [Waiting for headers] [Wai\r0% [4 InRelease gpgv 3,626 B] [Waiting for headers] [Waiting for headers] [Conn\r                                                                               \rGet:10 https://developer.download.nvidia.com/compute/cuda/repos/ubuntu1804/x86_64  Release [697 B]\n",
            "\r0% [4 InRelease gpgv 3,626 B] [Waiting for headers] [Waiting for headers] [Conn\r                                                                               \rHit:11 https://developer.download.nvidia.com/compute/machine-learning/repos/ubuntu1804/x86_64  Release\n",
            "\r0% [4 InRelease gpgv 3,626 B] [Waiting for headers] [Waiting for headers] [Conn\r                                                                               \rGet:12 http://security.ubuntu.com/ubuntu bionic-security InRelease [88.7 kB]\n",
            "\r0% [4 InRelease gpgv 3,626 B] [Waiting for headers] [12 InRelease 14.2 kB/88.7 \r                                                                               \rGet:13 https://developer.download.nvidia.com/compute/cuda/repos/ubuntu1804/x86_64  Release.gpg [836 B]\n",
            "Get:14 http://archive.ubuntu.com/ubuntu bionic-updates InRelease [88.7 kB]\n",
            "Hit:15 http://ppa.launchpad.net/graphics-drivers/ppa/ubuntu bionic InRelease\n",
            "Get:16 http://archive.ubuntu.com/ubuntu bionic-backports InRelease [74.6 kB]\n",
            "Ign:18 https://developer.download.nvidia.com/compute/cuda/repos/ubuntu1804/x86_64  Packages\n",
            "Get:18 https://developer.download.nvidia.com/compute/cuda/repos/ubuntu1804/x86_64  Packages [405 kB]\n",
            "Get:19 http://security.ubuntu.com/ubuntu bionic-security/main amd64 Packages [1,748 kB]\n",
            "Get:20 http://archive.ubuntu.com/ubuntu bionic-updates/main amd64 Packages [2,165 kB]\n",
            "Get:21 http://security.ubuntu.com/ubuntu bionic-security/universe amd64 Packages [1,353 kB]\n",
            "Get:22 http://archive.ubuntu.com/ubuntu bionic-updates/universe amd64 Packages [2,118 kB]\n",
            "Fetched 8,046 kB in 2s (3,363 kB/s)\n",
            "Reading package lists... Done\n"
          ],
          "name": "stdout"
        }
      ]
    },
    {
      "cell_type": "code",
      "metadata": {
        "id": "kB-k4y2p7Os1",
        "outputId": "227d9528-b456-47cf-ee0f-3d914d9bc068",
        "colab": {
          "base_uri": "https://localhost:8080/"
        }
      },
      "source": [
        "!apt-get install cuda-8-0"
      ],
      "execution_count": 9,
      "outputs": [
        {
          "output_type": "stream",
          "text": [
            "Reading package lists... Done\n",
            "Building dependency tree       \n",
            "Reading state information... Done\n",
            "The following additional packages will be installed:\n",
            "  cuda-command-line-tools-8-0 cuda-core-8-0 cuda-cublas-8-0\n",
            "  cuda-cublas-dev-8-0 cuda-cudart-8-0 cuda-cudart-dev-8-0 cuda-cufft-8-0\n",
            "  cuda-cufft-dev-8-0 cuda-curand-8-0 cuda-curand-dev-8-0 cuda-cusolver-8-0\n",
            "  cuda-cusolver-dev-8-0 cuda-cusparse-8-0 cuda-cusparse-dev-8-0\n",
            "  cuda-demo-suite-8-0 cuda-documentation-8-0 cuda-driver-dev-8-0\n",
            "  cuda-license-8-0 cuda-misc-headers-8-0 cuda-npp-8-0 cuda-npp-dev-8-0\n",
            "  cuda-nvgraph-8-0 cuda-nvgraph-dev-8-0 cuda-nvml-dev-8-0 cuda-nvrtc-8-0\n",
            "  cuda-nvrtc-dev-8-0 cuda-runtime-8-0 cuda-samples-8-0 cuda-toolkit-8-0\n",
            "  cuda-visual-tools-8-0\n",
            "The following NEW packages will be installed:\n",
            "  cuda-8-0 cuda-command-line-tools-8-0 cuda-core-8-0 cuda-cublas-8-0\n",
            "  cuda-cublas-dev-8-0 cuda-cudart-8-0 cuda-cudart-dev-8-0 cuda-cufft-8-0\n",
            "  cuda-cufft-dev-8-0 cuda-curand-8-0 cuda-curand-dev-8-0 cuda-cusolver-8-0\n",
            "  cuda-cusolver-dev-8-0 cuda-cusparse-8-0 cuda-cusparse-dev-8-0\n",
            "  cuda-demo-suite-8-0 cuda-documentation-8-0 cuda-driver-dev-8-0\n",
            "  cuda-license-8-0 cuda-misc-headers-8-0 cuda-npp-8-0 cuda-npp-dev-8-0\n",
            "  cuda-nvgraph-8-0 cuda-nvgraph-dev-8-0 cuda-nvml-dev-8-0 cuda-nvrtc-8-0\n",
            "  cuda-nvrtc-dev-8-0 cuda-runtime-8-0 cuda-samples-8-0 cuda-toolkit-8-0\n",
            "  cuda-visual-tools-8-0\n",
            "0 upgraded, 31 newly installed, 0 to remove and 13 not upgraded.\n",
            "Need to get 0 B/1,312 MB of archives.\n",
            "After this operation, 2,079 MB of additional disk space will be used.\n",
            "Get:1 file:/var/cuda-repo-8-0-local-ga2  cuda-license-8-0 8.0.61-1 [27.6 kB]\n",
            "Get:2 file:/var/cuda-repo-8-0-local-ga2  cuda-misc-headers-8-0 8.0.61-1 [1,077 kB]\n",
            "Get:3 file:/var/cuda-repo-8-0-local-ga2  cuda-core-8-0 8.0.61-1 [20.0 MB]\n",
            "Get:4 file:/var/cuda-repo-8-0-local-ga2  cuda-cudart-8-0 8.0.61-1 [135 kB]\n",
            "Get:5 file:/var/cuda-repo-8-0-local-ga2  cuda-driver-dev-8-0 8.0.61-1 [14.1 kB]\n",
            "Get:6 file:/var/cuda-repo-8-0-local-ga2  cuda-cudart-dev-8-0 8.0.61-1 [1,071 kB]\n",
            "Get:7 file:/var/cuda-repo-8-0-local-ga2  cuda-command-line-tools-8-0 8.0.61-1 [26.1 MB]\n",
            "Get:8 file:/var/cuda-repo-8-0-local-ga2  cuda-nvrtc-8-0 8.0.61-1 [9,585 kB]\n",
            "Get:9 file:/var/cuda-repo-8-0-local-ga2  cuda-nvrtc-dev-8-0 8.0.61-1 [10.8 kB]\n",
            "Get:10 file:/var/cuda-repo-8-0-local-ga2  cuda-cusolver-8-0 8.0.61-1 [29.3 MB]\n",
            "Get:11 file:/var/cuda-repo-8-0-local-ga2  cuda-cusolver-dev-8-0 8.0.61-1 [6,816 kB]\n",
            "Get:12 file:/var/cuda-repo-8-0-local-ga2  cuda-cublas-8-0 8.0.61-1 [27.2 MB]\n",
            "Get:13 file:/var/cuda-repo-8-0-local-ga2  cuda-cublas-dev-8-0 8.0.61-1 [57.4 MB]\n",
            "Get:14 file:/var/cuda-repo-8-0-local-ga2  cuda-cufft-8-0 8.0.61-1 [117 MB]\n",
            "Get:15 file:/var/cuda-repo-8-0-local-ga2  cuda-cufft-dev-8-0 8.0.61-1 [94.8 MB]\n",
            "Get:16 file:/var/cuda-repo-8-0-local-ga2  cuda-curand-8-0 8.0.61-1 [43.7 MB]\n",
            "Get:17 file:/var/cuda-repo-8-0-local-ga2  cuda-curand-dev-8-0 8.0.61-1 [67.7 MB]\n",
            "Get:18 file:/var/cuda-repo-8-0-local-ga2  cuda-cusparse-8-0 8.0.61-1 [28.8 MB]\n",
            "Get:19 file:/var/cuda-repo-8-0-local-ga2  cuda-cusparse-dev-8-0 8.0.61-1 [29.6 MB]\n",
            "Get:20 file:/var/cuda-repo-8-0-local-ga2  cuda-npp-8-0 8.0.61-1 [157 MB]\n",
            "Get:21 file:/var/cuda-repo-8-0-local-ga2  cuda-npp-dev-8-0 8.0.61-1 [82.3 MB]\n",
            "Get:22 file:/var/cuda-repo-8-0-local-ga2  cuda-samples-8-0 8.0.61-1 [101 MB]\n",
            "Get:23 file:/var/cuda-repo-8-0-local-ga2  cuda-documentation-8-0 8.0.61-1 [113 MB]\n",
            "Get:24 file:/var/cuda-repo-8-0-local-ga2  cuda-nvml-dev-8-0 8.0.61-1 [48.4 kB]\n",
            "Get:25 file:/var/cuda-repo-8-0-local-ga2  cuda-nvgraph-8-0 8.0.61-1 [2,948 kB]\n",
            "Get:26 file:/var/cuda-repo-8-0-local-ga2  cuda-nvgraph-dev-8-0 8.0.61-1 [3,028 kB]\n",
            "Get:27 file:/var/cuda-repo-8-0-local-ga2  cuda-visual-tools-8-0 8.0.61-1 [286 MB]\n",
            "Get:28 file:/var/cuda-repo-8-0-local-ga2  cuda-toolkit-8-0 8.0.61-1 [2,892 B]\n",
            "Get:29 file:/var/cuda-repo-8-0-local-ga2  cuda-runtime-8-0 8.0.61-1 [2,574 B]\n",
            "Get:30 file:/var/cuda-repo-8-0-local-ga2  cuda-demo-suite-8-0 8.0.61-1 [4,988 kB]\n",
            "Get:31 file:/var/cuda-repo-8-0-local-ga2  cuda-8-0 8.0.61-1 [2,556 B]\n",
            "Extracting templates from packages: 100%\n",
            "Selecting previously unselected package cuda-license-8-0.\n",
            "(Reading database ... 144722 files and directories currently installed.)\n",
            "Preparing to unpack .../00-cuda-license-8-0_8.0.61-1_amd64.deb ...\n",
            "Unpacking cuda-license-8-0 (8.0.61-1) ...\n",
            "Selecting previously unselected package cuda-misc-headers-8-0.\n",
            "Preparing to unpack .../01-cuda-misc-headers-8-0_8.0.61-1_amd64.deb ...\n",
            "Unpacking cuda-misc-headers-8-0 (8.0.61-1) ...\n",
            "Selecting previously unselected package cuda-core-8-0.\n",
            "Preparing to unpack .../02-cuda-core-8-0_8.0.61-1_amd64.deb ...\n",
            "Unpacking cuda-core-8-0 (8.0.61-1) ...\n",
            "Selecting previously unselected package cuda-cudart-8-0.\n",
            "Preparing to unpack .../03-cuda-cudart-8-0_8.0.61-1_amd64.deb ...\n",
            "Unpacking cuda-cudart-8-0 (8.0.61-1) ...\n",
            "Selecting previously unselected package cuda-driver-dev-8-0.\n",
            "Preparing to unpack .../04-cuda-driver-dev-8-0_8.0.61-1_amd64.deb ...\n",
            "Unpacking cuda-driver-dev-8-0 (8.0.61-1) ...\n",
            "Selecting previously unselected package cuda-cudart-dev-8-0.\n",
            "Preparing to unpack .../05-cuda-cudart-dev-8-0_8.0.61-1_amd64.deb ...\n",
            "Unpacking cuda-cudart-dev-8-0 (8.0.61-1) ...\n",
            "Selecting previously unselected package cuda-command-line-tools-8-0.\n",
            "Preparing to unpack .../06-cuda-command-line-tools-8-0_8.0.61-1_amd64.deb ...\n",
            "Unpacking cuda-command-line-tools-8-0 (8.0.61-1) ...\n",
            "Selecting previously unselected package cuda-nvrtc-8-0.\n",
            "Preparing to unpack .../07-cuda-nvrtc-8-0_8.0.61-1_amd64.deb ...\n",
            "Unpacking cuda-nvrtc-8-0 (8.0.61-1) ...\n",
            "Selecting previously unselected package cuda-nvrtc-dev-8-0.\n",
            "Preparing to unpack .../08-cuda-nvrtc-dev-8-0_8.0.61-1_amd64.deb ...\n",
            "Unpacking cuda-nvrtc-dev-8-0 (8.0.61-1) ...\n",
            "Selecting previously unselected package cuda-cusolver-8-0.\n",
            "Preparing to unpack .../09-cuda-cusolver-8-0_8.0.61-1_amd64.deb ...\n",
            "Unpacking cuda-cusolver-8-0 (8.0.61-1) ...\n",
            "Selecting previously unselected package cuda-cusolver-dev-8-0.\n",
            "Preparing to unpack .../10-cuda-cusolver-dev-8-0_8.0.61-1_amd64.deb ...\n",
            "Unpacking cuda-cusolver-dev-8-0 (8.0.61-1) ...\n",
            "Selecting previously unselected package cuda-cublas-8-0.\n",
            "Preparing to unpack .../11-cuda-cublas-8-0_8.0.61-1_amd64.deb ...\n",
            "Unpacking cuda-cublas-8-0 (8.0.61-1) ...\n",
            "Selecting previously unselected package cuda-cublas-dev-8-0.\n",
            "Preparing to unpack .../12-cuda-cublas-dev-8-0_8.0.61-1_amd64.deb ...\n",
            "Unpacking cuda-cublas-dev-8-0 (8.0.61-1) ...\n",
            "Selecting previously unselected package cuda-cufft-8-0.\n",
            "Preparing to unpack .../13-cuda-cufft-8-0_8.0.61-1_amd64.deb ...\n",
            "Unpacking cuda-cufft-8-0 (8.0.61-1) ...\n",
            "Selecting previously unselected package cuda-cufft-dev-8-0.\n",
            "Preparing to unpack .../14-cuda-cufft-dev-8-0_8.0.61-1_amd64.deb ...\n",
            "Unpacking cuda-cufft-dev-8-0 (8.0.61-1) ...\n",
            "Selecting previously unselected package cuda-curand-8-0.\n",
            "Preparing to unpack .../15-cuda-curand-8-0_8.0.61-1_amd64.deb ...\n",
            "Unpacking cuda-curand-8-0 (8.0.61-1) ...\n",
            "Selecting previously unselected package cuda-curand-dev-8-0.\n",
            "Preparing to unpack .../16-cuda-curand-dev-8-0_8.0.61-1_amd64.deb ...\n",
            "Unpacking cuda-curand-dev-8-0 (8.0.61-1) ...\n",
            "Selecting previously unselected package cuda-cusparse-8-0.\n",
            "Preparing to unpack .../17-cuda-cusparse-8-0_8.0.61-1_amd64.deb ...\n",
            "Unpacking cuda-cusparse-8-0 (8.0.61-1) ...\n",
            "Selecting previously unselected package cuda-cusparse-dev-8-0.\n",
            "Preparing to unpack .../18-cuda-cusparse-dev-8-0_8.0.61-1_amd64.deb ...\n",
            "Unpacking cuda-cusparse-dev-8-0 (8.0.61-1) ...\n",
            "Selecting previously unselected package cuda-npp-8-0.\n",
            "Preparing to unpack .../19-cuda-npp-8-0_8.0.61-1_amd64.deb ...\n",
            "Unpacking cuda-npp-8-0 (8.0.61-1) ...\n",
            "Selecting previously unselected package cuda-npp-dev-8-0.\n",
            "Preparing to unpack .../20-cuda-npp-dev-8-0_8.0.61-1_amd64.deb ...\n",
            "Unpacking cuda-npp-dev-8-0 (8.0.61-1) ...\n",
            "Selecting previously unselected package cuda-samples-8-0.\n",
            "Preparing to unpack .../21-cuda-samples-8-0_8.0.61-1_amd64.deb ...\n",
            "Unpacking cuda-samples-8-0 (8.0.61-1) ...\n",
            "Selecting previously unselected package cuda-documentation-8-0.\n",
            "Preparing to unpack .../22-cuda-documentation-8-0_8.0.61-1_amd64.deb ...\n",
            "Unpacking cuda-documentation-8-0 (8.0.61-1) ...\n",
            "Selecting previously unselected package cuda-nvml-dev-8-0.\n",
            "Preparing to unpack .../23-cuda-nvml-dev-8-0_8.0.61-1_amd64.deb ...\n",
            "Unpacking cuda-nvml-dev-8-0 (8.0.61-1) ...\n",
            "Selecting previously unselected package cuda-nvgraph-8-0.\n",
            "Preparing to unpack .../24-cuda-nvgraph-8-0_8.0.61-1_amd64.deb ...\n",
            "Unpacking cuda-nvgraph-8-0 (8.0.61-1) ...\n",
            "Selecting previously unselected package cuda-nvgraph-dev-8-0.\n",
            "Preparing to unpack .../25-cuda-nvgraph-dev-8-0_8.0.61-1_amd64.deb ...\n",
            "Unpacking cuda-nvgraph-dev-8-0 (8.0.61-1) ...\n",
            "Selecting previously unselected package cuda-visual-tools-8-0.\n",
            "Preparing to unpack .../26-cuda-visual-tools-8-0_8.0.61-1_amd64.deb ...\n",
            "Unpacking cuda-visual-tools-8-0 (8.0.61-1) ...\n",
            "Selecting previously unselected package cuda-toolkit-8-0.\n",
            "Preparing to unpack .../27-cuda-toolkit-8-0_8.0.61-1_amd64.deb ...\n",
            "Unpacking cuda-toolkit-8-0 (8.0.61-1) ...\n",
            "Selecting previously unselected package cuda-runtime-8-0.\n",
            "Preparing to unpack .../28-cuda-runtime-8-0_8.0.61-1_amd64.deb ...\n",
            "Unpacking cuda-runtime-8-0 (8.0.61-1) ...\n",
            "Selecting previously unselected package cuda-demo-suite-8-0.\n",
            "Preparing to unpack .../29-cuda-demo-suite-8-0_8.0.61-1_amd64.deb ...\n",
            "Unpacking cuda-demo-suite-8-0 (8.0.61-1) ...\n",
            "Selecting previously unselected package cuda-8-0.\n",
            "Preparing to unpack .../30-cuda-8-0_8.0.61-1_amd64.deb ...\n",
            "Unpacking cuda-8-0 (8.0.61-1) ...\n",
            "Setting up cuda-license-8-0 (8.0.61-1) ...\n",
            "*** LICENSE AGREEMENT ***\n",
            "By using this software you agree to fully comply with the terms and \n",
            "conditions of the EULA (End User License Agreement). The EULA is located\n",
            "at /usr/local/cuda-8.0/doc/EULA.txt. The EULA can also be found at\n",
            "http://docs.nvidia.com/cuda/eula/index.html. If you do not agree to the\n",
            "terms and conditions of the EULA, do not use the software.\n",
            "\n",
            "Setting up cuda-nvgraph-8-0 (8.0.61-1) ...\n",
            "Setting up cuda-cufft-8-0 (8.0.61-1) ...\n",
            "Setting up cuda-npp-8-0 (8.0.61-1) ...\n",
            "Setting up cuda-nvgraph-dev-8-0 (8.0.61-1) ...\n",
            "Setting up cuda-cudart-8-0 (8.0.61-1) ...\n",
            "Setting up cuda-driver-dev-8-0 (8.0.61-1) ...\n",
            "Setting up cuda-cusolver-8-0 (8.0.61-1) ...\n",
            "Setting up cuda-nvml-dev-8-0 (8.0.61-1) ...\n",
            "Setting up cuda-cufft-dev-8-0 (8.0.61-1) ...\n",
            "Setting up cuda-misc-headers-8-0 (8.0.61-1) ...\n",
            "Setting up cuda-cusparse-8-0 (8.0.61-1) ...\n",
            "Setting up cuda-nvrtc-8-0 (8.0.61-1) ...\n",
            "Setting up cuda-nvrtc-dev-8-0 (8.0.61-1) ...\n",
            "Setting up cuda-curand-8-0 (8.0.61-1) ...\n",
            "Setting up cuda-cublas-8-0 (8.0.61-1) ...\n",
            "Setting up cuda-cusolver-dev-8-0 (8.0.61-1) ...\n",
            "Setting up cuda-core-8-0 (8.0.61-1) ...\n",
            "Setting up cuda-curand-dev-8-0 (8.0.61-1) ...\n",
            "Setting up cuda-npp-dev-8-0 (8.0.61-1) ...\n",
            "Setting up cuda-cudart-dev-8-0 (8.0.61-1) ...\n",
            "Setting up cuda-cublas-dev-8-0 (8.0.61-1) ...\n",
            "Setting up cuda-runtime-8-0 (8.0.61-1) ...\n",
            "Setting up cuda-cusparse-dev-8-0 (8.0.61-1) ...\n",
            "Setting up cuda-command-line-tools-8-0 (8.0.61-1) ...\n",
            "Setting up cuda-demo-suite-8-0 (8.0.61-1) ...\n",
            "Setting up cuda-samples-8-0 (8.0.61-1) ...\n",
            "Setting up cuda-visual-tools-8-0 (8.0.61-1) ...\n",
            "Setting up cuda-documentation-8-0 (8.0.61-1) ...\n",
            "Setting up cuda-toolkit-8-0 (8.0.61-1) ...\n",
            "Setting up cuda-8-0 (8.0.61-1) ...\n",
            "Processing triggers for libc-bin (2.27-3ubuntu1.2) ...\n",
            "/sbin/ldconfig.real: /usr/local/lib/python3.6/dist-packages/ideep4py/lib/libmkldnn.so.0 is not a symbolic link\n",
            "\n"
          ],
          "name": "stdout"
        }
      ]
    },
    {
      "cell_type": "code",
      "metadata": {
        "id": "tQSP1pmP8Zfu"
      },
      "source": [
        "# Install [PyTorch](https://pytorch.org/) with Cuda 8.0 support"
      ],
      "execution_count": null,
      "outputs": []
    },
    {
      "cell_type": "code",
      "metadata": {
        "id": "Oq8NWTAK8r9_",
        "outputId": "c7b7162c-9ba1-4108-9d5c-b4561ae06d27",
        "colab": {
          "base_uri": "https://localhost:8080/"
        }
      },
      "source": [
        "!nvcc --version"
      ],
      "execution_count": null,
      "outputs": [
        {
          "output_type": "stream",
          "text": [
            "nvcc: NVIDIA (R) Cuda compiler driver\n",
            "Copyright (c) 2005-2016 NVIDIA Corporation\n",
            "Built on Tue_Jan_10_13:22:03_CST_2017\n",
            "Cuda compilation tools, release 8.0, V8.0.61\n"
          ],
          "name": "stdout"
        }
      ]
    },
    {
      "cell_type": "code",
      "metadata": {
        "id": "6iIQkjsp8Zj-",
        "outputId": "c617640a-6764-436d-d222-a6d994be1c32",
        "colab": {
          "base_uri": "https://localhost:8080/",
          "height": 283
        }
      },
      "source": [
        "!pip install torch==0.4.0"
      ],
      "execution_count": 10,
      "outputs": [
        {
          "output_type": "stream",
          "text": [
            "Collecting torch==0.4.0\n",
            "\u001b[?25l  Downloading https://files.pythonhosted.org/packages/69/43/380514bd9663f1bf708abeb359b8b48d3fabb1c8e95bb3427a980a064c57/torch-0.4.0-cp36-cp36m-manylinux1_x86_64.whl (484.0MB)\n",
            "\u001b[K     |████████████████████████████████| 484.0MB 30kB/s \n",
            "\u001b[31mERROR: torchvision 0.7.0+cu101 has requirement torch==1.6.0, but you'll have torch 0.4.0 which is incompatible.\u001b[0m\n",
            "\u001b[31mERROR: fastai 1.0.61 has requirement torch>=1.0.0, but you'll have torch 0.4.0 which is incompatible.\u001b[0m\n",
            "\u001b[?25hInstalling collected packages: torch\n",
            "  Found existing installation: torch 1.6.0+cu101\n",
            "    Uninstalling torch-1.6.0+cu101:\n",
            "      Successfully uninstalled torch-1.6.0+cu101\n",
            "Successfully installed torch-0.4.0\n"
          ],
          "name": "stdout"
        },
        {
          "output_type": "display_data",
          "data": {
            "application/vnd.colab-display-data+json": {
              "pip_warning": {
                "packages": [
                  "torch"
                ]
              }
            }
          },
          "metadata": {
            "tags": []
          }
        }
      ]
    },
    {
      "cell_type": "code",
      "metadata": {
        "id": "PMsCOWy8B4bF",
        "outputId": "d341b7d4-75aa-42eb-b29a-00c9167cafc0",
        "colab": {
          "base_uri": "https://localhost:8080/"
        }
      },
      "source": [
        "!nvcc --version"
      ],
      "execution_count": 1,
      "outputs": [
        {
          "output_type": "stream",
          "text": [
            "nvcc: NVIDIA (R) Cuda compiler driver\n",
            "Copyright (c) 2005-2016 NVIDIA Corporation\n",
            "Built on Tue_Jan_10_13:22:03_CST_2017\n",
            "Cuda compilation tools, release 8.0, V8.0.61\n"
          ],
          "name": "stdout"
        }
      ]
    },
    {
      "cell_type": "code",
      "metadata": {
        "id": "l6jpr5Y28ZdE",
        "outputId": "549a02de-372f-4382-fc2e-904b8f8cc80a",
        "colab": {
          "base_uri": "https://localhost:8080/"
        }
      },
      "source": [
        "import torch\n",
        "from torch import nn\n",
        "print(torch.__version__)"
      ],
      "execution_count": 2,
      "outputs": [
        {
          "output_type": "stream",
          "text": [
            "0.4.0\n"
          ],
          "name": "stdout"
        }
      ]
    },
    {
      "cell_type": "code",
      "metadata": {
        "id": "QtRBY9x2_0V-",
        "outputId": "bc1462d4-feec-424d-9426-e7ade85f0728",
        "colab": {
          "base_uri": "https://localhost:8080/"
        }
      },
      "source": [
        "# Drive already mounted at /content/gdrive; to attempt to forcibly remount, call drive.mount(\"/content/gdrive\", force_remount=True).\n",
        "from google.colab import drive\n",
        "drive.mount(\"/content/gdrive\")\n",
        "# gdrivepath=\"/content/gdrive/My Drive/Colab Notebooks/S14/\"\n",
        "gdrivepath=\"/content/gdrive/My Drive/ColabFiles/S14/\"\n",
        "import os \n",
        "os.chdir(gdrivepath)\n",
        "!pwd\n",
        "!ls"
      ],
      "execution_count": 3,
      "outputs": [
        {
          "output_type": "stream",
          "text": [
            "Mounted at /content/gdrive\n",
            "/content/gdrive/My Drive/ColabFiles/S14\n",
            "MiDaS\tplanercnn\t     S14_CodeFinal_Midas.ipynb\n",
            "Output\tS14_CodeFinal.ipynb  S14_CodeFinal_PlanerCnn.ipynb\n"
          ],
          "name": "stdout"
        }
      ]
    },
    {
      "cell_type": "code",
      "metadata": {
        "id": "38GJaHkT9ZjX"
      },
      "source": [
        "# Setup PlanerCNN"
      ],
      "execution_count": null,
      "outputs": []
    },
    {
      "cell_type": "code",
      "metadata": {
        "id": "Gk6J69JNI-mT",
        "outputId": "98daa8a3-a2fa-4e0f-feb9-ace1357d2aad",
        "colab": {
          "base_uri": "https://localhost:8080/"
        }
      },
      "source": [
        "!git clone https://github.com/NVlabs/planercnn.git"
      ],
      "execution_count": null,
      "outputs": [
        {
          "output_type": "stream",
          "text": [
            "Cloning into 'planercnn'...\n",
            "remote: Enumerating objects: 150, done.\u001b[K\n",
            "remote: Total 150 (delta 0), reused 0 (delta 0), pack-reused 150\u001b[K\n",
            "Receiving objects: 100% (150/150), 1.33 MiB | 24.68 MiB/s, done.\n",
            "Resolving deltas: 100% (51/51), done.\n"
          ],
          "name": "stdout"
        }
      ]
    },
    {
      "cell_type": "code",
      "metadata": {
        "id": "sBDZBauT9O6i",
        "outputId": "3e26063e-6804-4f46-a9f2-6d61bed50345",
        "colab": {
          "base_uri": "https://localhost:8080/"
        }
      },
      "source": [
        "!pwd\n",
        "!ls"
      ],
      "execution_count": 4,
      "outputs": [
        {
          "output_type": "stream",
          "text": [
            "/content/gdrive/My Drive/ColabFiles/S14\n",
            "MiDaS\tplanercnn\t     S14_CodeFinal_Midas.ipynb\n",
            "Output\tS14_CodeFinal.ipynb  S14_CodeFinal_PlanerCnn.ipynb\n"
          ],
          "name": "stdout"
        }
      ]
    },
    {
      "cell_type": "code",
      "metadata": {
        "id": "tS2dF2vl8DkA",
        "outputId": "10e737f3-fbdf-4640-f944-c76f43f2f12a",
        "colab": {
          "base_uri": "https://localhost:8080/"
        }
      },
      "source": [
        "!ls planercnn  "
      ],
      "execution_count": 5,
      "outputs": [
        {
          "output_type": "stream",
          "text": [
            " anchors\t        evaluate_utils.py   Readme.txt\n",
            " cffirequirements.txt   example_images\t    requirements.txt\n",
            " checkpoint\t        LICENSE.md\t    roialign\n",
            " config.py\t        models\t\t    test\n",
            " customimages\t        nms\t\t    train_planercnn.py\n",
            " data_prep\t        options.py\t    utils.py\n",
            " datasets\t        plane_utils.py\t    visualize_utils.py\n",
            "'evaluate - Copy.py'    __pycache__\n",
            " evaluate.py\t        README.md\n"
          ],
          "name": "stdout"
        }
      ]
    },
    {
      "cell_type": "code",
      "metadata": {
        "id": "kaqLVxBh_CEJ"
      },
      "source": [
        "import os \n",
        "os.chdir(\"planercnn\")"
      ],
      "execution_count": 6,
      "outputs": []
    },
    {
      "cell_type": "code",
      "metadata": {
        "id": "i8iSd_9E_CGu",
        "outputId": "a49e6a69-00f3-4426-9f8d-12289ebb547f",
        "colab": {
          "base_uri": "https://localhost:8080/"
        }
      },
      "source": [
        "!pwd\n",
        "!ls"
      ],
      "execution_count": null,
      "outputs": [
        {
          "output_type": "stream",
          "text": [
            "/content/gdrive/My Drive/ColabFiles/S14/planercnn\n",
            " anchors\t        evaluate_utils.py   README.md\n",
            " cffirequirements.txt   example_images\t    Readme.txt\n",
            " config.py\t        LICENSE.md\t    requirements.txt\n",
            " data_prep\t        models\t\t    roialign\n",
            " datasets\t        nms\t\t    train_planercnn.py\n",
            "'evaluate - Copy.py'    options.py\t    utils.py\n",
            " evaluate.py\t        plane_utils.py\t    visualize_utils.py\n"
          ],
          "name": "stdout"
        }
      ]
    },
    {
      "cell_type": "code",
      "metadata": {
        "id": "Cvbv_XuB_CJT",
        "outputId": "6cec0e35-810e-4a4e-e08c-5daef3091e75",
        "colab": {
          "base_uri": "https://localhost:8080/",
          "height": 1000
        }
      },
      "source": [
        "!pip install -r requirements.txt"
      ],
      "execution_count": 7,
      "outputs": [
        {
          "output_type": "stream",
          "text": [
            "Collecting cffi==1.11.5\n",
            "\u001b[?25l  Downloading https://files.pythonhosted.org/packages/6d/c0/47db8f624f3e4e2f3f27be03a93379d1ba16a1450a7b1aacfa0366e2c0dd/cffi-1.11.5-cp36-cp36m-manylinux1_x86_64.whl (421kB)\n",
            "\u001b[K     |████████████████████████████████| 430kB 11.4MB/s \n",
            "\u001b[?25hCollecting numpy==1.15.4\n",
            "\u001b[?25l  Downloading https://files.pythonhosted.org/packages/ff/7f/9d804d2348471c67a7d8b5f84f9bc59fd1cefa148986f2b74552f8573555/numpy-1.15.4-cp36-cp36m-manylinux1_x86_64.whl (13.9MB)\n",
            "\u001b[K     |████████████████████████████████| 13.9MB 238kB/s \n",
            "\u001b[?25hCollecting opencv-python==3.4.4.19\n",
            "\u001b[?25l  Downloading https://files.pythonhosted.org/packages/85/16/446110984e7a814a9e12862bd6da8d09501d274867b55223e48ee10cd752/opencv_python-3.4.4.19-cp36-cp36m-manylinux1_x86_64.whl (25.4MB)\n",
            "\u001b[K     |████████████████████████████████| 25.4MB 120kB/s \n",
            "\u001b[?25hCollecting scikit-image==0.14.1\n",
            "\u001b[?25l  Downloading https://files.pythonhosted.org/packages/9c/90/553120309c53bdfca25c9c50769ae40a538a90c24db8c082468aec898d00/scikit_image-0.14.1-cp36-cp36m-manylinux1_x86_64.whl (25.3MB)\n",
            "\u001b[K     |████████████████████████████████| 25.3MB 130kB/s \n",
            "\u001b[?25hCollecting torch==0.4.1\n",
            "\u001b[?25l  Downloading https://files.pythonhosted.org/packages/49/0e/e382bcf1a6ae8225f50b99cc26effa2d4cc6d66975ccf3fa9590efcbedce/torch-0.4.1-cp36-cp36m-manylinux1_x86_64.whl (519.5MB)\n",
            "\u001b[K     |████████████████████████████████| 519.5MB 32kB/s \n",
            "\u001b[?25hCollecting tqdm==4.28.1\n",
            "\u001b[?25l  Downloading https://files.pythonhosted.org/packages/91/55/8cb23a97301b177e9c8e3226dba45bb454411de2cbd25746763267f226c2/tqdm-4.28.1-py2.py3-none-any.whl (45kB)\n",
            "\u001b[K     |████████████████████████████████| 51kB 7.9MB/s \n",
            "\u001b[?25hRequirement already satisfied: pycparser in /usr/local/lib/python3.6/dist-packages (from cffi==1.11.5->-r requirements.txt (line 1)) (2.20)\n",
            "Requirement already satisfied: PyWavelets>=0.4.0 in /usr/local/lib/python3.6/dist-packages (from scikit-image==0.14.1->-r requirements.txt (line 4)) (1.1.1)\n",
            "Requirement already satisfied: dask[array]>=0.9.0 in /usr/local/lib/python3.6/dist-packages (from scikit-image==0.14.1->-r requirements.txt (line 4)) (2.12.0)\n",
            "Requirement already satisfied: cloudpickle>=0.2.1 in /usr/local/lib/python3.6/dist-packages (from scikit-image==0.14.1->-r requirements.txt (line 4)) (1.3.0)\n",
            "Requirement already satisfied: scipy>=0.17.0 in /usr/local/lib/python3.6/dist-packages (from scikit-image==0.14.1->-r requirements.txt (line 4)) (1.4.1)\n",
            "Requirement already satisfied: networkx>=1.8 in /usr/local/lib/python3.6/dist-packages (from scikit-image==0.14.1->-r requirements.txt (line 4)) (2.5)\n",
            "Requirement already satisfied: six>=1.10.0 in /usr/local/lib/python3.6/dist-packages (from scikit-image==0.14.1->-r requirements.txt (line 4)) (1.15.0)\n",
            "Requirement already satisfied: matplotlib>=2.0.0 in /usr/local/lib/python3.6/dist-packages (from scikit-image==0.14.1->-r requirements.txt (line 4)) (3.2.2)\n",
            "Requirement already satisfied: pillow>=4.3.0 in /usr/local/lib/python3.6/dist-packages (from scikit-image==0.14.1->-r requirements.txt (line 4)) (7.0.0)\n",
            "Requirement already satisfied: toolz>=0.7.3; extra == \"array\" in /usr/local/lib/python3.6/dist-packages (from dask[array]>=0.9.0->scikit-image==0.14.1->-r requirements.txt (line 4)) (0.11.1)\n",
            "Requirement already satisfied: decorator>=4.3.0 in /usr/local/lib/python3.6/dist-packages (from networkx>=1.8->scikit-image==0.14.1->-r requirements.txt (line 4)) (4.4.2)\n",
            "Requirement already satisfied: python-dateutil>=2.1 in /usr/local/lib/python3.6/dist-packages (from matplotlib>=2.0.0->scikit-image==0.14.1->-r requirements.txt (line 4)) (2.8.1)\n",
            "Requirement already satisfied: pyparsing!=2.0.4,!=2.1.2,!=2.1.6,>=2.0.1 in /usr/local/lib/python3.6/dist-packages (from matplotlib>=2.0.0->scikit-image==0.14.1->-r requirements.txt (line 4)) (2.4.7)\n",
            "Requirement already satisfied: cycler>=0.10 in /usr/local/lib/python3.6/dist-packages (from matplotlib>=2.0.0->scikit-image==0.14.1->-r requirements.txt (line 4)) (0.10.0)\n",
            "Requirement already satisfied: kiwisolver>=1.0.1 in /usr/local/lib/python3.6/dist-packages (from matplotlib>=2.0.0->scikit-image==0.14.1->-r requirements.txt (line 4)) (1.2.0)\n",
            "\u001b[31mERROR: umap-learn 0.4.6 has requirement numpy>=1.17, but you'll have numpy 1.15.4 which is incompatible.\u001b[0m\n",
            "\u001b[31mERROR: torchvision 0.7.0+cu101 has requirement torch==1.6.0, but you'll have torch 0.4.1 which is incompatible.\u001b[0m\n",
            "\u001b[31mERROR: tensorflow 2.3.0 has requirement numpy<1.19.0,>=1.16.0, but you'll have numpy 1.15.4 which is incompatible.\u001b[0m\n",
            "\u001b[31mERROR: spacy 2.2.4 has requirement tqdm<5.0.0,>=4.38.0, but you'll have tqdm 4.28.1 which is incompatible.\u001b[0m\n",
            "\u001b[31mERROR: rpy2 3.2.7 has requirement cffi>=1.13.1, but you'll have cffi 1.11.5 which is incompatible.\u001b[0m\n",
            "\u001b[31mERROR: plotnine 0.6.0 has requirement numpy>=1.16.0, but you'll have numpy 1.15.4 which is incompatible.\u001b[0m\n",
            "\u001b[31mERROR: fbprophet 0.7.1 has requirement tqdm>=4.36.1, but you'll have tqdm 4.28.1 which is incompatible.\u001b[0m\n",
            "\u001b[31mERROR: fastai 1.0.61 has requirement torch>=1.0.0, but you'll have torch 0.4.1 which is incompatible.\u001b[0m\n",
            "\u001b[31mERROR: datascience 0.10.6 has requirement folium==0.2.1, but you'll have folium 0.8.3 which is incompatible.\u001b[0m\n",
            "\u001b[31mERROR: astropy 4.1 has requirement numpy>=1.16, but you'll have numpy 1.15.4 which is incompatible.\u001b[0m\n",
            "\u001b[31mERROR: albumentations 0.1.12 has requirement imgaug<0.2.7,>=0.2.5, but you'll have imgaug 0.2.9 which is incompatible.\u001b[0m\n",
            "Installing collected packages: cffi, numpy, opencv-python, scikit-image, torch, tqdm\n",
            "  Found existing installation: cffi 1.14.3\n",
            "    Uninstalling cffi-1.14.3:\n",
            "      Successfully uninstalled cffi-1.14.3\n",
            "  Found existing installation: numpy 1.18.5\n",
            "    Uninstalling numpy-1.18.5:\n",
            "      Successfully uninstalled numpy-1.18.5\n",
            "  Found existing installation: opencv-python 4.1.2.30\n",
            "    Uninstalling opencv-python-4.1.2.30:\n",
            "      Successfully uninstalled opencv-python-4.1.2.30\n",
            "  Found existing installation: scikit-image 0.16.2\n",
            "    Uninstalling scikit-image-0.16.2:\n",
            "      Successfully uninstalled scikit-image-0.16.2\n",
            "  Found existing installation: torch 0.4.0\n",
            "    Uninstalling torch-0.4.0:\n",
            "      Successfully uninstalled torch-0.4.0\n",
            "  Found existing installation: tqdm 4.41.1\n",
            "    Uninstalling tqdm-4.41.1:\n",
            "      Successfully uninstalled tqdm-4.41.1\n",
            "Successfully installed cffi-1.11.5 numpy-1.15.4 opencv-python-3.4.4.19 scikit-image-0.14.1 torch-0.4.1 tqdm-4.28.1\n"
          ],
          "name": "stdout"
        },
        {
          "output_type": "display_data",
          "data": {
            "application/vnd.colab-display-data+json": {
              "pip_warning": {
                "packages": [
                  "cffi",
                  "numpy",
                  "torch"
                ]
              }
            }
          },
          "metadata": {
            "tags": []
          }
        }
      ]
    },
    {
      "cell_type": "code",
      "metadata": {
        "id": "soDU2X5zn3Wg",
        "outputId": "9ad8daf8-f70a-4c44-8cfc-be80abfd0d60",
        "colab": {
          "base_uri": "https://localhost:8080/"
        }
      },
      "source": [
        "!nvcc --version"
      ],
      "execution_count": 1,
      "outputs": [
        {
          "output_type": "stream",
          "text": [
            "nvcc: NVIDIA (R) Cuda compiler driver\n",
            "Copyright (c) 2005-2016 NVIDIA Corporation\n",
            "Built on Tue_Jan_10_13:22:03_CST_2017\n",
            "Cuda compilation tools, release 8.0, V8.0.61\n"
          ],
          "name": "stdout"
        }
      ]
    },
    {
      "cell_type": "code",
      "metadata": {
        "id": "5fSSnBrCg2P_",
        "outputId": "aef1f97f-e2e7-4c14-e2be-1a5041c7f7a9",
        "colab": {
          "base_uri": "https://localhost:8080/"
        }
      },
      "source": [
        "# Drive already mounted at /content/gdrive; to attempt to forcibly remount, call drive.mount(\"/content/gdrive\", force_remount=True).\n",
        "from google.colab import drive\n",
        "drive.mount(\"/content/gdrive\")\n",
        "#gdrivepath=\"/content/gdrive/My Drive/Colab Notebooks/S14/\"\n",
        "gdrivepath=\"/content/gdrive/My Drive/ColabFiles/S14\"\n",
        "import os \n",
        "os.chdir(gdrivepath)\n",
        "!pwd\n",
        "!ls"
      ],
      "execution_count": 2,
      "outputs": [
        {
          "output_type": "stream",
          "text": [
            "Drive already mounted at /content/gdrive; to attempt to forcibly remount, call drive.mount(\"/content/gdrive\", force_remount=True).\n",
            "/content/gdrive/My Drive/ColabFiles/S14\n",
            "MiDaS\tplanercnn\t     S14_CodeFinal_Midas.ipynb\n",
            "Output\tS14_CodeFinal.ipynb  S14_CodeFinal_PlanerCnn.ipynb\n"
          ],
          "name": "stdout"
        }
      ]
    },
    {
      "cell_type": "code",
      "metadata": {
        "id": "BRUYIBW6f_Ye"
      },
      "source": [
        "!pip install torch==0.4.1"
      ],
      "execution_count": null,
      "outputs": []
    },
    {
      "cell_type": "code",
      "metadata": {
        "id": "4IsTso3n7lse",
        "outputId": "93678003-0516-4d01-9d25-de8e62690c54",
        "colab": {
          "base_uri": "https://localhost:8080/"
        }
      },
      "source": [
        "import torch\n",
        "print(torch.__version__)"
      ],
      "execution_count": 3,
      "outputs": [
        {
          "output_type": "stream",
          "text": [
            "0.4.1\n"
          ],
          "name": "stdout"
        }
      ]
    },
    {
      "cell_type": "code",
      "metadata": {
        "id": "3DBpgfrn_nYi",
        "outputId": "50388eb9-627a-4281-eaee-3ad94c528399",
        "colab": {
          "base_uri": "https://localhost:8080/"
        }
      },
      "source": [
        "!pwd\n",
        "!ls"
      ],
      "execution_count": 4,
      "outputs": [
        {
          "output_type": "stream",
          "text": [
            "/content/gdrive/My Drive/ColabFiles/S14\n",
            "MiDaS\tplanercnn\t     S14_CodeFinal_Midas.ipynb\n",
            "Output\tS14_CodeFinal.ipynb  S14_CodeFinal_PlanerCnn.ipynb\n"
          ],
          "name": "stdout"
        }
      ]
    },
    {
      "cell_type": "code",
      "metadata": {
        "id": "IK-8b3gu7lsg"
      },
      "source": [
        "import os\n",
        "os.chdir(\"planercnn/nms/src/cuda/\")"
      ],
      "execution_count": 5,
      "outputs": []
    },
    {
      "cell_type": "code",
      "metadata": {
        "id": "Yhospz-87lsi",
        "outputId": "43c528ca-9ba4-4137-ac76-316ed01fea39",
        "colab": {
          "base_uri": "https://localhost:8080/"
        }
      },
      "source": [
        "!pwd\n",
        "!ls"
      ],
      "execution_count": 6,
      "outputs": [
        {
          "output_type": "stream",
          "text": [
            "/content/gdrive/My Drive/ColabFiles/S14/planercnn/nms/src/cuda\n",
            "nms_kernel.cu  nms_kernel.cu.o\tnms_kernel.h\n"
          ],
          "name": "stdout"
        }
      ]
    },
    {
      "cell_type": "code",
      "metadata": {
        "id": "yqxSkYnvBFlM",
        "outputId": "f420cd46-21cc-4f47-b5dc-a43577732911",
        "colab": {
          "base_uri": "https://localhost:8080/"
        }
      },
      "source": [
        "!nvcc --version"
      ],
      "execution_count": 7,
      "outputs": [
        {
          "output_type": "stream",
          "text": [
            "nvcc: NVIDIA (R) Cuda compiler driver\n",
            "Copyright (c) 2005-2016 NVIDIA Corporation\n",
            "Built on Tue_Jan_10_13:22:03_CST_2017\n",
            "Cuda compilation tools, release 8.0, V8.0.61\n"
          ],
          "name": "stdout"
        }
      ]
    },
    {
      "cell_type": "markdown",
      "metadata": {
        "id": "AiNpo4W3Ddfb"
      },
      "source": [
        "# GPU\tarch\n",
        "* TitanX\t  sm_52\n",
        "* GTX 960M\tsm_50\n",
        "* GTX 1070\tsm_61\n",
        "* GTX 1080 (Ti), Titan XP\tsm_61\n",
        "* TESLA    sm_75"
      ]
    },
    {
      "cell_type": "code",
      "metadata": {
        "id": "SieLyZS7D-cn",
        "outputId": "75f42320-a2aa-4c47-eaaf-0d010f59af6c",
        "colab": {
          "base_uri": "https://localhost:8080/"
        }
      },
      "source": [
        "!gcc --version"
      ],
      "execution_count": 8,
      "outputs": [
        {
          "output_type": "stream",
          "text": [
            "gcc (Ubuntu 7.5.0-3ubuntu1~18.04) 7.5.0\n",
            "Copyright (C) 2017 Free Software Foundation, Inc.\n",
            "This is free software; see the source for copying conditions.  There is NO\n",
            "warranty; not even for MERCHANTABILITY or FITNESS FOR A PARTICULAR PURPOSE.\n",
            "\n"
          ],
          "name": "stdout"
        }
      ]
    },
    {
      "cell_type": "code",
      "metadata": {
        "id": "Epd-2uN8EC1q",
        "outputId": "62fec127-eb89-422a-8f2d-99d8a1e1c821",
        "colab": {
          "base_uri": "https://localhost:8080/"
        }
      },
      "source": [
        "!sudo apt-get install gcc-5 g++-5 g++-5-multilib gfortran-5"
      ],
      "execution_count": 9,
      "outputs": [
        {
          "output_type": "stream",
          "text": [
            "Reading package lists... Done\n",
            "Building dependency tree       \n",
            "Reading state information... Done\n",
            "The following additional packages will be installed:\n",
            "  cpp-5 gcc-5-base gcc-5-multilib gcc-6-base gcc-7-multilib gcc-multilib\n",
            "  lib32asan2 lib32asan4 lib32atomic1 lib32cilkrts5 lib32gcc-5-dev\n",
            "  lib32gcc-7-dev lib32gomp1 lib32itm1 lib32mpx0 lib32mpx2 lib32quadmath0\n",
            "  lib32stdc++-5-dev lib32ubsan0 libasan2 libc6-dev-i386 libc6-dev-x32\n",
            "  libc6-x32 libgcc-5-dev libgfortran-5-dev libgfortran3 libisl15 libmpx0\n",
            "  libstdc++-5-dev libx32asan2 libx32asan4 libx32atomic1 libx32cilkrts5\n",
            "  libx32gcc-5-dev libx32gcc-7-dev libx32gcc1 libx32gomp1 libx32itm1\n",
            "  libx32quadmath0 libx32stdc++-5-dev libx32stdc++6 libx32ubsan0\n",
            "Suggested packages:\n",
            "  gcc-5-locales gcc-5-doc libstdc++6-5-dbg lib32stdc++6-5-dbg\n",
            "  libx32stdc++6-5-dbg libgcc1-dbg libgomp1-dbg libitm1-dbg libatomic1-dbg\n",
            "  libasan2-dbg liblsan0-dbg libtsan0-dbg libubsan0-dbg libcilkrts5-dbg\n",
            "  libmpx0-dbg libquadmath0-dbg gfortran-5-multilib gfortran-5-doc\n",
            "  libgfortran3-dbg libstdc++-5-doc\n",
            "The following NEW packages will be installed:\n",
            "  cpp-5 g++-5 g++-5-multilib gcc-5 gcc-5-base gcc-5-multilib gcc-6-base\n",
            "  gcc-7-multilib gcc-multilib gfortran-5 lib32asan2 lib32asan4 lib32atomic1\n",
            "  lib32cilkrts5 lib32gcc-5-dev lib32gcc-7-dev lib32gomp1 lib32itm1 lib32mpx0\n",
            "  lib32mpx2 lib32quadmath0 lib32stdc++-5-dev lib32ubsan0 libasan2\n",
            "  libc6-dev-i386 libc6-dev-x32 libc6-x32 libgcc-5-dev libgfortran-5-dev\n",
            "  libgfortran3 libisl15 libmpx0 libstdc++-5-dev libx32asan2 libx32asan4\n",
            "  libx32atomic1 libx32cilkrts5 libx32gcc-5-dev libx32gcc-7-dev libx32gcc1\n",
            "  libx32gomp1 libx32itm1 libx32quadmath0 libx32stdc++-5-dev libx32stdc++6\n",
            "  libx32ubsan0\n",
            "0 upgraded, 46 newly installed, 0 to remove and 13 not upgraded.\n",
            "Need to get 56.5 MB of archives.\n",
            "After this operation, 223 MB of additional disk space will be used.\n",
            "Get:1 http://archive.ubuntu.com/ubuntu bionic/universe amd64 gcc-5-base amd64 5.5.0-12ubuntu1 [17.1 kB]\n",
            "Get:2 http://archive.ubuntu.com/ubuntu bionic/universe amd64 libisl15 amd64 0.18-4 [548 kB]\n",
            "Get:3 http://archive.ubuntu.com/ubuntu bionic/universe amd64 cpp-5 amd64 5.5.0-12ubuntu1 [7,785 kB]\n",
            "Get:4 http://archive.ubuntu.com/ubuntu bionic/universe amd64 libasan2 amd64 5.5.0-12ubuntu1 [264 kB]\n",
            "Get:5 http://archive.ubuntu.com/ubuntu bionic/universe amd64 libmpx0 amd64 5.5.0-12ubuntu1 [9,888 B]\n",
            "Get:6 http://archive.ubuntu.com/ubuntu bionic/universe amd64 libgcc-5-dev amd64 5.5.0-12ubuntu1 [2,224 kB]\n",
            "Get:7 http://archive.ubuntu.com/ubuntu bionic/universe amd64 gcc-5 amd64 5.5.0-12ubuntu1 [8,357 kB]\n",
            "Get:8 http://archive.ubuntu.com/ubuntu bionic/universe amd64 libstdc++-5-dev amd64 5.5.0-12ubuntu1 [1,415 kB]\n",
            "Get:9 http://archive.ubuntu.com/ubuntu bionic/universe amd64 g++-5 amd64 5.5.0-12ubuntu1 [8,450 kB]\n",
            "Get:10 http://archive.ubuntu.com/ubuntu bionic-updates/main amd64 libc6-dev-i386 amd64 2.27-3ubuntu1.2 [1,817 kB]\n",
            "Get:11 http://archive.ubuntu.com/ubuntu bionic-updates/main amd64 libc6-x32 amd64 2.27-3ubuntu1.2 [2,847 kB]\n",
            "Get:12 http://archive.ubuntu.com/ubuntu bionic-updates/main amd64 libc6-dev-x32 amd64 2.27-3ubuntu1.2 [2,018 kB]\n",
            "Get:13 http://archive.ubuntu.com/ubuntu bionic-updates/main amd64 libx32gcc1 amd64 1:8.4.0-1ubuntu1~18.04 [40.5 kB]\n",
            "Get:14 http://archive.ubuntu.com/ubuntu bionic-updates/main amd64 lib32gomp1 amd64 8.4.0-1ubuntu1~18.04 [83.7 kB]\n",
            "Get:15 http://archive.ubuntu.com/ubuntu bionic-updates/main amd64 libx32gomp1 amd64 8.4.0-1ubuntu1~18.04 [77.8 kB]\n",
            "Get:16 http://archive.ubuntu.com/ubuntu bionic-updates/main amd64 lib32itm1 amd64 8.4.0-1ubuntu1~18.04 [30.0 kB]\n",
            "Get:17 http://archive.ubuntu.com/ubuntu bionic-updates/main amd64 libx32itm1 amd64 8.4.0-1ubuntu1~18.04 [28.1 kB]\n",
            "Get:18 http://archive.ubuntu.com/ubuntu bionic-updates/main amd64 lib32atomic1 amd64 8.4.0-1ubuntu1~18.04 [8,664 B]\n",
            "Get:19 http://archive.ubuntu.com/ubuntu bionic-updates/main amd64 libx32atomic1 amd64 8.4.0-1ubuntu1~18.04 [9,188 B]\n",
            "Get:20 http://archive.ubuntu.com/ubuntu bionic/universe amd64 lib32asan2 amd64 5.5.0-12ubuntu1 [260 kB]\n",
            "Get:21 http://archive.ubuntu.com/ubuntu bionic/universe amd64 libx32asan2 amd64 5.5.0-12ubuntu1 [252 kB]\n",
            "Get:22 http://archive.ubuntu.com/ubuntu bionic-updates/main amd64 lib32ubsan0 amd64 7.5.0-3ubuntu1~18.04 [140 kB]\n",
            "Get:23 http://archive.ubuntu.com/ubuntu bionic-updates/main amd64 libx32stdc++6 amd64 8.4.0-1ubuntu1~18.04 [387 kB]\n",
            "Get:24 http://archive.ubuntu.com/ubuntu bionic-updates/main amd64 libx32ubsan0 amd64 7.5.0-3ubuntu1~18.04 [127 kB]\n",
            "Get:25 http://archive.ubuntu.com/ubuntu bionic-updates/main amd64 lib32cilkrts5 amd64 7.5.0-3ubuntu1~18.04 [47.2 kB]\n",
            "Get:26 http://archive.ubuntu.com/ubuntu bionic-updates/main amd64 libx32cilkrts5 amd64 7.5.0-3ubuntu1~18.04 [43.0 kB]\n",
            "Get:27 http://archive.ubuntu.com/ubuntu bionic/universe amd64 lib32mpx0 amd64 5.5.0-12ubuntu1 [11.2 kB]\n",
            "Get:28 http://archive.ubuntu.com/ubuntu bionic-updates/main amd64 lib32quadmath0 amd64 8.4.0-1ubuntu1~18.04 [208 kB]\n",
            "Get:29 http://archive.ubuntu.com/ubuntu bionic-updates/main amd64 libx32quadmath0 amd64 8.4.0-1ubuntu1~18.04 [135 kB]\n",
            "Get:30 http://archive.ubuntu.com/ubuntu bionic/universe amd64 lib32gcc-5-dev amd64 5.5.0-12ubuntu1 [2,077 kB]\n",
            "Get:31 http://archive.ubuntu.com/ubuntu bionic/universe amd64 libx32gcc-5-dev amd64 5.5.0-12ubuntu1 [1,870 kB]\n",
            "Get:32 http://archive.ubuntu.com/ubuntu bionic/universe amd64 gcc-5-multilib amd64 5.5.0-12ubuntu1 [1,040 B]\n",
            "Get:33 http://archive.ubuntu.com/ubuntu bionic/universe amd64 lib32stdc++-5-dev amd64 5.5.0-12ubuntu1 [640 kB]\n",
            "Get:34 http://archive.ubuntu.com/ubuntu bionic/universe amd64 libx32stdc++-5-dev amd64 5.5.0-12ubuntu1 [609 kB]\n",
            "Get:35 http://archive.ubuntu.com/ubuntu bionic/universe amd64 g++-5-multilib amd64 5.5.0-12ubuntu1 [1,064 B]\n",
            "Get:36 http://archive.ubuntu.com/ubuntu bionic-updates/universe amd64 gcc-6-base amd64 6.5.0-2ubuntu1~18.04 [16.7 kB]\n",
            "Get:37 http://archive.ubuntu.com/ubuntu bionic-updates/main amd64 lib32asan4 amd64 7.5.0-3ubuntu1~18.04 [362 kB]\n",
            "Get:38 http://archive.ubuntu.com/ubuntu bionic-updates/main amd64 libx32asan4 amd64 7.5.0-3ubuntu1~18.04 [351 kB]\n",
            "Get:39 http://archive.ubuntu.com/ubuntu bionic-updates/main amd64 lib32mpx2 amd64 8.4.0-1ubuntu1~18.04 [12.9 kB]\n",
            "Get:40 http://archive.ubuntu.com/ubuntu bionic-updates/main amd64 lib32gcc-7-dev amd64 7.5.0-3ubuntu1~18.04 [2,211 kB]\n",
            "Get:41 http://archive.ubuntu.com/ubuntu bionic-updates/main amd64 libx32gcc-7-dev amd64 7.5.0-3ubuntu1~18.04 [1,999 kB]\n",
            "Get:42 http://archive.ubuntu.com/ubuntu bionic-updates/main amd64 gcc-7-multilib amd64 7.5.0-3ubuntu1~18.04 [1,048 B]\n",
            "Get:43 http://archive.ubuntu.com/ubuntu bionic-updates/main amd64 gcc-multilib amd64 4:7.4.0-1ubuntu2.3 [1,428 B]\n",
            "Get:44 http://archive.ubuntu.com/ubuntu bionic-updates/universe amd64 libgfortran3 amd64 6.5.0-2ubuntu1~18.04 [270 kB]\n",
            "Get:45 http://archive.ubuntu.com/ubuntu bionic/universe amd64 libgfortran-5-dev amd64 5.5.0-12ubuntu1 [296 kB]\n",
            "Get:46 http://archive.ubuntu.com/ubuntu bionic/universe amd64 gfortran-5 amd64 5.5.0-12ubuntu1 [8,166 kB]\n",
            "Fetched 56.5 MB in 2s (24.5 MB/s)\n",
            "debconf: unable to initialize frontend: Dialog\n",
            "debconf: (No usable dialog-like program is installed, so the dialog based frontend cannot be used. at /usr/share/perl5/Debconf/FrontEnd/Dialog.pm line 76, <> line 46.)\n",
            "debconf: falling back to frontend: Readline\n",
            "debconf: unable to initialize frontend: Readline\n",
            "debconf: (This frontend requires a controlling tty.)\n",
            "debconf: falling back to frontend: Teletype\n",
            "dpkg-preconfigure: unable to re-open stdin: \n",
            "Selecting previously unselected package gcc-5-base:amd64.\n",
            "(Reading database ... 153720 files and directories currently installed.)\n",
            "Preparing to unpack .../00-gcc-5-base_5.5.0-12ubuntu1_amd64.deb ...\n",
            "Unpacking gcc-5-base:amd64 (5.5.0-12ubuntu1) ...\n",
            "Selecting previously unselected package libisl15:amd64.\n",
            "Preparing to unpack .../01-libisl15_0.18-4_amd64.deb ...\n",
            "Unpacking libisl15:amd64 (0.18-4) ...\n",
            "Selecting previously unselected package cpp-5.\n",
            "Preparing to unpack .../02-cpp-5_5.5.0-12ubuntu1_amd64.deb ...\n",
            "Unpacking cpp-5 (5.5.0-12ubuntu1) ...\n",
            "Selecting previously unselected package libasan2:amd64.\n",
            "Preparing to unpack .../03-libasan2_5.5.0-12ubuntu1_amd64.deb ...\n",
            "Unpacking libasan2:amd64 (5.5.0-12ubuntu1) ...\n",
            "Selecting previously unselected package libmpx0:amd64.\n",
            "Preparing to unpack .../04-libmpx0_5.5.0-12ubuntu1_amd64.deb ...\n",
            "Unpacking libmpx0:amd64 (5.5.0-12ubuntu1) ...\n",
            "Selecting previously unselected package libgcc-5-dev:amd64.\n",
            "Preparing to unpack .../05-libgcc-5-dev_5.5.0-12ubuntu1_amd64.deb ...\n",
            "Unpacking libgcc-5-dev:amd64 (5.5.0-12ubuntu1) ...\n",
            "Selecting previously unselected package gcc-5.\n",
            "Preparing to unpack .../06-gcc-5_5.5.0-12ubuntu1_amd64.deb ...\n",
            "Unpacking gcc-5 (5.5.0-12ubuntu1) ...\n",
            "Selecting previously unselected package libstdc++-5-dev:amd64.\n",
            "Preparing to unpack .../07-libstdc++-5-dev_5.5.0-12ubuntu1_amd64.deb ...\n",
            "Unpacking libstdc++-5-dev:amd64 (5.5.0-12ubuntu1) ...\n",
            "Selecting previously unselected package g++-5.\n",
            "Preparing to unpack .../08-g++-5_5.5.0-12ubuntu1_amd64.deb ...\n",
            "Unpacking g++-5 (5.5.0-12ubuntu1) ...\n",
            "Selecting previously unselected package libc6-dev-i386.\n",
            "Preparing to unpack .../09-libc6-dev-i386_2.27-3ubuntu1.2_amd64.deb ...\n",
            "Unpacking libc6-dev-i386 (2.27-3ubuntu1.2) ...\n",
            "Selecting previously unselected package libc6-x32.\n",
            "Preparing to unpack .../10-libc6-x32_2.27-3ubuntu1.2_amd64.deb ...\n",
            "Unpacking libc6-x32 (2.27-3ubuntu1.2) ...\n",
            "Selecting previously unselected package libc6-dev-x32.\n",
            "Preparing to unpack .../11-libc6-dev-x32_2.27-3ubuntu1.2_amd64.deb ...\n",
            "Unpacking libc6-dev-x32 (2.27-3ubuntu1.2) ...\n",
            "Selecting previously unselected package libx32gcc1.\n",
            "Preparing to unpack .../12-libx32gcc1_1%3a8.4.0-1ubuntu1~18.04_amd64.deb ...\n",
            "Unpacking libx32gcc1 (1:8.4.0-1ubuntu1~18.04) ...\n",
            "Selecting previously unselected package lib32gomp1.\n",
            "Preparing to unpack .../13-lib32gomp1_8.4.0-1ubuntu1~18.04_amd64.deb ...\n",
            "Unpacking lib32gomp1 (8.4.0-1ubuntu1~18.04) ...\n",
            "Selecting previously unselected package libx32gomp1.\n",
            "Preparing to unpack .../14-libx32gomp1_8.4.0-1ubuntu1~18.04_amd64.deb ...\n",
            "Unpacking libx32gomp1 (8.4.0-1ubuntu1~18.04) ...\n",
            "Selecting previously unselected package lib32itm1.\n",
            "Preparing to unpack .../15-lib32itm1_8.4.0-1ubuntu1~18.04_amd64.deb ...\n",
            "Unpacking lib32itm1 (8.4.0-1ubuntu1~18.04) ...\n",
            "Selecting previously unselected package libx32itm1.\n",
            "Preparing to unpack .../16-libx32itm1_8.4.0-1ubuntu1~18.04_amd64.deb ...\n",
            "Unpacking libx32itm1 (8.4.0-1ubuntu1~18.04) ...\n",
            "Selecting previously unselected package lib32atomic1.\n",
            "Preparing to unpack .../17-lib32atomic1_8.4.0-1ubuntu1~18.04_amd64.deb ...\n",
            "Unpacking lib32atomic1 (8.4.0-1ubuntu1~18.04) ...\n",
            "Selecting previously unselected package libx32atomic1.\n",
            "Preparing to unpack .../18-libx32atomic1_8.4.0-1ubuntu1~18.04_amd64.deb ...\n",
            "Unpacking libx32atomic1 (8.4.0-1ubuntu1~18.04) ...\n",
            "Selecting previously unselected package lib32asan2.\n",
            "Preparing to unpack .../19-lib32asan2_5.5.0-12ubuntu1_amd64.deb ...\n",
            "Unpacking lib32asan2 (5.5.0-12ubuntu1) ...\n",
            "Selecting previously unselected package libx32asan2.\n",
            "Preparing to unpack .../20-libx32asan2_5.5.0-12ubuntu1_amd64.deb ...\n",
            "Unpacking libx32asan2 (5.5.0-12ubuntu1) ...\n",
            "Selecting previously unselected package lib32ubsan0.\n",
            "Preparing to unpack .../21-lib32ubsan0_7.5.0-3ubuntu1~18.04_amd64.deb ...\n",
            "Unpacking lib32ubsan0 (7.5.0-3ubuntu1~18.04) ...\n",
            "Selecting previously unselected package libx32stdc++6.\n",
            "Preparing to unpack .../22-libx32stdc++6_8.4.0-1ubuntu1~18.04_amd64.deb ...\n",
            "Unpacking libx32stdc++6 (8.4.0-1ubuntu1~18.04) ...\n",
            "Selecting previously unselected package libx32ubsan0.\n",
            "Preparing to unpack .../23-libx32ubsan0_7.5.0-3ubuntu1~18.04_amd64.deb ...\n",
            "Unpacking libx32ubsan0 (7.5.0-3ubuntu1~18.04) ...\n",
            "Selecting previously unselected package lib32cilkrts5.\n",
            "Preparing to unpack .../24-lib32cilkrts5_7.5.0-3ubuntu1~18.04_amd64.deb ...\n",
            "Unpacking lib32cilkrts5 (7.5.0-3ubuntu1~18.04) ...\n",
            "Selecting previously unselected package libx32cilkrts5.\n",
            "Preparing to unpack .../25-libx32cilkrts5_7.5.0-3ubuntu1~18.04_amd64.deb ...\n",
            "Unpacking libx32cilkrts5 (7.5.0-3ubuntu1~18.04) ...\n",
            "Selecting previously unselected package lib32mpx0.\n",
            "Preparing to unpack .../26-lib32mpx0_5.5.0-12ubuntu1_amd64.deb ...\n",
            "Unpacking lib32mpx0 (5.5.0-12ubuntu1) ...\n",
            "Selecting previously unselected package lib32quadmath0.\n",
            "Preparing to unpack .../27-lib32quadmath0_8.4.0-1ubuntu1~18.04_amd64.deb ...\n",
            "Unpacking lib32quadmath0 (8.4.0-1ubuntu1~18.04) ...\n",
            "Selecting previously unselected package libx32quadmath0.\n",
            "Preparing to unpack .../28-libx32quadmath0_8.4.0-1ubuntu1~18.04_amd64.deb ...\n",
            "Unpacking libx32quadmath0 (8.4.0-1ubuntu1~18.04) ...\n",
            "Selecting previously unselected package lib32gcc-5-dev.\n",
            "Preparing to unpack .../29-lib32gcc-5-dev_5.5.0-12ubuntu1_amd64.deb ...\n",
            "Unpacking lib32gcc-5-dev (5.5.0-12ubuntu1) ...\n",
            "Selecting previously unselected package libx32gcc-5-dev.\n",
            "Preparing to unpack .../30-libx32gcc-5-dev_5.5.0-12ubuntu1_amd64.deb ...\n",
            "Unpacking libx32gcc-5-dev (5.5.0-12ubuntu1) ...\n",
            "Selecting previously unselected package gcc-5-multilib.\n",
            "Preparing to unpack .../31-gcc-5-multilib_5.5.0-12ubuntu1_amd64.deb ...\n",
            "Unpacking gcc-5-multilib (5.5.0-12ubuntu1) ...\n",
            "Selecting previously unselected package lib32stdc++-5-dev.\n",
            "Preparing to unpack .../32-lib32stdc++-5-dev_5.5.0-12ubuntu1_amd64.deb ...\n",
            "Unpacking lib32stdc++-5-dev (5.5.0-12ubuntu1) ...\n",
            "Selecting previously unselected package libx32stdc++-5-dev.\n",
            "Preparing to unpack .../33-libx32stdc++-5-dev_5.5.0-12ubuntu1_amd64.deb ...\n",
            "Unpacking libx32stdc++-5-dev (5.5.0-12ubuntu1) ...\n",
            "Selecting previously unselected package g++-5-multilib.\n",
            "Preparing to unpack .../34-g++-5-multilib_5.5.0-12ubuntu1_amd64.deb ...\n",
            "Unpacking g++-5-multilib (5.5.0-12ubuntu1) ...\n",
            "Selecting previously unselected package gcc-6-base:amd64.\n",
            "Preparing to unpack .../35-gcc-6-base_6.5.0-2ubuntu1~18.04_amd64.deb ...\n",
            "Unpacking gcc-6-base:amd64 (6.5.0-2ubuntu1~18.04) ...\n",
            "Selecting previously unselected package lib32asan4.\n",
            "Preparing to unpack .../36-lib32asan4_7.5.0-3ubuntu1~18.04_amd64.deb ...\n",
            "Unpacking lib32asan4 (7.5.0-3ubuntu1~18.04) ...\n",
            "Selecting previously unselected package libx32asan4.\n",
            "Preparing to unpack .../37-libx32asan4_7.5.0-3ubuntu1~18.04_amd64.deb ...\n",
            "Unpacking libx32asan4 (7.5.0-3ubuntu1~18.04) ...\n",
            "Selecting previously unselected package lib32mpx2.\n",
            "Preparing to unpack .../38-lib32mpx2_8.4.0-1ubuntu1~18.04_amd64.deb ...\n",
            "Unpacking lib32mpx2 (8.4.0-1ubuntu1~18.04) ...\n",
            "Selecting previously unselected package lib32gcc-7-dev.\n",
            "Preparing to unpack .../39-lib32gcc-7-dev_7.5.0-3ubuntu1~18.04_amd64.deb ...\n",
            "Unpacking lib32gcc-7-dev (7.5.0-3ubuntu1~18.04) ...\n",
            "Selecting previously unselected package libx32gcc-7-dev.\n",
            "Preparing to unpack .../40-libx32gcc-7-dev_7.5.0-3ubuntu1~18.04_amd64.deb ...\n",
            "Unpacking libx32gcc-7-dev (7.5.0-3ubuntu1~18.04) ...\n",
            "Selecting previously unselected package gcc-7-multilib.\n",
            "Preparing to unpack .../41-gcc-7-multilib_7.5.0-3ubuntu1~18.04_amd64.deb ...\n",
            "Unpacking gcc-7-multilib (7.5.0-3ubuntu1~18.04) ...\n",
            "Selecting previously unselected package gcc-multilib.\n",
            "Preparing to unpack .../42-gcc-multilib_4%3a7.4.0-1ubuntu2.3_amd64.deb ...\n",
            "Unpacking gcc-multilib (4:7.4.0-1ubuntu2.3) ...\n",
            "Selecting previously unselected package libgfortran3:amd64.\n",
            "Preparing to unpack .../43-libgfortran3_6.5.0-2ubuntu1~18.04_amd64.deb ...\n",
            "Unpacking libgfortran3:amd64 (6.5.0-2ubuntu1~18.04) ...\n",
            "Selecting previously unselected package libgfortran-5-dev:amd64.\n",
            "Preparing to unpack .../44-libgfortran-5-dev_5.5.0-12ubuntu1_amd64.deb ...\n",
            "Unpacking libgfortran-5-dev:amd64 (5.5.0-12ubuntu1) ...\n",
            "Selecting previously unselected package gfortran-5.\n",
            "Preparing to unpack .../45-gfortran-5_5.5.0-12ubuntu1_amd64.deb ...\n",
            "Unpacking gfortran-5 (5.5.0-12ubuntu1) ...\n",
            "Setting up libc6-x32 (2.27-3ubuntu1.2) ...\n",
            "Setting up libx32gcc1 (1:8.4.0-1ubuntu1~18.04) ...\n",
            "Setting up lib32gomp1 (8.4.0-1ubuntu1~18.04) ...\n",
            "Setting up lib32asan4 (7.5.0-3ubuntu1~18.04) ...\n",
            "Setting up lib32mpx2 (8.4.0-1ubuntu1~18.04) ...\n",
            "Setting up gcc-6-base:amd64 (6.5.0-2ubuntu1~18.04) ...\n",
            "Setting up libx32stdc++6 (8.4.0-1ubuntu1~18.04) ...\n",
            "Setting up lib32atomic1 (8.4.0-1ubuntu1~18.04) ...\n",
            "Setting up libx32atomic1 (8.4.0-1ubuntu1~18.04) ...\n",
            "Setting up libx32gomp1 (8.4.0-1ubuntu1~18.04) ...\n",
            "Setting up libisl15:amd64 (0.18-4) ...\n",
            "Setting up libx32itm1 (8.4.0-1ubuntu1~18.04) ...\n",
            "Setting up lib32ubsan0 (7.5.0-3ubuntu1~18.04) ...\n",
            "Setting up lib32quadmath0 (8.4.0-1ubuntu1~18.04) ...\n",
            "Setting up lib32cilkrts5 (7.5.0-3ubuntu1~18.04) ...\n",
            "Setting up libc6-dev-i386 (2.27-3ubuntu1.2) ...\n",
            "Setting up libc6-dev-x32 (2.27-3ubuntu1.2) ...\n",
            "Setting up lib32itm1 (8.4.0-1ubuntu1~18.04) ...\n",
            "Setting up libx32quadmath0 (8.4.0-1ubuntu1~18.04) ...\n",
            "Setting up gcc-5-base:amd64 (5.5.0-12ubuntu1) ...\n",
            "Setting up libx32asan4 (7.5.0-3ubuntu1~18.04) ...\n",
            "Setting up libx32cilkrts5 (7.5.0-3ubuntu1~18.04) ...\n",
            "Setting up libmpx0:amd64 (5.5.0-12ubuntu1) ...\n",
            "Setting up libx32ubsan0 (7.5.0-3ubuntu1~18.04) ...\n",
            "Setting up libgfortran3:amd64 (6.5.0-2ubuntu1~18.04) ...\n",
            "Setting up libasan2:amd64 (5.5.0-12ubuntu1) ...\n",
            "Setting up libx32gcc-7-dev (7.5.0-3ubuntu1~18.04) ...\n",
            "Setting up libgcc-5-dev:amd64 (5.5.0-12ubuntu1) ...\n",
            "Setting up libx32asan2 (5.5.0-12ubuntu1) ...\n",
            "Setting up lib32mpx0 (5.5.0-12ubuntu1) ...\n",
            "Setting up lib32gcc-7-dev (7.5.0-3ubuntu1~18.04) ...\n",
            "Setting up lib32asan2 (5.5.0-12ubuntu1) ...\n",
            "Setting up cpp-5 (5.5.0-12ubuntu1) ...\n",
            "Setting up libstdc++-5-dev:amd64 (5.5.0-12ubuntu1) ...\n",
            "Setting up lib32gcc-5-dev (5.5.0-12ubuntu1) ...\n",
            "Setting up libx32gcc-5-dev (5.5.0-12ubuntu1) ...\n",
            "Setting up gcc-7-multilib (7.5.0-3ubuntu1~18.04) ...\n",
            "Setting up libgfortran-5-dev:amd64 (5.5.0-12ubuntu1) ...\n",
            "Setting up lib32stdc++-5-dev (5.5.0-12ubuntu1) ...\n",
            "Setting up gcc-5 (5.5.0-12ubuntu1) ...\n",
            "Setting up g++-5 (5.5.0-12ubuntu1) ...\n",
            "Setting up libx32stdc++-5-dev (5.5.0-12ubuntu1) ...\n",
            "Setting up gcc-5-multilib (5.5.0-12ubuntu1) ...\n",
            "Setting up gcc-multilib (4:7.4.0-1ubuntu2.3) ...\n",
            "Setting up gfortran-5 (5.5.0-12ubuntu1) ...\n",
            "Setting up g++-5-multilib (5.5.0-12ubuntu1) ...\n",
            "Processing triggers for man-db (2.8.3-2ubuntu0.1) ...\n",
            "Processing triggers for libc-bin (2.27-3ubuntu1.2) ...\n",
            "/sbin/ldconfig.real: /usr/local/lib/python3.6/dist-packages/ideep4py/lib/libmkldnn.so.0 is not a symbolic link\n",
            "\n"
          ],
          "name": "stdout"
        }
      ]
    },
    {
      "cell_type": "code",
      "metadata": {
        "id": "mLOphcvqEC7z",
        "outputId": "efdf8ac5-79db-4b25-8a46-c4f2658f5a25",
        "colab": {
          "base_uri": "https://localhost:8080/"
        }
      },
      "source": [
        "!sudo update-alternatives --install /usr/bin/gcc gcc /usr/bin/gcc-5 50 --slave /usr/bin/g++ g++ /usr/bin/g++-5"
      ],
      "execution_count": 10,
      "outputs": [
        {
          "output_type": "stream",
          "text": [
            "update-alternatives: using /usr/bin/gcc-5 to provide /usr/bin/gcc (gcc) in auto mode\n"
          ],
          "name": "stdout"
        }
      ]
    },
    {
      "cell_type": "code",
      "metadata": {
        "id": "X2zasqB2EGeE",
        "outputId": "b6ee11bd-a4b7-42dd-b1d9-d2eb9acf03b7",
        "colab": {
          "base_uri": "https://localhost:8080/"
        }
      },
      "source": [
        "!sudo update-alternatives --config gcc"
      ],
      "execution_count": 11,
      "outputs": [
        {
          "output_type": "stream",
          "text": [
            "There is only one alternative in link group gcc (providing /usr/bin/gcc): /usr/bin/gcc-5\n",
            "Nothing to configure.\n"
          ],
          "name": "stdout"
        }
      ]
    },
    {
      "cell_type": "code",
      "metadata": {
        "id": "eeEds03LEHyb",
        "outputId": "08ec63ba-10b5-4d75-d11e-d4bcf5cab4cb",
        "colab": {
          "base_uri": "https://localhost:8080/"
        }
      },
      "source": [
        "!gcc --version"
      ],
      "execution_count": 12,
      "outputs": [
        {
          "output_type": "stream",
          "text": [
            "gcc (Ubuntu 5.5.0-12ubuntu1) 5.5.0 20171010\n",
            "Copyright (C) 2015 Free Software Foundation, Inc.\n",
            "This is free software; see the source for copying conditions.  There is NO\n",
            "warranty; not even for MERCHANTABILITY or FITNESS FOR A PARTICULAR PURPOSE.\n",
            "\n"
          ],
          "name": "stdout"
        }
      ]
    },
    {
      "cell_type": "code",
      "metadata": {
        "id": "MEigJERwEH9F",
        "outputId": "c451e981-8047-4987-d1e0-ee6c1ed2585e",
        "colab": {
          "base_uri": "https://localhost:8080/"
        }
      },
      "source": [
        "!pwd\n",
        "!ls"
      ],
      "execution_count": 13,
      "outputs": [
        {
          "output_type": "stream",
          "text": [
            "/content/gdrive/My Drive/ColabFiles/S14/planercnn/nms/src/cuda\n",
            "nms_kernel.cu  nms_kernel.cu.o\tnms_kernel.h\n"
          ],
          "name": "stdout"
        }
      ]
    },
    {
      "cell_type": "code",
      "metadata": {
        "id": "siQFhAzqoLeT"
      },
      "source": [
        "!nvcc -c -o nms_kernel.cu.o nms_kernel.cu -x cu -Xcompiler -fPIC -arch=sm_60"
      ],
      "execution_count": 14,
      "outputs": []
    },
    {
      "cell_type": "code",
      "metadata": {
        "id": "h7k0f00OEl2M",
        "outputId": "a29a048c-e67c-4805-9213-226b8efd7cd6",
        "colab": {
          "base_uri": "https://localhost:8080/"
        }
      },
      "source": [
        "os.chdir(\"../..\")\n",
        "!pwd"
      ],
      "execution_count": 15,
      "outputs": [
        {
          "output_type": "stream",
          "text": [
            "/content/gdrive/My Drive/ColabFiles/S14/planercnn/nms\n"
          ],
          "name": "stdout"
        }
      ]
    },
    {
      "cell_type": "code",
      "metadata": {
        "id": "A9Qg6vlTEl6A",
        "outputId": "b1c0fd90-a907-4608-c4b6-34366633524c",
        "colab": {
          "base_uri": "https://localhost:8080/"
        }
      },
      "source": [
        "!ls"
      ],
      "execution_count": 16,
      "outputs": [
        {
          "output_type": "stream",
          "text": [
            "build.py  _ext\t__init__.py  nms_wrapper.py  pth_nms.py  __pycache__  src\n"
          ],
          "name": "stdout"
        }
      ]
    },
    {
      "cell_type": "code",
      "metadata": {
        "id": "roCWYEQ3E6iC",
        "outputId": "0b0123a2-3a04-459b-910f-9400fb1f37ee",
        "colab": {
          "base_uri": "https://localhost:8080/"
        }
      },
      "source": [
        "!python build.py"
      ],
      "execution_count": 17,
      "outputs": [
        {
          "output_type": "stream",
          "text": [
            "Including CUDA code.\n",
            "/content/gdrive/My Drive/ColabFiles/S14/planercnn/nms\n",
            "generating /tmp/tmpiuxxjamp/_nms.c\n",
            "setting the current directory to '/tmp/tmpiuxxjamp'\n",
            "running build_ext\n",
            "building '_nms' extension\n",
            "creating content\n",
            "creating content/gdrive\n",
            "creating content/gdrive/My Drive\n",
            "creating content/gdrive/My Drive/ColabFiles\n",
            "creating content/gdrive/My Drive/ColabFiles/S14\n",
            "creating content/gdrive/My Drive/ColabFiles/S14/planercnn\n",
            "creating content/gdrive/My Drive/ColabFiles/S14/planercnn/nms\n",
            "creating content/gdrive/My Drive/ColabFiles/S14/planercnn/nms/src\n",
            "x86_64-linux-gnu-gcc -pthread -DNDEBUG -g -fwrapv -O2 -Wall -g -fstack-protector-strong -Wformat -Werror=format-security -Wdate-time -D_FORTIFY_SOURCE=2 -fPIC -DWITH_CUDA -I/usr/local/lib/python3.6/dist-packages/torch/utils/ffi/../../lib/include -I/usr/local/lib/python3.6/dist-packages/torch/utils/ffi/../../lib/include/TH -I/usr/local/lib/python3.6/dist-packages/torch/utils/ffi/../../lib/include/THC -I/usr/local/cuda/include -I/usr/include/python3.6m -c _nms.c -o ./_nms.o -std=c99\n",
            "x86_64-linux-gnu-gcc -pthread -DNDEBUG -g -fwrapv -O2 -Wall -g -fstack-protector-strong -Wformat -Werror=format-security -Wdate-time -D_FORTIFY_SOURCE=2 -fPIC -DWITH_CUDA -I/usr/local/lib/python3.6/dist-packages/torch/utils/ffi/../../lib/include -I/usr/local/lib/python3.6/dist-packages/torch/utils/ffi/../../lib/include/TH -I/usr/local/lib/python3.6/dist-packages/torch/utils/ffi/../../lib/include/THC -I/usr/local/cuda/include -I/usr/include/python3.6m -c /content/gdrive/My Drive/ColabFiles/S14/planercnn/nms/src/nms.c -o ./content/gdrive/My Drive/ColabFiles/S14/planercnn/nms/src/nms.o -std=c99\n",
            "x86_64-linux-gnu-gcc -pthread -DNDEBUG -g -fwrapv -O2 -Wall -g -fstack-protector-strong -Wformat -Werror=format-security -Wdate-time -D_FORTIFY_SOURCE=2 -fPIC -DWITH_CUDA -I/usr/local/lib/python3.6/dist-packages/torch/utils/ffi/../../lib/include -I/usr/local/lib/python3.6/dist-packages/torch/utils/ffi/../../lib/include/TH -I/usr/local/lib/python3.6/dist-packages/torch/utils/ffi/../../lib/include/THC -I/usr/local/cuda/include -I/usr/include/python3.6m -c /content/gdrive/My Drive/ColabFiles/S14/planercnn/nms/src/nms_cuda.c -o ./content/gdrive/My Drive/ColabFiles/S14/planercnn/nms/src/nms_cuda.o -std=c99\n",
            "\u001b[01m\u001b[K/content/gdrive/My Drive/ColabFiles/S14/planercnn/nms/src/nms_cuda.c:\u001b[m\u001b[K In function ‘\u001b[01m\u001b[Kgpu_nms\u001b[m\u001b[K’:\n",
            "\u001b[01m\u001b[K/content/gdrive/My Drive/ColabFiles/S14/planercnn/nms/src/nms_cuda.c:29:35:\u001b[m\u001b[K \u001b[01;35m\u001b[Kwarning: \u001b[m\u001b[Kinitialization from incompatible pointer type [\u001b[01;35m\u001b[K-Wincompatible-pointer-types\u001b[m\u001b[K]\n",
            "   unsigned long long* mask_flat = \u001b[01;35m\u001b[KTHCudaLongTensor_data\u001b[m\u001b[K(state, mask);\n",
            "                                   \u001b[01;35m\u001b[K^~~~~~~~~~~~~~~~~~~~~\u001b[m\u001b[K\n",
            "\u001b[01m\u001b[K/content/gdrive/My Drive/ColabFiles/S14/planercnn/nms/src/nms_cuda.c:37:40:\u001b[m\u001b[K \u001b[01;35m\u001b[Kwarning: \u001b[m\u001b[Kinitialization from incompatible pointer type [\u001b[01;35m\u001b[K-Wincompatible-pointer-types\u001b[m\u001b[K]\n",
            "   unsigned long long * mask_cpu_flat = \u001b[01;35m\u001b[KTHLongTensor_data\u001b[m\u001b[K(mask_cpu);\n",
            "                                        \u001b[01;35m\u001b[K^~~~~~~~~~~~~~~~~\u001b[m\u001b[K\n",
            "\u001b[01m\u001b[K/content/gdrive/My Drive/ColabFiles/S14/planercnn/nms/src/nms_cuda.c:40:39:\u001b[m\u001b[K \u001b[01;35m\u001b[Kwarning: \u001b[m\u001b[Kinitialization from incompatible pointer type [\u001b[01;35m\u001b[K-Wincompatible-pointer-types\u001b[m\u001b[K]\n",
            "   unsigned long long* remv_cpu_flat = \u001b[01;35m\u001b[KTHLongTensor_data\u001b[m\u001b[K(remv_cpu);\n",
            "                                       \u001b[01;35m\u001b[K^~~~~~~~~~~~~~~~~\u001b[m\u001b[K\n",
            "\u001b[01m\u001b[K/content/gdrive/My Drive/ColabFiles/S14/planercnn/nms/src/nms_cuda.c:23:7:\u001b[m\u001b[K \u001b[01;35m\u001b[Kwarning: \u001b[m\u001b[Kunused variable ‘\u001b[01m\u001b[Kboxes_dim\u001b[m\u001b[K’ [\u001b[01;35m\u001b[K-Wunused-variable\u001b[m\u001b[K]\n",
            "   int \u001b[01;35m\u001b[Kboxes_dim\u001b[m\u001b[K = THCudaTensor_size(state, boxes, 1);\n",
            "       \u001b[01;35m\u001b[K^~~~~~~~~\u001b[m\u001b[K\n",
            "x86_64-linux-gnu-gcc -pthread -shared -Wl,-O1 -Wl,-Bsymbolic-functions -Wl,-Bsymbolic-functions -Wl,-z,relro -Wl,-Bsymbolic-functions -Wl,-z,relro -g -fstack-protector-strong -Wformat -Werror=format-security -Wdate-time -D_FORTIFY_SOURCE=2 ./_nms.o ./content/gdrive/My Drive/ColabFiles/S14/planercnn/nms/src/nms.o ./content/gdrive/My Drive/ColabFiles/S14/planercnn/nms/src/nms_cuda.o /content/gdrive/My Drive/ColabFiles/S14/planercnn/nms/src/cuda/nms_kernel.cu.o -o ./_nms.so\n"
          ],
          "name": "stdout"
        }
      ]
    },
    {
      "cell_type": "code",
      "metadata": {
        "id": "thyAvi3o75DU",
        "outputId": "43bcac40-cb6f-4fee-d838-26520a08eae2",
        "colab": {
          "base_uri": "https://localhost:8080/"
        }
      },
      "source": [
        "!pwd\n",
        "print(gdrivepath)\n",
        "!ls"
      ],
      "execution_count": 18,
      "outputs": [
        {
          "output_type": "stream",
          "text": [
            "/content/gdrive/My Drive/ColabFiles/S14/planercnn/nms\n",
            "/content/gdrive/My Drive/ColabFiles/S14\n",
            "build.py  _ext\t__init__.py  nms_wrapper.py  pth_nms.py  __pycache__  src\n"
          ],
          "name": "stdout"
        }
      ]
    },
    {
      "cell_type": "code",
      "metadata": {
        "id": "jUMdQ-hqE6sF",
        "outputId": "c1780205-6669-4dd6-89d5-1d74fc4585e6",
        "colab": {
          "base_uri": "https://localhost:8080/"
        }
      },
      "source": [
        "os.chdir(gdrivepath+\"/planercnn/roialign/roi_align/src/cuda\")\n",
        "!pwd\n",
        "!ls"
      ],
      "execution_count": 19,
      "outputs": [
        {
          "output_type": "stream",
          "text": [
            "/content/gdrive/My Drive/ColabFiles/S14/planercnn/roialign/roi_align/src/cuda\n",
            "crop_and_resize_kernel.cu    crop_and_resize_kernel.h\n",
            "crop_and_resize_kernel.cu.o\n"
          ],
          "name": "stdout"
        }
      ]
    },
    {
      "cell_type": "code",
      "metadata": {
        "id": "8AGYsqCqFsmU"
      },
      "source": [
        "!nvcc -c -o crop_and_resize_kernel.cu.o crop_and_resize_kernel.cu -x cu -Xcompiler -fPIC -arch=sm_60"
      ],
      "execution_count": 20,
      "outputs": []
    },
    {
      "cell_type": "code",
      "metadata": {
        "id": "CXnmfiicFsrI",
        "outputId": "330dd41a-0249-481e-afa5-4e6c82a503c5",
        "colab": {
          "base_uri": "https://localhost:8080/"
        }
      },
      "source": [
        "os.chdir(\"../..\")\n",
        "!pwd\n",
        "!ls"
      ],
      "execution_count": 21,
      "outputs": [
        {
          "output_type": "stream",
          "text": [
            "/content/gdrive/My Drive/ColabFiles/S14/planercnn/roialign/roi_align\n",
            "build.py\t    customimages  __init__.py\t\t__pycache__   src\n",
            "crop_and_resize.py  _ext\t  planercnn_refine.zip\troi_align.py\n"
          ],
          "name": "stdout"
        }
      ]
    },
    {
      "cell_type": "code",
      "metadata": {
        "id": "Kbil93q0FsuZ",
        "outputId": "3b62f901-e622-44cc-e170-f40866e6572b",
        "colab": {
          "base_uri": "https://localhost:8080/"
        }
      },
      "source": [
        "!python build.py"
      ],
      "execution_count": 22,
      "outputs": [
        {
          "output_type": "stream",
          "text": [
            "Including CUDA code.\n",
            "/content/gdrive/My Drive/ColabFiles/S14/planercnn/roialign/roi_align\n",
            "generating /tmp/tmpeft577hy/_crop_and_resize.c\n",
            "setting the current directory to '/tmp/tmpeft577hy'\n",
            "running build_ext\n",
            "building '_crop_and_resize' extension\n",
            "creating content\n",
            "creating content/gdrive\n",
            "creating content/gdrive/My Drive\n",
            "creating content/gdrive/My Drive/ColabFiles\n",
            "creating content/gdrive/My Drive/ColabFiles/S14\n",
            "creating content/gdrive/My Drive/ColabFiles/S14/planercnn\n",
            "creating content/gdrive/My Drive/ColabFiles/S14/planercnn/roialign\n",
            "creating content/gdrive/My Drive/ColabFiles/S14/planercnn/roialign/roi_align\n",
            "creating content/gdrive/My Drive/ColabFiles/S14/planercnn/roialign/roi_align/src\n",
            "x86_64-linux-gnu-gcc -pthread -DNDEBUG -g -fwrapv -O2 -Wall -g -fstack-protector-strong -Wformat -Werror=format-security -Wdate-time -D_FORTIFY_SOURCE=2 -fPIC -DWITH_CUDA -I/usr/local/lib/python3.6/dist-packages/torch/utils/ffi/../../lib/include -I/usr/local/lib/python3.6/dist-packages/torch/utils/ffi/../../lib/include/TH -I/usr/local/lib/python3.6/dist-packages/torch/utils/ffi/../../lib/include/THC -I/usr/local/cuda/include -I/usr/include/python3.6m -c _crop_and_resize.c -o ./_crop_and_resize.o -std=c99 -fopenmp -std=c99\n",
            "x86_64-linux-gnu-gcc -pthread -DNDEBUG -g -fwrapv -O2 -Wall -g -fstack-protector-strong -Wformat -Werror=format-security -Wdate-time -D_FORTIFY_SOURCE=2 -fPIC -DWITH_CUDA -I/usr/local/lib/python3.6/dist-packages/torch/utils/ffi/../../lib/include -I/usr/local/lib/python3.6/dist-packages/torch/utils/ffi/../../lib/include/TH -I/usr/local/lib/python3.6/dist-packages/torch/utils/ffi/../../lib/include/THC -I/usr/local/cuda/include -I/usr/include/python3.6m -c /content/gdrive/My Drive/ColabFiles/S14/planercnn/roialign/roi_align/src/crop_and_resize.c -o ./content/gdrive/My Drive/ColabFiles/S14/planercnn/roialign/roi_align/src/crop_and_resize.o -std=c99 -fopenmp -std=c99\n",
            "x86_64-linux-gnu-gcc -pthread -DNDEBUG -g -fwrapv -O2 -Wall -g -fstack-protector-strong -Wformat -Werror=format-security -Wdate-time -D_FORTIFY_SOURCE=2 -fPIC -DWITH_CUDA -I/usr/local/lib/python3.6/dist-packages/torch/utils/ffi/../../lib/include -I/usr/local/lib/python3.6/dist-packages/torch/utils/ffi/../../lib/include/TH -I/usr/local/lib/python3.6/dist-packages/torch/utils/ffi/../../lib/include/THC -I/usr/local/cuda/include -I/usr/include/python3.6m -c /content/gdrive/My Drive/ColabFiles/S14/planercnn/roialign/roi_align/src/crop_and_resize_gpu.c -o ./content/gdrive/My Drive/ColabFiles/S14/planercnn/roialign/roi_align/src/crop_and_resize_gpu.o -std=c99 -fopenmp -std=c99\n",
            "x86_64-linux-gnu-gcc -pthread -shared -Wl,-O1 -Wl,-Bsymbolic-functions -Wl,-Bsymbolic-functions -Wl,-z,relro -Wl,-Bsymbolic-functions -Wl,-z,relro -g -fstack-protector-strong -Wformat -Werror=format-security -Wdate-time -D_FORTIFY_SOURCE=2 ./_crop_and_resize.o ./content/gdrive/My Drive/ColabFiles/S14/planercnn/roialign/roi_align/src/crop_and_resize.o ./content/gdrive/My Drive/ColabFiles/S14/planercnn/roialign/roi_align/src/crop_and_resize_gpu.o /content/gdrive/My Drive/ColabFiles/S14/planercnn/roialign/roi_align/src/cuda/crop_and_resize_kernel.cu.o -o ./_crop_and_resize.so\n"
          ],
          "name": "stdout"
        }
      ]
    },
    {
      "cell_type": "code",
      "metadata": {
        "id": "wg7CmRFEFOi_",
        "outputId": "0d7a5623-75c4-4520-9275-583970220f45",
        "colab": {
          "base_uri": "https://localhost:8080/"
        }
      },
      "source": [
        "!pwd\n",
        "!ls \"/content/gdrive/My Drive/ColabFiles/S13/S13_2/data/customdata/images\"|wc -l"
      ],
      "execution_count": 23,
      "outputs": [
        {
          "output_type": "stream",
          "text": [
            "/content/gdrive/My Drive/ColabFiles/S14/planercnn/roialign/roi_align\n",
            "3600\n"
          ],
          "name": "stdout"
        }
      ]
    },
    {
      "cell_type": "code",
      "metadata": {
        "id": "Oy1DJacuIums"
      },
      "source": [
        "# create softlink for images in S13/S13_2 directory\n",
        "#!ln -s /content/gdrive/\"My Drive\"/\"Colab Notebooks\"/S13/S13_2/data/customdata/images customimages\n",
        "!ln -s /content/gdrive/\"My Drive\"/\"ColabFiles\"/S13/S13_2/data/customdata/images customimages"
      ],
      "execution_count": 24,
      "outputs": []
    },
    {
      "cell_type": "code",
      "metadata": {
        "id": "tQpW75xUiQj_",
        "outputId": "e22979ca-25c9-4e54-d042-27c2be532c1d",
        "colab": {
          "base_uri": "https://localhost:8080/"
        }
      },
      "source": [
        "!pwd"
      ],
      "execution_count": 25,
      "outputs": [
        {
          "output_type": "stream",
          "text": [
            "/content/gdrive/My Drive/ColabFiles/S14/planercnn/roialign/roi_align\n"
          ],
          "name": "stdout"
        }
      ]
    },
    {
      "cell_type": "code",
      "metadata": {
        "id": "_xQ0GvxmFrvL",
        "outputId": "ad25eccd-d0e5-4c8c-e6a5-82e908fe54ed",
        "colab": {
          "base_uri": "https://localhost:8080/"
        }
      },
      "source": [
        "!ls customimages |wc -l"
      ],
      "execution_count": 26,
      "outputs": [
        {
          "output_type": "stream",
          "text": [
            "3601\n"
          ],
          "name": "stdout"
        }
      ]
    },
    {
      "cell_type": "code",
      "metadata": {
        "id": "WRLzV6MsiilF",
        "outputId": "1f22cca8-37d6-4582-b112-1b0a68fb9947",
        "colab": {
          "base_uri": "https://localhost:8080/"
        }
      },
      "source": [
        "!pwd\n",
        "!ls"
      ],
      "execution_count": 27,
      "outputs": [
        {
          "output_type": "stream",
          "text": [
            "/content/gdrive/My Drive/ColabFiles/S14/planercnn/roialign/roi_align\n",
            "build.py\t    customimages  __init__.py\t\t__pycache__   src\n",
            "crop_and_resize.py  _ext\t  planercnn_refine.zip\troi_align.py\n"
          ],
          "name": "stdout"
        }
      ]
    },
    {
      "cell_type": "code",
      "metadata": {
        "id": "O0jy0dTrMTwF",
        "outputId": "a1fadf19-5d15-4a08-8cf1-031d736f5485",
        "colab": {
          "base_uri": "https://localhost:8080/"
        }
      },
      "source": [
        "!mkdir /content/gdrive/'My Drive'/ColabFiles/S14/planercnn/checkpoint\n",
        "chkntdir=\"/content/gdrive/My Drive/ColabFiles/S14/planercnn/checkpoint\""
      ],
      "execution_count": 38,
      "outputs": [
        {
          "output_type": "stream",
          "text": [
            "mkdir: cannot create directory ‘/content/gdrive/My Drive/ColabFiles/S14/planercnn/checkpoint’: File exists\n"
          ],
          "name": "stdout"
        }
      ]
    },
    {
      "cell_type": "code",
      "metadata": {
        "id": "dctAWmNQDSyR",
        "outputId": "2320c560-9351-400f-dc62-4ae633f6d51d",
        "colab": {
          "base_uri": "https://localhost:8080/"
        }
      },
      "source": [
        "!ls /content/gdrive/'My Drive'/ColabFiles/S14/planercnn"
      ],
      "execution_count": 37,
      "outputs": [
        {
          "output_type": "stream",
          "text": [
            " anchors\t        evaluate_utils.py   Readme.txt\n",
            " cffirequirements.txt   example_images\t    requirements.txt\n",
            " checkpoint\t        LICENSE.md\t    roialign\n",
            " config.py\t        models\t\t    test\n",
            " customimages\t        nms\t\t    train_planercnn.py\n",
            " data_prep\t        options.py\t    utils.py\n",
            " datasets\t        plane_utils.py\t    visualize_utils.py\n",
            "'evaluate - Copy.py'    __pycache__\n",
            " evaluate.py\t        README.md\n"
          ],
          "name": "stdout"
        }
      ]
    },
    {
      "cell_type": "code",
      "metadata": {
        "id": "Ap9F3uEHDGM6"
      },
      "source": [
        "import os\n",
        "os.chdir(\"/content/gdrive/My Drive/ColabFiles/S14/planercnn/checkpoint\")"
      ],
      "execution_count": 39,
      "outputs": []
    },
    {
      "cell_type": "code",
      "metadata": {
        "id": "8FKf0ASbMT2P",
        "outputId": "0709e958-8240-4549-dc22-ac3d109795fe",
        "colab": {
          "base_uri": "https://localhost:8080/"
        }
      },
      "source": [
        "!pwd"
      ],
      "execution_count": 40,
      "outputs": [
        {
          "output_type": "stream",
          "text": [
            "/content/gdrive/My Drive/ColabFiles/S14/planercnn/checkpoint\n"
          ],
          "name": "stdout"
        }
      ]
    },
    {
      "cell_type": "code",
      "metadata": {
        "id": "FE6I90c59fyZ",
        "outputId": "56e06b21-9ad9-4e16-f41e-428eb676a82a",
        "colab": {
          "base_uri": "https://localhost:8080/"
        }
      },
      "source": [
        "!wget https://www.dropbox.com/s/yjcg6s57n581sk0/checkpoint.zip?dl=0"
      ],
      "execution_count": 41,
      "outputs": [
        {
          "output_type": "stream",
          "text": [
            "--2020-10-31 14:26:58--  https://www.dropbox.com/s/yjcg6s57n581sk0/checkpoint.zip?dl=0\n",
            "Resolving www.dropbox.com (www.dropbox.com)... 162.125.6.1, 2620:100:601c:1::a27d:601\n",
            "Connecting to www.dropbox.com (www.dropbox.com)|162.125.6.1|:443... connected.\n",
            "HTTP request sent, awaiting response... 301 Moved Permanently\n",
            "Location: /s/raw/yjcg6s57n581sk0/checkpoint.zip [following]\n",
            "--2020-10-31 14:26:58--  https://www.dropbox.com/s/raw/yjcg6s57n581sk0/checkpoint.zip\n",
            "Reusing existing connection to www.dropbox.com:443.\n",
            "HTTP request sent, awaiting response... 302 Found\n",
            "Location: https://ucb4b32f510593b01330c1c47ba1.dl.dropboxusercontent.com/cd/0/inline/BCVF_kfg7-5Kce-hxuYPnOSOGnsD8ASJNMpX-vfCQde4IU3lvEqX83LT8xIpe8KCIcr2CVL9hNwse6J4ltNmEY8g_BGaW0u5ePysbqzN7_lGgw/file# [following]\n",
            "--2020-10-31 14:26:58--  https://ucb4b32f510593b01330c1c47ba1.dl.dropboxusercontent.com/cd/0/inline/BCVF_kfg7-5Kce-hxuYPnOSOGnsD8ASJNMpX-vfCQde4IU3lvEqX83LT8xIpe8KCIcr2CVL9hNwse6J4ltNmEY8g_BGaW0u5ePysbqzN7_lGgw/file\n",
            "Resolving ucb4b32f510593b01330c1c47ba1.dl.dropboxusercontent.com (ucb4b32f510593b01330c1c47ba1.dl.dropboxusercontent.com)... 162.125.6.15, 2620:100:601c:15::a27d:60f\n",
            "Connecting to ucb4b32f510593b01330c1c47ba1.dl.dropboxusercontent.com (ucb4b32f510593b01330c1c47ba1.dl.dropboxusercontent.com)|162.125.6.15|:443... connected.\n",
            "HTTP request sent, awaiting response... 302 Found\n",
            "Location: /cd/0/inline2/BCU_c-UTVRotdUCcILeXMrypX6TmFc63x8MtiUXGEGU2BmSQHNkEk-h1jGFSaBySJ3UEaFVOACwl_VBkMyZZz_Ef_T64wk_NxLqizEK5PNp7t2H_R4neeutjOMx8zyhi28TtvDh5Q497HzoZEaR8WBjtDxxLgwXyCq8ZuTPrMR-nuoupJNQBrp5D4kyx-xRNP-pghaPFiXOCW7-tSH8kX2-OrYA2aD15scEXNrVvOmQk_PLURGtgnhlKq5OPygwxfH1uT8Ec2Qa1S4Q66rcYNOcz69DEwLuAPApZzymmPTHNQNAooo6HCgW0xVkwSYUnpWoMdOU09atnpARy5Q39QZAc/file [following]\n",
            "--2020-10-31 14:26:59--  https://ucb4b32f510593b01330c1c47ba1.dl.dropboxusercontent.com/cd/0/inline2/BCU_c-UTVRotdUCcILeXMrypX6TmFc63x8MtiUXGEGU2BmSQHNkEk-h1jGFSaBySJ3UEaFVOACwl_VBkMyZZz_Ef_T64wk_NxLqizEK5PNp7t2H_R4neeutjOMx8zyhi28TtvDh5Q497HzoZEaR8WBjtDxxLgwXyCq8ZuTPrMR-nuoupJNQBrp5D4kyx-xRNP-pghaPFiXOCW7-tSH8kX2-OrYA2aD15scEXNrVvOmQk_PLURGtgnhlKq5OPygwxfH1uT8Ec2Qa1S4Q66rcYNOcz69DEwLuAPApZzymmPTHNQNAooo6HCgW0xVkwSYUnpWoMdOU09atnpARy5Q39QZAc/file\n",
            "Reusing existing connection to ucb4b32f510593b01330c1c47ba1.dl.dropboxusercontent.com:443.\n",
            "HTTP request sent, awaiting response... 200 OK\n",
            "Length: 262259930 (250M) [application/zip]\n",
            "Saving to: ‘checkpoint.zip?dl=0’\n",
            "\n",
            "checkpoint.zip?dl=0 100%[===================>] 250.11M  57.7MB/s    in 4.3s    \n",
            "\n",
            "2020-10-31 14:27:04 (57.9 MB/s) - ‘checkpoint.zip?dl=0’ saved [262259930/262259930]\n",
            "\n"
          ],
          "name": "stdout"
        }
      ]
    },
    {
      "cell_type": "code",
      "metadata": {
        "id": "zy5pJgZoC46b",
        "outputId": "ea864a82-aa0c-409a-de0f-f77a33e3a524",
        "colab": {
          "base_uri": "https://localhost:8080/"
        }
      },
      "source": [
        "!ls"
      ],
      "execution_count": 42,
      "outputs": [
        {
          "output_type": "stream",
          "text": [
            "'checkpoint.zip?dl=0'   planercnn_normal_warping_refine   planercnn_refine.zip\n"
          ],
          "name": "stdout"
        }
      ]
    },
    {
      "cell_type": "code",
      "metadata": {
        "id": "jNb_ruBTMjPh",
        "outputId": "5fd687bf-ed19-4ba4-d899-a4e3b7b5fd67",
        "colab": {
          "base_uri": "https://localhost:8080/"
        }
      },
      "source": [
        "!pwd\n",
        "!ls"
      ],
      "execution_count": 43,
      "outputs": [
        {
          "output_type": "stream",
          "text": [
            "/content/gdrive/My Drive/ColabFiles/S14/planercnn/checkpoint\n",
            "'checkpoint.zip?dl=0'   planercnn_normal_warping_refine   planercnn_refine.zip\n"
          ],
          "name": "stdout"
        }
      ]
    },
    {
      "cell_type": "code",
      "metadata": {
        "id": "wZ_KKoan-Y9E"
      },
      "source": [
        "!mv \"checkpoint.zip?dl=0\" \"planercnn_refine.zip\" "
      ],
      "execution_count": 44,
      "outputs": []
    },
    {
      "cell_type": "code",
      "metadata": {
        "id": "sMei7QDEMqRC",
        "outputId": "3d1fa2b9-c5c6-4106-ed88-a71157218c9c",
        "colab": {
          "base_uri": "https://localhost:8080/"
        }
      },
      "source": [
        "!unzip planercnn_refine.zip"
      ],
      "execution_count": 45,
      "outputs": [
        {
          "output_type": "stream",
          "text": [
            "Archive:  planercnn_refine.zip\n",
            "replace planercnn_normal_warping_refine/checkpoint_refine.pth? [y]es, [n]o, [A]ll, [N]one, [r]ename: A\n",
            "  inflating: planercnn_normal_warping_refine/checkpoint_refine.pth  \n",
            "  inflating: planercnn_normal_warping_refine/checkpoint.pth  \n"
          ],
          "name": "stdout"
        }
      ]
    },
    {
      "cell_type": "code",
      "metadata": {
        "id": "ixjACh3QM0xT",
        "outputId": "527bfc36-ffc1-45bc-e52e-b71e45a44b0b",
        "colab": {
          "base_uri": "https://localhost:8080/"
        }
      },
      "source": [
        "os.chdir(gdrivepath+\"/planercnn\")\n",
        "!pwd\n",
        "!ls"
      ],
      "execution_count": 46,
      "outputs": [
        {
          "output_type": "stream",
          "text": [
            "/content/gdrive/My Drive/ColabFiles/S14/planercnn\n",
            " anchors\t        evaluate_utils.py   Readme.txt\n",
            " cffirequirements.txt   example_images\t    requirements.txt\n",
            " checkpoint\t        LICENSE.md\t    roialign\n",
            " config.py\t        models\t\t    test\n",
            " customimages\t        nms\t\t    train_planercnn.py\n",
            " data_prep\t        options.py\t    utils.py\n",
            " datasets\t        plane_utils.py\t    visualize_utils.py\n",
            "'evaluate - Copy.py'    __pycache__\n",
            " evaluate.py\t        README.md\n"
          ],
          "name": "stdout"
        }
      ]
    },
    {
      "cell_type": "code",
      "metadata": {
        "id": "IMILr48c-dCU",
        "outputId": "8ec54252-976c-4b9a-c3d6-bfeb0246ffd2",
        "colab": {
          "base_uri": "https://localhost:8080/"
        }
      },
      "source": [
        "print(gdrivepath)"
      ],
      "execution_count": 47,
      "outputs": [
        {
          "output_type": "stream",
          "text": [
            "/content/gdrive/My Drive/ColabFiles/S14\n"
          ],
          "name": "stdout"
        }
      ]
    },
    {
      "cell_type": "code",
      "metadata": {
        "id": "D7KRYr1o-pMr",
        "outputId": "6c00d9a1-e544-409a-de9e-55b449a5d313",
        "colab": {
          "base_uri": "https://localhost:8080/"
        }
      },
      "source": [
        "os.chdir(gdrivepath+\"/planercnn\")\n",
        "!pwd\n",
        "!ls"
      ],
      "execution_count": 48,
      "outputs": [
        {
          "output_type": "stream",
          "text": [
            "/content/gdrive/My Drive/ColabFiles/S14/planercnn\n",
            " anchors\t        evaluate_utils.py   Readme.txt\n",
            " cffirequirements.txt   example_images\t    requirements.txt\n",
            " checkpoint\t        LICENSE.md\t    roialign\n",
            " config.py\t        models\t\t    test\n",
            " customimages\t        nms\t\t    train_planercnn.py\n",
            " data_prep\t        options.py\t    utils.py\n",
            " datasets\t        plane_utils.py\t    visualize_utils.py\n",
            "'evaluate - Copy.py'    __pycache__\n",
            " evaluate.py\t        README.md\n"
          ],
          "name": "stdout"
        }
      ]
    },
    {
      "cell_type": "code",
      "metadata": {
        "id": "2APocB-XO4jZ",
        "outputId": "cbe44200-a548-4601-c886-3458bdee488f",
        "colab": {
          "base_uri": "https://localhost:8080/"
        }
      },
      "source": [
        "!pwd\n",
        "!ls example_images"
      ],
      "execution_count": 49,
      "outputs": [
        {
          "output_type": "stream",
          "text": [
            "/content/gdrive/My Drive/ColabFiles/S14/planercnn\n",
            "camera.txt  image_1.png  image_2.png  image_3.png\n"
          ],
          "name": "stdout"
        }
      ]
    },
    {
      "cell_type": "code",
      "metadata": {
        "id": "GFXvWPdvO0z1",
        "outputId": "231e8d07-870b-41ee-e28c-4802b703d896",
        "colab": {
          "base_uri": "https://localhost:8080/"
        }
      },
      "source": [
        "%%writefile camera.txt\n",
        "587 587 320 240 640 480"
      ],
      "execution_count": 50,
      "outputs": [
        {
          "output_type": "stream",
          "text": [
            "Writing camera.txt\n"
          ],
          "name": "stdout"
        }
      ]
    },
    {
      "cell_type": "code",
      "metadata": {
        "id": "sdd3O25_jpSc",
        "outputId": "31b831de-59c3-4416-e0ba-55f9d7f5ba6c",
        "colab": {
          "base_uri": "https://localhost:8080/"
        }
      },
      "source": [
        "!ls camera.txt"
      ],
      "execution_count": 51,
      "outputs": [
        {
          "output_type": "stream",
          "text": [
            "camera.txt\n"
          ],
          "name": "stdout"
        }
      ]
    },
    {
      "cell_type": "code",
      "metadata": {
        "id": "Z5dHggqw-6RF",
        "outputId": "c93251ee-ac41-44c6-f1e8-cc7a74f0cb33",
        "colab": {
          "base_uri": "https://localhost:8080/"
        }
      },
      "source": [
        "!ls customimages|wc -l"
      ],
      "execution_count": 53,
      "outputs": [
        {
          "output_type": "stream",
          "text": [
            "3601\n"
          ],
          "name": "stdout"
        }
      ]
    },
    {
      "cell_type": "code",
      "metadata": {
        "id": "PantHJWKO1Uj"
      },
      "source": [
        "!mv camera.txt customimages/camera.txt"
      ],
      "execution_count": 54,
      "outputs": []
    },
    {
      "cell_type": "code",
      "metadata": {
        "id": "QVpQbD5RO1XO",
        "outputId": "473c9fe4-9cff-415d-c860-bd1d5606d7a7",
        "colab": {
          "base_uri": "https://localhost:8080/"
        }
      },
      "source": [
        "!ls customimages/camera.txt"
      ],
      "execution_count": 55,
      "outputs": [
        {
          "output_type": "stream",
          "text": [
            "customimages/camera.txt\n"
          ],
          "name": "stdout"
        }
      ]
    },
    {
      "cell_type": "code",
      "metadata": {
        "id": "g_uPDyzPj_zr",
        "outputId": "1f85574a-02b4-47c6-96db-abccdea8e273",
        "colab": {
          "base_uri": "https://localhost:8080/"
        }
      },
      "source": [
        "!pwd"
      ],
      "execution_count": 56,
      "outputs": [
        {
          "output_type": "stream",
          "text": [
            "/content/gdrive/My Drive/ColabFiles/S14/planercnn\n"
          ],
          "name": "stdout"
        }
      ]
    },
    {
      "cell_type": "code",
      "metadata": {
        "id": "JwTW1SaxSCxr"
      },
      "source": [
        "#!cp \"/content/gdrive/My Drive/Colab Notebooks/S14/planercnn/options.py\" options.py\n",
        "#!cp \"/content/gdrive/My Drive/Colab Notebooks/S14/planercnn/evaluate.py\" evaluate.py"
      ],
      "execution_count": null,
      "outputs": []
    },
    {
      "cell_type": "code",
      "metadata": {
        "id": "R0aKq8thkRa6",
        "outputId": "366f0f99-10f2-43c5-a935-4447bf5ecea3",
        "colab": {
          "base_uri": "https://localhost:8080/"
        }
      },
      "source": [
        "!ls checkpoint"
      ],
      "execution_count": 57,
      "outputs": [
        {
          "output_type": "stream",
          "text": [
            "planercnn_normal_warping_refine  planercnn_refine.zip\n"
          ],
          "name": "stdout"
        }
      ]
    },
    {
      "cell_type": "code",
      "metadata": {
        "id": "ddsLmHs3k9Ot",
        "outputId": "a574d9be-3972-4126-bce7-2d1515806ad1",
        "colab": {
          "base_uri": "https://localhost:8080/"
        }
      },
      "source": [
        "!pwd\n",
        "!ls customimages/camera.txt\n",
        "!ls test/inference\n",
        "!ls"
      ],
      "execution_count": 58,
      "outputs": [
        {
          "output_type": "stream",
          "text": [
            "/content/gdrive/My Drive/ColabFiles/S14/planercnn\n",
            "customimages/camera.txt\n",
            " anchors\t        evaluate_utils.py   Readme.txt\n",
            " cffirequirements.txt   example_images\t    requirements.txt\n",
            " checkpoint\t        LICENSE.md\t    roialign\n",
            " config.py\t        models\t\t    test\n",
            " customimages\t        nms\t\t    train_planercnn.py\n",
            " data_prep\t        options.py\t    utils.py\n",
            " datasets\t        plane_utils.py\t    visualize_utils.py\n",
            "'evaluate - Copy.py'    __pycache__\n",
            " evaluate.py\t        README.md\n"
          ],
          "name": "stdout"
        }
      ]
    },
    {
      "cell_type": "code",
      "metadata": {
        "id": "uFSaAKVDHHsV",
        "outputId": "9e7e414d-c492-47c9-a8a2-eee99c039ac5",
        "colab": {
          "base_uri": "https://localhost:8080/"
        }
      },
      "source": [
        "!python evaluate.py --methods=f --suffix=warping_refine --dataset=inference --customDataFolder=customimages"
      ],
      "execution_count": 59,
      "outputs": [
        {
          "output_type": "stream",
          "text": [
            "the number of images 3554\n",
            "\r  0% 0/3554 [00:00<?, ?it/s]/content/gdrive/My Drive/ColabFiles/S14/planercnn/models/model.py:1473: UserWarning: nn.init.xavier_uniform is now deprecated in favor of nn.init.xavier_uniform_.\n",
            "  nn.init.xavier_uniform(m.weight)\n",
            "rm: cannot remove 'test/inference/*_final.png': No such file or directory\n",
            "THCudaCheck FAIL file=/pytorch/aten/src/THC/THCGeneral.cpp line=663 error=11 : invalid argument\n",
            "/usr/local/lib/python3.6/dist-packages/torch/nn/functional.py:1890: UserWarning: nn.functional.upsample is deprecated. Use nn.functional.interpolate instead.\n",
            "  warnings.warn(\"nn.functional.upsample is deprecated. Use nn.functional.interpolate instead.\")\n",
            "/usr/local/lib/python3.6/dist-packages/torch/nn/modules/upsampling.py:122: UserWarning: nn.Upsampling is deprecated. Use nn.functional.interpolate instead.\n",
            "  warnings.warn(\"nn.Upsampling is deprecated. Use nn.functional.interpolate instead.\")\n",
            "/usr/local/lib/python3.6/dist-packages/torch/nn/functional.py:1961: UserWarning: Default upsampling behavior when mode=bilinear is changed to align_corners=False since 0.4.0. Please specify align_corners=True if the old behavior is desired. See the documentation of nn.Upsample for details.\n",
            "  \"See the documentation of nn.Upsample for details.\".format(mode))\n",
            "100% 3554/3554 [44:07<00:00,  1.26it/s]\n"
          ],
          "name": "stdout"
        }
      ]
    },
    {
      "cell_type": "code",
      "metadata": {
        "id": "Kq734KUXb4nZ",
        "outputId": "3e203aad-17b2-4c2f-9f0d-07f8e966ce8a",
        "colab": {
          "base_uri": "https://localhost:8080/"
        }
      },
      "source": [
        "!pwd\n",
        "!ls test/inference/*segmentation*final*|wc -l"
      ],
      "execution_count": 67,
      "outputs": [
        {
          "output_type": "stream",
          "text": [
            "/content/gdrive/My Drive/ColabFiles/S14/planercnn\n",
            "3554\n"
          ],
          "name": "stdout"
        }
      ]
    },
    {
      "cell_type": "code",
      "metadata": {
        "id": "HiThbkdAOwej",
        "outputId": "bdb3eaa1-6dee-40c3-8f6c-8142576e10d1",
        "colab": {
          "base_uri": "https://localhost:8080/",
          "height": 467
        }
      },
      "source": [
        "from IPython.display import Image, clear_output \n",
        "Image(filename='test/inference/996_segmentation_0_final.png', width=600)"
      ],
      "execution_count": 70,
      "outputs": [
        {
          "output_type": "execute_result",
          "data": {
            "image/png": "[encoded data removed]",
            "text/plain": [
              "<IPython.core.display.Image object>"
            ]
          },
          "metadata": {
            "tags": [],
            "image/png": {
              "width": 600
            }
          },
          "execution_count": 70
        }
      ]
    },
    {
      "cell_type": "code",
      "metadata": {
        "id": "7neXPJBRRxWo",
        "outputId": "6a6741b5-6a03-42d3-9e87-66d28b3405f6",
        "colab": {
          "base_uri": "https://localhost:8080/"
        }
      },
      "source": [
        "#import os\n",
        "#!os.chdir(\"/content/gdrive/My Drive/ColabFiles/S14/planercnn\")\n",
        "!ls /content/gdrive/'My Drive'/ColabFiles/S14/planercnn\t     "
      ],
      "execution_count": 2,
      "outputs": [
        {
          "output_type": "stream",
          "text": [
            "ls: cannot access '/content/gdrive/My Drive/ColabFiles/S14/planercnn': No such file or directory\n"
          ],
          "name": "stdout"
        }
      ]
    },
    {
      "cell_type": "code",
      "metadata": {
        "id": "2VFCgG19TCQ8"
      },
      "source": [
        "#mkdir /content/gdrive/'My Drive'/ColabFiles/S14/Output/PlanerCnn_Output"
      ],
      "execution_count": null,
      "outputs": []
    },
    {
      "cell_type": "code",
      "metadata": {
        "id": "CbIcK7jySfF6"
      },
      "source": [
        "!ls /content/gdrive/'My Drive'/ColabFiles/S14/Output/PlanerCnn_Output"
      ],
      "execution_count": 4,
      "outputs": []
    },
    {
      "cell_type": "code",
      "metadata": {
        "id": "o2p4HE6iS0k7",
        "outputId": "790c051c-8cd4-4157-fdf1-98ef5056560c",
        "colab": {
          "base_uri": "https://localhost:8080/"
        }
      },
      "source": [
        "!ls /content/gdrive/'My Drive'/ColabFiles/S14/planercnn/test/inference/*segmentation*final* |wc -l"
      ],
      "execution_count": 7,
      "outputs": [
        {
          "output_type": "stream",
          "text": [
            "3554\n"
          ],
          "name": "stdout"
        }
      ]
    },
    {
      "cell_type": "code",
      "metadata": {
        "id": "KJkeaO-iS70j"
      },
      "source": [
        "!cp /content/gdrive/'My Drive'/ColabFiles/S14/planercnn/test/inference/*segmentation*final* /content/gdrive/'My Drive'/ColabFiles/S14/Output/PlanerCnn_Output"
      ],
      "execution_count": 9,
      "outputs": []
    },
    {
      "cell_type": "code",
      "metadata": {
        "id": "Xxny7UjGWQ9V",
        "outputId": "35c3960d-b6d8-4a1c-cd29-44453ca8cfe9",
        "colab": {
          "base_uri": "https://localhost:8080/"
        }
      },
      "source": [
        "!ls /content/gdrive/'My Drive'/ColabFiles/S14/Output/PlanerCnn_Output |wc -l"
      ],
      "execution_count": 10,
      "outputs": [
        {
          "output_type": "stream",
          "text": [
            "3554\n"
          ],
          "name": "stdout"
        }
      ]
    },
    {
      "cell_type": "code",
      "metadata": {
        "id": "7N02Qe9BWUdB"
      },
      "source": [
        ""
      ],
      "execution_count": null,
      "outputs": []
    }
  ]
}