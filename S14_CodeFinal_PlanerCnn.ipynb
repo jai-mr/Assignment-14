{
 "cells": [
  {
   "cell_type": "code",
   "execution_count": null,
   "metadata": {
    "id": "eEnEqhEl7lsD"
   },
   "outputs": [],
   "source": [
    "# Repository github url : https://github.com/jai-mr/\n",
    "# Assignment Repository : https://github.com/jai-mr/Assignment-14\n",
    "# Submitted by : Jaideep Rangnekar\n",
    "# Registered email id : jaideepmr@gmail.com"
   ]
  },
  {
   "cell_type": "code",
   "execution_count": null,
   "metadata": {
    "id": "XNUWDeG27lsZ"
   },
   "outputs": [],
   "source": [
    "#-----------------------------PlanerCNN----------------------------#"
   ]
  },
  {
   "cell_type": "code",
   "execution_count": 1,
   "metadata": {
    "colab": {
     "base_uri": "https://localhost:8080/"
    },
    "id": "EnSPUDfw3Bm-",
    "outputId": "3f974375-db1d-4c09-b160-fdf080039e22"
   },
   "outputs": [
    {
     "name": "stdout",
     "output_type": "stream",
     "text": [
      "Torch 1.6.0+cu101 CUDA 10.1\n",
      "Device: cuda:0\n",
      "True\n"
     ]
    }
   ],
   "source": [
    "import os, torch\n",
    "print('Torch', torch.__version__, 'CUDA', torch.version.cuda)\n",
    "print('Device:', torch.device('cuda:0'))\n",
    "print(torch.cuda.is_available())  "
   ]
  },
  {
   "cell_type": "code",
   "execution_count": 2,
   "metadata": {
    "colab": {
     "base_uri": "https://localhost:8080/"
    },
    "id": "u-uFzet43Btc",
    "outputId": "ea049784-174a-4b0b-9bcf-8f7f3baf900c"
   },
   "outputs": [
    {
     "name": "stdout",
     "output_type": "stream",
     "text": [
      "--2020-10-29 15:06:22--  https://developer.nvidia.com/compute/cuda/8.0/Prod2/local_installers/cuda-repo-ubuntu1604-8-0-local-ga2_8.0.61-1_amd64-deb\n",
      "Resolving developer.nvidia.com (developer.nvidia.com)... 152.199.0.24\n",
      "Connecting to developer.nvidia.com (developer.nvidia.com)|152.199.0.24|:443... connected.\n",
      "HTTP request sent, awaiting response... 302 Found\n",
      "Location: https://developer.download.nvidia.com/compute/cuda/8.0/secure/Prod2/local_installers/cuda-repo-ubuntu1604-8-0-local-ga2_8.0.61-1_amd64.deb?I6I_a-MhavjLZBnMLKIWXr2_kjs9A-L6SVuRBP6enf_VLHcU5lZ5d-iXcxpg-c-92oaIxaRv104XNk6wgHMh73kgBa1JYGDITyzR0qxH2oUYNBHw514YQPaaYYrVE-U1-9qoYWPtVBSNtBh5EjLy4z-vCFbMrovP_XqkichwA3m9WpmOSt16AzAmMMGnVYq2Rp3K2KvhTcA0SgTRzTvYloT_IQ [following]\n",
      "--2020-10-29 15:06:23--  https://developer.download.nvidia.com/compute/cuda/8.0/secure/Prod2/local_installers/cuda-repo-ubuntu1604-8-0-local-ga2_8.0.61-1_amd64.deb?I6I_a-MhavjLZBnMLKIWXr2_kjs9A-L6SVuRBP6enf_VLHcU5lZ5d-iXcxpg-c-92oaIxaRv104XNk6wgHMh73kgBa1JYGDITyzR0qxH2oUYNBHw514YQPaaYYrVE-U1-9qoYWPtVBSNtBh5EjLy4z-vCFbMrovP_XqkichwA3m9WpmOSt16AzAmMMGnVYq2Rp3K2KvhTcA0SgTRzTvYloT_IQ\n",
      "Resolving developer.download.nvidia.com (developer.download.nvidia.com)... 152.195.19.142\n",
      "Connecting to developer.download.nvidia.com (developer.download.nvidia.com)|152.195.19.142|:443... connected.\n",
      "HTTP request sent, awaiting response... 200 OK\n",
      "Length: 1913589814 (1.8G) [application/x-deb]\n",
      "Saving to: ‘cuda-repo-ubuntu1604-8-0-local-ga2_8.0.61-1_amd64-deb’\n",
      "\n",
      "cuda-repo-ubuntu160 100%[===================>]   1.78G  45.9MB/s    in 14s     \n",
      "\n",
      "2020-10-29 15:06:37 (130 MB/s) - ‘cuda-repo-ubuntu1604-8-0-local-ga2_8.0.61-1_amd64-deb’ saved [1913589814/1913589814]\n",
      "\n"
     ]
    }
   ],
   "source": [
    "# Install Cuda 8.0\n",
    "!wget https://developer.nvidia.com/compute/cuda/8.0/Prod2/local_installers/cuda-repo-ubuntu1604-8-0-local-ga2_8.0.61-1_amd64-deb"
   ]
  },
  {
   "cell_type": "code",
   "execution_count": 3,
   "metadata": {
    "colab": {
     "base_uri": "https://localhost:8080/"
    },
    "id": "sq6dk6fh7Hzf",
    "outputId": "fb76847b-ac16-472e-9b12-8d73f7deb9ec"
   },
   "outputs": [
    {
     "name": "stdout",
     "output_type": "stream",
     "text": [
      "cuda-repo-ubuntu1604-8-0-local-ga2_8.0.61-1_amd64-deb  sample_data\n"
     ]
    }
   ],
   "source": [
    "!ls"
   ]
  },
  {
   "cell_type": "code",
   "execution_count": 4,
   "metadata": {
    "colab": {
     "base_uri": "https://localhost:8080/"
    },
    "id": "emMdJjO67H7W",
    "outputId": "753d8339-99e9-453a-fbff-2de81caa9c57"
   },
   "outputs": [
    {
     "name": "stdout",
     "output_type": "stream",
     "text": [
      "Selecting previously unselected package cuda-repo-ubuntu1604-8-0-local-ga2.\n",
      "(Reading database ... 144611 files and directories currently installed.)\n",
      "Preparing to unpack cuda-repo-ubuntu1604-8-0-local-ga2_8.0.61-1_amd64-deb ...\n",
      "Unpacking cuda-repo-ubuntu1604-8-0-local-ga2 (8.0.61-1) ...\n",
      "Setting up cuda-repo-ubuntu1604-8-0-local-ga2 (8.0.61-1) ...\n",
      "Warning: The postinst maintainerscript of the package cuda-repo-ubuntu1604-8-0-local-ga2\n",
      "Warning: seems to use apt-key (provided by apt) without depending on gnupg or gnupg2.\n",
      "Warning: This will BREAK in the future and should be fixed by the package maintainer(s).\n",
      "Note: Check first if apt-key functionality is needed at all - it probably isn't!\n",
      "Warning: apt-key should not be used in scripts (called from postinst maintainerscript of the package cuda-repo-ubuntu1604-8-0-local-ga2)\n",
      "OK\n"
     ]
    }
   ],
   "source": [
    "!dpkg -i cuda-repo-ubuntu1604-8-0-local-ga2_8.0.61-1_amd64-deb"
   ]
  },
  {
   "cell_type": "code",
   "execution_count": 5,
   "metadata": {
    "colab": {
     "base_uri": "https://localhost:8080/"
    },
    "id": "22jtxn_27OoN",
    "outputId": "03b15245-7622-4290-b8db-e609475e8caf"
   },
   "outputs": [
    {
     "name": "stdout",
     "output_type": "stream",
     "text": [
      "backups  colab\t\t\t  lib\t lock  mail  run    tmp\n",
      "cache\t cuda-repo-8-0-local-ga2  local  log   opt   spool\n"
     ]
    }
   ],
   "source": [
    "!ls /var/"
   ]
  },
  {
   "cell_type": "code",
   "execution_count": 6,
   "metadata": {
    "colab": {
     "base_uri": "https://localhost:8080/"
    },
    "id": "OmXUJTkF7Ov5",
    "outputId": "181aed79-6617-4d27-e236-c571283e6693"
   },
   "outputs": [
    {
     "name": "stdout",
     "output_type": "stream",
     "text": [
      "7fa2af80.pub\n"
     ]
    }
   ],
   "source": [
    "!ls /var/cuda-repo-8-0-local-ga2 | grep .pub"
   ]
  },
  {
   "cell_type": "code",
   "execution_count": 7,
   "metadata": {
    "colab": {
     "base_uri": "https://localhost:8080/"
    },
    "id": "KYUgL3kD7O0_",
    "outputId": "a77468f0-fa05-42a0-c45b-e07adc2d6b08"
   },
   "outputs": [
    {
     "name": "stdout",
     "output_type": "stream",
     "text": [
      "OK\n"
     ]
    }
   ],
   "source": [
    "!apt-key add /var/cuda-repo-8-0-local-ga2/7fa2af80.pub"
   ]
  },
  {
   "cell_type": "code",
   "execution_count": 8,
   "metadata": {
    "colab": {
     "base_uri": "https://localhost:8080/"
    },
    "id": "PZY6d9be7OuF",
    "outputId": "8f6c0ea1-12b1-4f41-d21b-b1164c90383a"
   },
   "outputs": [
    {
     "name": "stdout",
     "output_type": "stream",
     "text": [
      "\r",
      "0% [Working]\r",
      "            \r",
      "Get:1 file:/var/cuda-repo-8-0-local-ga2  InRelease\n",
      "\r",
      "            \r",
      "Ign:1 file:/var/cuda-repo-8-0-local-ga2  InRelease\n",
      "\r",
      "0% [Working]\r",
      "            \r",
      "Get:2 file:/var/cuda-repo-8-0-local-ga2  Release [574 B]\n",
      "\r",
      "0% [Connecting to cloud.r-project.org]\r",
      "                                      \r",
      "Get:2 file:/var/cuda-repo-8-0-local-ga2  Release [574 B]\n",
      "\r",
      "0% [2 Release 0 B/574 B 0%] [Connecting to archive.ubuntu.com] [Connecting to s\r",
      "0% [Connecting to archive.ubuntu.com] [Connecting to security.ubuntu.com (91.18\r",
      "                                                                               \r",
      "Get:3 file:/var/cuda-repo-8-0-local-ga2  Release.gpg [819 B]\n",
      "\r",
      "0% [Connecting to archive.ubuntu.com] [Connecting to security.ubuntu.com (91.18\r",
      "                                                                               \r",
      "Get:3 file:/var/cuda-repo-8-0-local-ga2  Release.gpg [819 B]\n",
      "\r",
      "0% [3 Release.gpg 0 B/819 B 0%] [Connecting to archive.ubuntu.com] [Connecting \r",
      "0% [Connecting to archive.ubuntu.com] [Connecting to security.ubuntu.com (91.18\r",
      "0% [3 Release.gpg gpgv 574 B] [Connecting to archive.ubuntu.com] [Connecting to\r",
      "                                                                               \r",
      "Get:4 https://cloud.r-project.org/bin/linux/ubuntu bionic-cran40/ InRelease [3,626 B]\n",
      "\r",
      "0% [3 Release.gpg gpgv 574 B] [Connecting to archive.ubuntu.com] [Waiting for h\r",
      "                                                                               \r",
      "Ign:5 https://developer.download.nvidia.com/compute/cuda/repos/ubuntu1804/x86_64  InRelease\n",
      "\r",
      "0% [3 Release.gpg gpgv 574 B] [Connecting to archive.ubuntu.com] [Waiting for h\r",
      "                                                                               \r",
      "Ign:6 https://developer.download.nvidia.com/compute/machine-learning/repos/ubuntu1804/x86_64  InRelease\n",
      "\r",
      "0% [3 Release.gpg gpgv 574 B] [Connecting to archive.ubuntu.com] [Waiting for h\r",
      "                                                                               \r",
      "Get:7 https://developer.download.nvidia.com/compute/cuda/repos/ubuntu1804/x86_64  Release [697 B]\n",
      "\r",
      "0% [3 Release.gpg gpgv 574 B] [Connecting to archive.ubuntu.com] [Waiting for h\r",
      "                                                                               \r",
      "Get:8 https://developer.download.nvidia.com/compute/machine-learning/repos/ubuntu1804/x86_64  Release [564 B]\n",
      "\r",
      "0% [3 Release.gpg gpgv 574 B] [Connecting to archive.ubuntu.com] [Waiting for h\r",
      "0% [3 Release.gpg gpgv 574 B] [Connecting to archive.ubuntu.com] [Waiting for h\r",
      "                                                                               \r",
      "Get:9 https://developer.download.nvidia.com/compute/cuda/repos/ubuntu1804/x86_64  Release.gpg [836 B]\n",
      "\r",
      "0% [3 Release.gpg gpgv 574 B] [Connecting to archive.ubuntu.com (91.189.88.152)\r",
      "0% [3 Release.gpg gpgv 574 B] [Connecting to archive.ubuntu.com (91.189.88.152)\r",
      "                                                                               \r",
      "Get:10 http://security.ubuntu.com/ubuntu bionic-security InRelease [88.7 kB]\n",
      "\r",
      "0% [3 Release.gpg gpgv 574 B] [Connecting to archive.ubuntu.com (91.189.88.152)\r",
      "                                                                               \r",
      "Get:11 https://developer.download.nvidia.com/compute/machine-learning/repos/ubuntu1804/x86_64  Release.gpg [833 B]\n",
      "Get:12 file:/var/cuda-repo-8-0-local-ga2  Packages [22.7 kB]\n",
      "Get:13 http://ppa.launchpad.net/c2d4u.team/c2d4u4.0+/ubuntu bionic InRelease [15.9 kB]\n",
      "Get:14 https://cloud.r-project.org/bin/linux/ubuntu bionic-cran40/ Packages [39.3 kB]\n",
      "Hit:15 http://archive.ubuntu.com/ubuntu bionic InRelease\n",
      "Ign:16 https://developer.download.nvidia.com/compute/cuda/repos/ubuntu1804/x86_64  Packages\n",
      "Get:16 https://developer.download.nvidia.com/compute/cuda/repos/ubuntu1804/x86_64  Packages [370 kB]\n",
      "Get:17 http://archive.ubuntu.com/ubuntu bionic-updates InRelease [88.7 kB]\n",
      "Get:18 https://developer.download.nvidia.com/compute/machine-learning/repos/ubuntu1804/x86_64  Packages [57.0 kB]\n",
      "Hit:19 http://ppa.launchpad.net/graphics-drivers/ppa/ubuntu bionic InRelease\n",
      "Get:20 http://security.ubuntu.com/ubuntu bionic-security/multiverse amd64 Packages [15.4 kB]\n",
      "Get:21 http://security.ubuntu.com/ubuntu bionic-security/restricted amd64 Packages [213 kB]\n",
      "Get:22 http://archive.ubuntu.com/ubuntu bionic-backports InRelease [74.6 kB]\n",
      "Get:23 http://security.ubuntu.com/ubuntu bionic-security/main amd64 Packages [1,748 kB]\n",
      "Get:24 http://security.ubuntu.com/ubuntu bionic-security/universe amd64 Packages [1,353 kB]\n",
      "Get:25 http://ppa.launchpad.net/c2d4u.team/c2d4u4.0+/ubuntu bionic/main Sources [1,685 kB]\n",
      "Get:26 http://archive.ubuntu.com/ubuntu bionic-updates/multiverse amd64 Packages [45.9 kB]\n",
      "Get:27 http://archive.ubuntu.com/ubuntu bionic-updates/restricted amd64 Packages [239 kB]\n",
      "Get:28 http://archive.ubuntu.com/ubuntu bionic-updates/universe amd64 Packages [2,115 kB]\n",
      "Get:29 http://archive.ubuntu.com/ubuntu bionic-updates/main amd64 Packages [2,165 kB]\n",
      "Get:30 http://ppa.launchpad.net/c2d4u.team/c2d4u4.0+/ubuntu bionic/main amd64 Packages [863 kB]\n",
      "Fetched 11.2 MB in 4s (2,910 kB/s)\n",
      "Reading package lists... Done\n"
     ]
    }
   ],
   "source": [
    "!apt-get update"
   ]
  },
  {
   "cell_type": "code",
   "execution_count": 9,
   "metadata": {
    "colab": {
     "base_uri": "https://localhost:8080/"
    },
    "id": "kB-k4y2p7Os1",
    "outputId": "100e408e-b5d1-4e46-e8ac-7dbf86f7fea6"
   },
   "outputs": [
    {
     "name": "stdout",
     "output_type": "stream",
     "text": [
      "Reading package lists... Done\n",
      "Building dependency tree       \n",
      "Reading state information... Done\n",
      "The following additional packages will be installed:\n",
      "  cuda-command-line-tools-8-0 cuda-core-8-0 cuda-cublas-8-0\n",
      "  cuda-cublas-dev-8-0 cuda-cudart-8-0 cuda-cudart-dev-8-0 cuda-cufft-8-0\n",
      "  cuda-cufft-dev-8-0 cuda-curand-8-0 cuda-curand-dev-8-0 cuda-cusolver-8-0\n",
      "  cuda-cusolver-dev-8-0 cuda-cusparse-8-0 cuda-cusparse-dev-8-0\n",
      "  cuda-demo-suite-8-0 cuda-documentation-8-0 cuda-driver-dev-8-0\n",
      "  cuda-license-8-0 cuda-misc-headers-8-0 cuda-npp-8-0 cuda-npp-dev-8-0\n",
      "  cuda-nvgraph-8-0 cuda-nvgraph-dev-8-0 cuda-nvml-dev-8-0 cuda-nvrtc-8-0\n",
      "  cuda-nvrtc-dev-8-0 cuda-runtime-8-0 cuda-samples-8-0 cuda-toolkit-8-0\n",
      "  cuda-visual-tools-8-0\n",
      "The following NEW packages will be installed:\n",
      "  cuda-8-0 cuda-command-line-tools-8-0 cuda-core-8-0 cuda-cublas-8-0\n",
      "  cuda-cublas-dev-8-0 cuda-cudart-8-0 cuda-cudart-dev-8-0 cuda-cufft-8-0\n",
      "  cuda-cufft-dev-8-0 cuda-curand-8-0 cuda-curand-dev-8-0 cuda-cusolver-8-0\n",
      "  cuda-cusolver-dev-8-0 cuda-cusparse-8-0 cuda-cusparse-dev-8-0\n",
      "  cuda-demo-suite-8-0 cuda-documentation-8-0 cuda-driver-dev-8-0\n",
      "  cuda-license-8-0 cuda-misc-headers-8-0 cuda-npp-8-0 cuda-npp-dev-8-0\n",
      "  cuda-nvgraph-8-0 cuda-nvgraph-dev-8-0 cuda-nvml-dev-8-0 cuda-nvrtc-8-0\n",
      "  cuda-nvrtc-dev-8-0 cuda-runtime-8-0 cuda-samples-8-0 cuda-toolkit-8-0\n",
      "  cuda-visual-tools-8-0\n",
      "0 upgraded, 31 newly installed, 0 to remove and 63 not upgraded.\n",
      "Need to get 0 B/1,312 MB of archives.\n",
      "After this operation, 2,079 MB of additional disk space will be used.\n",
      "Get:1 file:/var/cuda-repo-8-0-local-ga2  cuda-license-8-0 8.0.61-1 [27.6 kB]\n",
      "Get:2 file:/var/cuda-repo-8-0-local-ga2  cuda-misc-headers-8-0 8.0.61-1 [1,077 kB]\n",
      "Get:3 file:/var/cuda-repo-8-0-local-ga2  cuda-core-8-0 8.0.61-1 [20.0 MB]\n",
      "Get:4 file:/var/cuda-repo-8-0-local-ga2  cuda-cudart-8-0 8.0.61-1 [135 kB]\n",
      "Get:5 file:/var/cuda-repo-8-0-local-ga2  cuda-driver-dev-8-0 8.0.61-1 [14.1 kB]\n",
      "Get:6 file:/var/cuda-repo-8-0-local-ga2  cuda-cudart-dev-8-0 8.0.61-1 [1,071 kB]\n",
      "Get:7 file:/var/cuda-repo-8-0-local-ga2  cuda-command-line-tools-8-0 8.0.61-1 [26.1 MB]\n",
      "Get:8 file:/var/cuda-repo-8-0-local-ga2  cuda-nvrtc-8-0 8.0.61-1 [9,585 kB]\n",
      "Get:9 file:/var/cuda-repo-8-0-local-ga2  cuda-nvrtc-dev-8-0 8.0.61-1 [10.8 kB]\n",
      "Get:10 file:/var/cuda-repo-8-0-local-ga2  cuda-cusolver-8-0 8.0.61-1 [29.3 MB]\n",
      "Get:11 file:/var/cuda-repo-8-0-local-ga2  cuda-cusolver-dev-8-0 8.0.61-1 [6,816 kB]\n",
      "Get:12 file:/var/cuda-repo-8-0-local-ga2  cuda-cublas-8-0 8.0.61-1 [27.2 MB]\n",
      "Get:13 file:/var/cuda-repo-8-0-local-ga2  cuda-cublas-dev-8-0 8.0.61-1 [57.4 MB]\n",
      "Get:14 file:/var/cuda-repo-8-0-local-ga2  cuda-cufft-8-0 8.0.61-1 [117 MB]\n",
      "Get:15 file:/var/cuda-repo-8-0-local-ga2  cuda-cufft-dev-8-0 8.0.61-1 [94.8 MB]\n",
      "Get:16 file:/var/cuda-repo-8-0-local-ga2  cuda-curand-8-0 8.0.61-1 [43.7 MB]\n",
      "Get:17 file:/var/cuda-repo-8-0-local-ga2  cuda-curand-dev-8-0 8.0.61-1 [67.7 MB]\n",
      "Get:18 file:/var/cuda-repo-8-0-local-ga2  cuda-cusparse-8-0 8.0.61-1 [28.8 MB]\n",
      "Get:19 file:/var/cuda-repo-8-0-local-ga2  cuda-cusparse-dev-8-0 8.0.61-1 [29.6 MB]\n",
      "Get:20 file:/var/cuda-repo-8-0-local-ga2  cuda-npp-8-0 8.0.61-1 [157 MB]\n",
      "Get:21 file:/var/cuda-repo-8-0-local-ga2  cuda-npp-dev-8-0 8.0.61-1 [82.3 MB]\n",
      "Get:22 file:/var/cuda-repo-8-0-local-ga2  cuda-samples-8-0 8.0.61-1 [101 MB]\n",
      "Get:23 file:/var/cuda-repo-8-0-local-ga2  cuda-documentation-8-0 8.0.61-1 [113 MB]\n",
      "Get:24 file:/var/cuda-repo-8-0-local-ga2  cuda-nvml-dev-8-0 8.0.61-1 [48.4 kB]\n",
      "Get:25 file:/var/cuda-repo-8-0-local-ga2  cuda-nvgraph-8-0 8.0.61-1 [2,948 kB]\n",
      "Get:26 file:/var/cuda-repo-8-0-local-ga2  cuda-nvgraph-dev-8-0 8.0.61-1 [3,028 kB]\n",
      "Get:27 file:/var/cuda-repo-8-0-local-ga2  cuda-visual-tools-8-0 8.0.61-1 [286 MB]\n",
      "Get:28 file:/var/cuda-repo-8-0-local-ga2  cuda-toolkit-8-0 8.0.61-1 [2,892 B]\n",
      "Get:29 file:/var/cuda-repo-8-0-local-ga2  cuda-runtime-8-0 8.0.61-1 [2,574 B]\n",
      "Get:30 file:/var/cuda-repo-8-0-local-ga2  cuda-demo-suite-8-0 8.0.61-1 [4,988 kB]\n",
      "Get:31 file:/var/cuda-repo-8-0-local-ga2  cuda-8-0 8.0.61-1 [2,556 B]\n",
      "Extracting templates from packages: 100%\n",
      "Selecting previously unselected package cuda-license-8-0.\n",
      "(Reading database ... 144705 files and directories currently installed.)\n",
      "Preparing to unpack .../00-cuda-license-8-0_8.0.61-1_amd64.deb ...\n",
      "Unpacking cuda-license-8-0 (8.0.61-1) ...\n",
      "Selecting previously unselected package cuda-misc-headers-8-0.\n",
      "Preparing to unpack .../01-cuda-misc-headers-8-0_8.0.61-1_amd64.deb ...\n",
      "Unpacking cuda-misc-headers-8-0 (8.0.61-1) ...\n",
      "Selecting previously unselected package cuda-core-8-0.\n",
      "Preparing to unpack .../02-cuda-core-8-0_8.0.61-1_amd64.deb ...\n",
      "Unpacking cuda-core-8-0 (8.0.61-1) ...\n",
      "Selecting previously unselected package cuda-cudart-8-0.\n",
      "Preparing to unpack .../03-cuda-cudart-8-0_8.0.61-1_amd64.deb ...\n",
      "Unpacking cuda-cudart-8-0 (8.0.61-1) ...\n",
      "Selecting previously unselected package cuda-driver-dev-8-0.\n",
      "Preparing to unpack .../04-cuda-driver-dev-8-0_8.0.61-1_amd64.deb ...\n",
      "Unpacking cuda-driver-dev-8-0 (8.0.61-1) ...\n",
      "Selecting previously unselected package cuda-cudart-dev-8-0.\n",
      "Preparing to unpack .../05-cuda-cudart-dev-8-0_8.0.61-1_amd64.deb ...\n",
      "Unpacking cuda-cudart-dev-8-0 (8.0.61-1) ...\n",
      "Selecting previously unselected package cuda-command-line-tools-8-0.\n",
      "Preparing to unpack .../06-cuda-command-line-tools-8-0_8.0.61-1_amd64.deb ...\n",
      "Unpacking cuda-command-line-tools-8-0 (8.0.61-1) ...\n",
      "Selecting previously unselected package cuda-nvrtc-8-0.\n",
      "Preparing to unpack .../07-cuda-nvrtc-8-0_8.0.61-1_amd64.deb ...\n",
      "Unpacking cuda-nvrtc-8-0 (8.0.61-1) ...\n",
      "Selecting previously unselected package cuda-nvrtc-dev-8-0.\n",
      "Preparing to unpack .../08-cuda-nvrtc-dev-8-0_8.0.61-1_amd64.deb ...\n",
      "Unpacking cuda-nvrtc-dev-8-0 (8.0.61-1) ...\n",
      "Selecting previously unselected package cuda-cusolver-8-0.\n",
      "Preparing to unpack .../09-cuda-cusolver-8-0_8.0.61-1_amd64.deb ...\n",
      "Unpacking cuda-cusolver-8-0 (8.0.61-1) ...\n",
      "Selecting previously unselected package cuda-cusolver-dev-8-0.\n",
      "Preparing to unpack .../10-cuda-cusolver-dev-8-0_8.0.61-1_amd64.deb ...\n",
      "Unpacking cuda-cusolver-dev-8-0 (8.0.61-1) ...\n",
      "Selecting previously unselected package cuda-cublas-8-0.\n",
      "Preparing to unpack .../11-cuda-cublas-8-0_8.0.61-1_amd64.deb ...\n",
      "Unpacking cuda-cublas-8-0 (8.0.61-1) ...\n",
      "Selecting previously unselected package cuda-cublas-dev-8-0.\n",
      "Preparing to unpack .../12-cuda-cublas-dev-8-0_8.0.61-1_amd64.deb ...\n",
      "Unpacking cuda-cublas-dev-8-0 (8.0.61-1) ...\n",
      "Selecting previously unselected package cuda-cufft-8-0.\n",
      "Preparing to unpack .../13-cuda-cufft-8-0_8.0.61-1_amd64.deb ...\n",
      "Unpacking cuda-cufft-8-0 (8.0.61-1) ...\n",
      "Selecting previously unselected package cuda-cufft-dev-8-0.\n",
      "Preparing to unpack .../14-cuda-cufft-dev-8-0_8.0.61-1_amd64.deb ...\n",
      "Unpacking cuda-cufft-dev-8-0 (8.0.61-1) ...\n",
      "Selecting previously unselected package cuda-curand-8-0.\n",
      "Preparing to unpack .../15-cuda-curand-8-0_8.0.61-1_amd64.deb ...\n",
      "Unpacking cuda-curand-8-0 (8.0.61-1) ...\n",
      "Selecting previously unselected package cuda-curand-dev-8-0.\n",
      "Preparing to unpack .../16-cuda-curand-dev-8-0_8.0.61-1_amd64.deb ...\n",
      "Unpacking cuda-curand-dev-8-0 (8.0.61-1) ...\n",
      "Selecting previously unselected package cuda-cusparse-8-0.\n",
      "Preparing to unpack .../17-cuda-cusparse-8-0_8.0.61-1_amd64.deb ...\n",
      "Unpacking cuda-cusparse-8-0 (8.0.61-1) ...\n",
      "Selecting previously unselected package cuda-cusparse-dev-8-0.\n",
      "Preparing to unpack .../18-cuda-cusparse-dev-8-0_8.0.61-1_amd64.deb ...\n",
      "Unpacking cuda-cusparse-dev-8-0 (8.0.61-1) ...\n",
      "Selecting previously unselected package cuda-npp-8-0.\n",
      "Preparing to unpack .../19-cuda-npp-8-0_8.0.61-1_amd64.deb ...\n",
      "Unpacking cuda-npp-8-0 (8.0.61-1) ...\n",
      "Selecting previously unselected package cuda-npp-dev-8-0.\n",
      "Preparing to unpack .../20-cuda-npp-dev-8-0_8.0.61-1_amd64.deb ...\n",
      "Unpacking cuda-npp-dev-8-0 (8.0.61-1) ...\n",
      "Selecting previously unselected package cuda-samples-8-0.\n",
      "Preparing to unpack .../21-cuda-samples-8-0_8.0.61-1_amd64.deb ...\n",
      "Unpacking cuda-samples-8-0 (8.0.61-1) ...\n",
      "Selecting previously unselected package cuda-documentation-8-0.\n",
      "Preparing to unpack .../22-cuda-documentation-8-0_8.0.61-1_amd64.deb ...\n",
      "Unpacking cuda-documentation-8-0 (8.0.61-1) ...\n",
      "Selecting previously unselected package cuda-nvml-dev-8-0.\n",
      "Preparing to unpack .../23-cuda-nvml-dev-8-0_8.0.61-1_amd64.deb ...\n",
      "Unpacking cuda-nvml-dev-8-0 (8.0.61-1) ...\n",
      "Selecting previously unselected package cuda-nvgraph-8-0.\n",
      "Preparing to unpack .../24-cuda-nvgraph-8-0_8.0.61-1_amd64.deb ...\n",
      "Unpacking cuda-nvgraph-8-0 (8.0.61-1) ...\n",
      "Selecting previously unselected package cuda-nvgraph-dev-8-0.\n",
      "Preparing to unpack .../25-cuda-nvgraph-dev-8-0_8.0.61-1_amd64.deb ...\n",
      "Unpacking cuda-nvgraph-dev-8-0 (8.0.61-1) ...\n",
      "Selecting previously unselected package cuda-visual-tools-8-0.\n",
      "Preparing to unpack .../26-cuda-visual-tools-8-0_8.0.61-1_amd64.deb ...\n",
      "Unpacking cuda-visual-tools-8-0 (8.0.61-1) ...\n",
      "Selecting previously unselected package cuda-toolkit-8-0.\n",
      "Preparing to unpack .../27-cuda-toolkit-8-0_8.0.61-1_amd64.deb ...\n",
      "Unpacking cuda-toolkit-8-0 (8.0.61-1) ...\n",
      "Selecting previously unselected package cuda-runtime-8-0.\n",
      "Preparing to unpack .../28-cuda-runtime-8-0_8.0.61-1_amd64.deb ...\n",
      "Unpacking cuda-runtime-8-0 (8.0.61-1) ...\n",
      "Selecting previously unselected package cuda-demo-suite-8-0.\n",
      "Preparing to unpack .../29-cuda-demo-suite-8-0_8.0.61-1_amd64.deb ...\n",
      "Unpacking cuda-demo-suite-8-0 (8.0.61-1) ...\n",
      "Selecting previously unselected package cuda-8-0.\n",
      "Preparing to unpack .../30-cuda-8-0_8.0.61-1_amd64.deb ...\n",
      "Unpacking cuda-8-0 (8.0.61-1) ...\n",
      "Setting up cuda-license-8-0 (8.0.61-1) ...\n",
      "*** LICENSE AGREEMENT ***\n",
      "By using this software you agree to fully comply with the terms and \n",
      "conditions of the EULA (End User License Agreement). The EULA is located\n",
      "at /usr/local/cuda-8.0/doc/EULA.txt. The EULA can also be found at\n",
      "http://docs.nvidia.com/cuda/eula/index.html. If you do not agree to the\n",
      "terms and conditions of the EULA, do not use the software.\n",
      "\n",
      "Setting up cuda-nvgraph-8-0 (8.0.61-1) ...\n",
      "Setting up cuda-cufft-8-0 (8.0.61-1) ...\n",
      "Setting up cuda-npp-8-0 (8.0.61-1) ...\n",
      "Setting up cuda-nvgraph-dev-8-0 (8.0.61-1) ...\n",
      "Setting up cuda-cudart-8-0 (8.0.61-1) ...\n",
      "Setting up cuda-driver-dev-8-0 (8.0.61-1) ...\n",
      "Setting up cuda-cusolver-8-0 (8.0.61-1) ...\n",
      "Setting up cuda-nvml-dev-8-0 (8.0.61-1) ...\n",
      "Setting up cuda-cufft-dev-8-0 (8.0.61-1) ...\n",
      "Setting up cuda-misc-headers-8-0 (8.0.61-1) ...\n",
      "Setting up cuda-cusparse-8-0 (8.0.61-1) ...\n",
      "Setting up cuda-nvrtc-8-0 (8.0.61-1) ...\n",
      "Setting up cuda-nvrtc-dev-8-0 (8.0.61-1) ...\n",
      "Setting up cuda-curand-8-0 (8.0.61-1) ...\n",
      "Setting up cuda-cublas-8-0 (8.0.61-1) ...\n",
      "Setting up cuda-cusolver-dev-8-0 (8.0.61-1) ...\n",
      "Setting up cuda-core-8-0 (8.0.61-1) ...\n",
      "Setting up cuda-curand-dev-8-0 (8.0.61-1) ...\n",
      "Setting up cuda-npp-dev-8-0 (8.0.61-1) ...\n",
      "Setting up cuda-cudart-dev-8-0 (8.0.61-1) ...\n",
      "Setting up cuda-cublas-dev-8-0 (8.0.61-1) ...\n",
      "Setting up cuda-runtime-8-0 (8.0.61-1) ...\n",
      "Setting up cuda-cusparse-dev-8-0 (8.0.61-1) ...\n",
      "Setting up cuda-command-line-tools-8-0 (8.0.61-1) ...\n",
      "Setting up cuda-demo-suite-8-0 (8.0.61-1) ...\n",
      "Setting up cuda-samples-8-0 (8.0.61-1) ...\n",
      "Setting up cuda-visual-tools-8-0 (8.0.61-1) ...\n",
      "Setting up cuda-documentation-8-0 (8.0.61-1) ...\n",
      "Setting up cuda-toolkit-8-0 (8.0.61-1) ...\n",
      "Setting up cuda-8-0 (8.0.61-1) ...\n",
      "Processing triggers for libc-bin (2.27-3ubuntu1.2) ...\n",
      "/sbin/ldconfig.real: /usr/local/lib/python3.6/dist-packages/ideep4py/lib/libmkldnn.so.0 is not a symbolic link\n",
      "\n"
     ]
    }
   ],
   "source": [
    "!apt-get install cuda-8-0"
   ]
  },
  {
   "cell_type": "code",
   "execution_count": null,
   "metadata": {
    "id": "tQSP1pmP8Zfu"
   },
   "outputs": [],
   "source": [
    "# Install [PyTorch](https://pytorch.org/) with Cuda 8.0 support"
   ]
  },
  {
   "cell_type": "code",
   "execution_count": 10,
   "metadata": {
    "colab": {
     "base_uri": "https://localhost:8080/"
    },
    "id": "Oq8NWTAK8r9_",
    "outputId": "c7b7162c-9ba1-4108-9d5c-b4561ae06d27"
   },
   "outputs": [
    {
     "name": "stdout",
     "output_type": "stream",
     "text": [
      "nvcc: NVIDIA (R) Cuda compiler driver\n",
      "Copyright (c) 2005-2016 NVIDIA Corporation\n",
      "Built on Tue_Jan_10_13:22:03_CST_2017\n",
      "Cuda compilation tools, release 8.0, V8.0.61\n"
     ]
    }
   ],
   "source": [
    "!nvcc --version"
   ]
  },
  {
   "cell_type": "code",
   "execution_count": 11,
   "metadata": {
    "colab": {
     "base_uri": "https://localhost:8080/",
     "height": 273
    },
    "id": "6iIQkjsp8Zj-",
    "outputId": "f7d30640-5962-4194-9d02-a441771be59b"
   },
   "outputs": [
    {
     "name": "stdout",
     "output_type": "stream",
     "text": [
      "Collecting torch==0.4.0\n",
      "\u001b[?25l  Downloading https://files.pythonhosted.org/packages/69/43/380514bd9663f1bf708abeb359b8b48d3fabb1c8e95bb3427a980a064c57/torch-0.4.0-cp36-cp36m-manylinux1_x86_64.whl (484.0MB)\n",
      "\u001b[K     |████████████████████████████████| 484.0MB 34kB/s \n",
      "\u001b[31mERROR: torchvision 0.7.0+cu101 has requirement torch==1.6.0, but you'll have torch 0.4.0 which is incompatible.\u001b[0m\n",
      "\u001b[31mERROR: fastai 1.0.61 has requirement torch>=1.0.0, but you'll have torch 0.4.0 which is incompatible.\u001b[0m\n",
      "\u001b[?25hInstalling collected packages: torch\n",
      "  Found existing installation: torch 1.6.0+cu101\n",
      "    Uninstalling torch-1.6.0+cu101:\n",
      "      Successfully uninstalled torch-1.6.0+cu101\n",
      "Successfully installed torch-0.4.0\n"
     ]
    },
    {
     "data": {
      "application/vnd.colab-display-data+json": {
       "pip_warning": {
        "packages": [
         "torch"
        ]
       }
      }
     },
     "metadata": {
      "tags": []
     },
     "output_type": "display_data"
    }
   ],
   "source": [
    "!pip install torch==0.4.0"
   ]
  },
  {
   "cell_type": "code",
   "execution_count": 1,
   "metadata": {
    "colab": {
     "base_uri": "https://localhost:8080/"
    },
    "id": "PMsCOWy8B4bF",
    "outputId": "adb48004-6196-4edd-f47b-d366a3dd90f7"
   },
   "outputs": [
    {
     "name": "stdout",
     "output_type": "stream",
     "text": [
      "nvcc: NVIDIA (R) Cuda compiler driver\n",
      "Copyright (c) 2005-2016 NVIDIA Corporation\n",
      "Built on Tue_Jan_10_13:22:03_CST_2017\n",
      "Cuda compilation tools, release 8.0, V8.0.61\n"
     ]
    }
   ],
   "source": [
    "!nvcc --version"
   ]
  },
  {
   "cell_type": "code",
   "execution_count": 2,
   "metadata": {
    "colab": {
     "base_uri": "https://localhost:8080/"
    },
    "id": "l6jpr5Y28ZdE",
    "outputId": "c6982f5d-2377-48c7-f79c-12fb9416694b"
   },
   "outputs": [
    {
     "name": "stdout",
     "output_type": "stream",
     "text": [
      "0.4.0\n"
     ]
    }
   ],
   "source": [
    "import torch\n",
    "from torch import nn\n",
    "print(torch.__version__)"
   ]
  },
  {
   "cell_type": "code",
   "execution_count": 4,
   "metadata": {
    "colab": {
     "base_uri": "https://localhost:8080/"
    },
    "id": "QtRBY9x2_0V-",
    "outputId": "ef58d1aa-f11f-410d-c6b8-6f4ec765b3ac"
   },
   "outputs": [
    {
     "name": "stdout",
     "output_type": "stream",
     "text": [
      "Mounted at /content/gdrive\n",
      "/content/gdrive/My Drive/ColabFiles/S14\n",
      "S14_CodeFinal.ipynb\n"
     ]
    }
   ],
   "source": [
    "# Drive already mounted at /content/gdrive; to attempt to forcibly remount, call drive.mount(\"/content/gdrive\", force_remount=True).\n",
    "from google.colab import drive\n",
    "drive.mount(\"/content/gdrive\")\n",
    "# gdrivepath=\"/content/gdrive/My Drive/Colab Notebooks/S14/\"\n",
    "gdrivepath=\"/content/gdrive/My Drive/ColabFiles/S14/\"\n",
    "import os \n",
    "os.chdir(gdrivepath)\n",
    "!pwd\n",
    "!ls"
   ]
  },
  {
   "cell_type": "code",
   "execution_count": null,
   "metadata": {
    "id": "38GJaHkT9ZjX"
   },
   "outputs": [],
   "source": [
    "# Setup PlanerCNN"
   ]
  },
  {
   "cell_type": "code",
   "execution_count": null,
   "metadata": {
    "colab": {
     "base_uri": "https://localhost:8080/"
    },
    "id": "Gk6J69JNI-mT",
    "outputId": "98daa8a3-a2fa-4e0f-feb9-ace1357d2aad"
   },
   "outputs": [
    {
     "name": "stdout",
     "output_type": "stream",
     "text": [
      "Cloning into 'planercnn'...\n",
      "remote: Enumerating objects: 150, done.\u001b[K\n",
      "remote: Total 150 (delta 0), reused 0 (delta 0), pack-reused 150\u001b[K\n",
      "Receiving objects: 100% (150/150), 1.33 MiB | 24.68 MiB/s, done.\n",
      "Resolving deltas: 100% (51/51), done.\n"
     ]
    }
   ],
   "source": [
    "!git clone https://github.com/NVlabs/planercnn.git"
   ]
  },
  {
   "cell_type": "code",
   "execution_count": 5,
   "metadata": {
    "colab": {
     "base_uri": "https://localhost:8080/"
    },
    "id": "sBDZBauT9O6i",
    "outputId": "d2ca2193-0af8-4893-99fc-d4200b527c67"
   },
   "outputs": [
    {
     "name": "stdout",
     "output_type": "stream",
     "text": [
      "/content/gdrive/My Drive/ColabFiles/S14\n",
      "MiDaS  planercnn  S14_CodeFinal.ipynb\n"
     ]
    }
   ],
   "source": [
    "!pwd\n",
    "!ls"
   ]
  },
  {
   "cell_type": "code",
   "execution_count": 6,
   "metadata": {
    "colab": {
     "base_uri": "https://localhost:8080/"
    },
    "id": "tS2dF2vl8DkA",
    "outputId": "f37a9673-da6d-47a6-9d6c-60a65019c5c4"
   },
   "outputs": [
    {
     "name": "stdout",
     "output_type": "stream",
     "text": [
      " anchors\t        evaluate_utils.py   README.md\n",
      " cffirequirements.txt   example_images\t    Readme.txt\n",
      " config.py\t        LICENSE.md\t    requirements.txt\n",
      " data_prep\t        models\t\t    roialign\n",
      " datasets\t        nms\t\t    train_planercnn.py\n",
      "'evaluate - Copy.py'    options.py\t    utils.py\n",
      " evaluate.py\t        plane_utils.py\t    visualize_utils.py\n"
     ]
    }
   ],
   "source": [
    "!ls planercnn  "
   ]
  },
  {
   "cell_type": "code",
   "execution_count": 7,
   "metadata": {
    "id": "kaqLVxBh_CEJ"
   },
   "outputs": [],
   "source": [
    "import os \n",
    "os.chdir(\"planercnn\")"
   ]
  },
  {
   "cell_type": "code",
   "execution_count": 8,
   "metadata": {
    "colab": {
     "base_uri": "https://localhost:8080/"
    },
    "id": "i8iSd_9E_CGu",
    "outputId": "a49e6a69-00f3-4426-9f8d-12289ebb547f"
   },
   "outputs": [
    {
     "name": "stdout",
     "output_type": "stream",
     "text": [
      "/content/gdrive/My Drive/ColabFiles/S14/planercnn\n",
      " anchors\t        evaluate_utils.py   README.md\n",
      " cffirequirements.txt   example_images\t    Readme.txt\n",
      " config.py\t        LICENSE.md\t    requirements.txt\n",
      " data_prep\t        models\t\t    roialign\n",
      " datasets\t        nms\t\t    train_planercnn.py\n",
      "'evaluate - Copy.py'    options.py\t    utils.py\n",
      " evaluate.py\t        plane_utils.py\t    visualize_utils.py\n"
     ]
    }
   ],
   "source": [
    "!pwd\n",
    "!ls"
   ]
  },
  {
   "cell_type": "code",
   "execution_count": 9,
   "metadata": {
    "colab": {
     "base_uri": "https://localhost:8080/",
     "height": 1000
    },
    "id": "Cvbv_XuB_CJT",
    "outputId": "a4ab0fac-cc1e-4e29-c40e-6ead82475587"
   },
   "outputs": [
    {
     "name": "stdout",
     "output_type": "stream",
     "text": [
      "Collecting cffi==1.11.5\n",
      "\u001b[?25l  Downloading https://files.pythonhosted.org/packages/6d/c0/47db8f624f3e4e2f3f27be03a93379d1ba16a1450a7b1aacfa0366e2c0dd/cffi-1.11.5-cp36-cp36m-manylinux1_x86_64.whl (421kB)\n",
      "\u001b[K     |████████████████████████████████| 430kB 4.6MB/s \n",
      "\u001b[?25hCollecting numpy==1.15.4\n",
      "\u001b[?25l  Downloading https://files.pythonhosted.org/packages/ff/7f/9d804d2348471c67a7d8b5f84f9bc59fd1cefa148986f2b74552f8573555/numpy-1.15.4-cp36-cp36m-manylinux1_x86_64.whl (13.9MB)\n",
      "\u001b[K     |████████████████████████████████| 13.9MB 241kB/s \n",
      "\u001b[?25hCollecting opencv-python==3.4.4.19\n",
      "\u001b[?25l  Downloading https://files.pythonhosted.org/packages/85/16/446110984e7a814a9e12862bd6da8d09501d274867b55223e48ee10cd752/opencv_python-3.4.4.19-cp36-cp36m-manylinux1_x86_64.whl (25.4MB)\n",
      "\u001b[K     |████████████████████████████████| 25.4MB 102kB/s \n",
      "\u001b[?25hCollecting scikit-image==0.14.1\n",
      "\u001b[?25l  Downloading https://files.pythonhosted.org/packages/9c/90/553120309c53bdfca25c9c50769ae40a538a90c24db8c082468aec898d00/scikit_image-0.14.1-cp36-cp36m-manylinux1_x86_64.whl (25.3MB)\n",
      "\u001b[K     |████████████████████████████████| 25.3MB 91kB/s \n",
      "\u001b[?25hCollecting torch==0.4.1\n",
      "\u001b[?25l  Downloading https://files.pythonhosted.org/packages/49/0e/e382bcf1a6ae8225f50b99cc26effa2d4cc6d66975ccf3fa9590efcbedce/torch-0.4.1-cp36-cp36m-manylinux1_x86_64.whl (519.5MB)\n",
      "\u001b[K     |████████████████████████████████| 519.5MB 22kB/s \n",
      "\u001b[?25hCollecting tqdm==4.28.1\n",
      "\u001b[?25l  Downloading https://files.pythonhosted.org/packages/91/55/8cb23a97301b177e9c8e3226dba45bb454411de2cbd25746763267f226c2/tqdm-4.28.1-py2.py3-none-any.whl (45kB)\n",
      "\u001b[K     |████████████████████████████████| 51kB 8.3MB/s \n",
      "\u001b[?25hRequirement already satisfied: pycparser in /usr/local/lib/python3.6/dist-packages (from cffi==1.11.5->-r requirements.txt (line 1)) (2.20)\n",
      "Requirement already satisfied: matplotlib>=2.0.0 in /usr/local/lib/python3.6/dist-packages (from scikit-image==0.14.1->-r requirements.txt (line 4)) (3.2.2)\n",
      "Requirement already satisfied: six>=1.10.0 in /usr/local/lib/python3.6/dist-packages (from scikit-image==0.14.1->-r requirements.txt (line 4)) (1.15.0)\n",
      "Requirement already satisfied: dask[array]>=0.9.0 in /usr/local/lib/python3.6/dist-packages (from scikit-image==0.14.1->-r requirements.txt (line 4)) (2.12.0)\n",
      "Requirement already satisfied: cloudpickle>=0.2.1 in /usr/local/lib/python3.6/dist-packages (from scikit-image==0.14.1->-r requirements.txt (line 4)) (1.3.0)\n",
      "Requirement already satisfied: pillow>=4.3.0 in /usr/local/lib/python3.6/dist-packages (from scikit-image==0.14.1->-r requirements.txt (line 4)) (7.0.0)\n",
      "Requirement already satisfied: scipy>=0.17.0 in /usr/local/lib/python3.6/dist-packages (from scikit-image==0.14.1->-r requirements.txt (line 4)) (1.4.1)\n",
      "Requirement already satisfied: networkx>=1.8 in /usr/local/lib/python3.6/dist-packages (from scikit-image==0.14.1->-r requirements.txt (line 4)) (2.5)\n",
      "Requirement already satisfied: PyWavelets>=0.4.0 in /usr/local/lib/python3.6/dist-packages (from scikit-image==0.14.1->-r requirements.txt (line 4)) (1.1.1)\n",
      "Requirement already satisfied: cycler>=0.10 in /usr/local/lib/python3.6/dist-packages (from matplotlib>=2.0.0->scikit-image==0.14.1->-r requirements.txt (line 4)) (0.10.0)\n",
      "Requirement already satisfied: pyparsing!=2.0.4,!=2.1.2,!=2.1.6,>=2.0.1 in /usr/local/lib/python3.6/dist-packages (from matplotlib>=2.0.0->scikit-image==0.14.1->-r requirements.txt (line 4)) (2.4.7)\n",
      "Requirement already satisfied: python-dateutil>=2.1 in /usr/local/lib/python3.6/dist-packages (from matplotlib>=2.0.0->scikit-image==0.14.1->-r requirements.txt (line 4)) (2.8.1)\n",
      "Requirement already satisfied: kiwisolver>=1.0.1 in /usr/local/lib/python3.6/dist-packages (from matplotlib>=2.0.0->scikit-image==0.14.1->-r requirements.txt (line 4)) (1.2.0)\n",
      "Requirement already satisfied: toolz>=0.7.3; extra == \"array\" in /usr/local/lib/python3.6/dist-packages (from dask[array]>=0.9.0->scikit-image==0.14.1->-r requirements.txt (line 4)) (0.11.1)\n",
      "Requirement already satisfied: decorator>=4.3.0 in /usr/local/lib/python3.6/dist-packages (from networkx>=1.8->scikit-image==0.14.1->-r requirements.txt (line 4)) (4.4.2)\n",
      "\u001b[31mERROR: umap-learn 0.4.6 has requirement numpy>=1.17, but you'll have numpy 1.15.4 which is incompatible.\u001b[0m\n",
      "\u001b[31mERROR: torchvision 0.7.0+cu101 has requirement torch==1.6.0, but you'll have torch 0.4.1 which is incompatible.\u001b[0m\n",
      "\u001b[31mERROR: tensorflow 2.3.0 has requirement numpy<1.19.0,>=1.16.0, but you'll have numpy 1.15.4 which is incompatible.\u001b[0m\n",
      "\u001b[31mERROR: spacy 2.2.4 has requirement tqdm<5.0.0,>=4.38.0, but you'll have tqdm 4.28.1 which is incompatible.\u001b[0m\n",
      "\u001b[31mERROR: rpy2 3.2.7 has requirement cffi>=1.13.1, but you'll have cffi 1.11.5 which is incompatible.\u001b[0m\n",
      "\u001b[31mERROR: plotnine 0.6.0 has requirement numpy>=1.16.0, but you'll have numpy 1.15.4 which is incompatible.\u001b[0m\n",
      "\u001b[31mERROR: fbprophet 0.7.1 has requirement tqdm>=4.36.1, but you'll have tqdm 4.28.1 which is incompatible.\u001b[0m\n",
      "\u001b[31mERROR: fastai 1.0.61 has requirement torch>=1.0.0, but you'll have torch 0.4.1 which is incompatible.\u001b[0m\n",
      "\u001b[31mERROR: datascience 0.10.6 has requirement folium==0.2.1, but you'll have folium 0.8.3 which is incompatible.\u001b[0m\n",
      "\u001b[31mERROR: astropy 4.1 has requirement numpy>=1.16, but you'll have numpy 1.15.4 which is incompatible.\u001b[0m\n",
      "\u001b[31mERROR: albumentations 0.1.12 has requirement imgaug<0.2.7,>=0.2.5, but you'll have imgaug 0.2.9 which is incompatible.\u001b[0m\n",
      "Installing collected packages: cffi, numpy, opencv-python, scikit-image, torch, tqdm\n",
      "  Found existing installation: cffi 1.14.3\n",
      "    Uninstalling cffi-1.14.3:\n",
      "      Successfully uninstalled cffi-1.14.3\n",
      "  Found existing installation: numpy 1.18.5\n",
      "    Uninstalling numpy-1.18.5:\n",
      "      Successfully uninstalled numpy-1.18.5\n",
      "  Found existing installation: opencv-python 4.1.2.30\n",
      "    Uninstalling opencv-python-4.1.2.30:\n",
      "      Successfully uninstalled opencv-python-4.1.2.30\n",
      "  Found existing installation: scikit-image 0.16.2\n",
      "    Uninstalling scikit-image-0.16.2:\n",
      "      Successfully uninstalled scikit-image-0.16.2\n",
      "  Found existing installation: torch 0.4.0\n",
      "    Uninstalling torch-0.4.0:\n",
      "      Successfully uninstalled torch-0.4.0\n",
      "  Found existing installation: tqdm 4.41.1\n",
      "    Uninstalling tqdm-4.41.1:\n",
      "      Successfully uninstalled tqdm-4.41.1\n",
      "Successfully installed cffi-1.11.5 numpy-1.15.4 opencv-python-3.4.4.19 scikit-image-0.14.1 torch-0.4.1 tqdm-4.28.1\n"
     ]
    },
    {
     "data": {
      "application/vnd.colab-display-data+json": {
       "pip_warning": {
        "packages": [
         "cffi",
         "numpy",
         "torch"
        ]
       }
      }
     },
     "metadata": {
      "tags": []
     },
     "output_type": "display_data"
    }
   ],
   "source": [
    "!pip install -r requirements.txt"
   ]
  },
  {
   "cell_type": "code",
   "execution_count": 1,
   "metadata": {
    "colab": {
     "base_uri": "https://localhost:8080/"
    },
    "id": "soDU2X5zn3Wg",
    "outputId": "23398643-c893-4b87-dacc-1a0ae53a9120"
   },
   "outputs": [
    {
     "name": "stdout",
     "output_type": "stream",
     "text": [
      "nvcc: NVIDIA (R) Cuda compiler driver\n",
      "Copyright (c) 2005-2016 NVIDIA Corporation\n",
      "Built on Tue_Jan_10_13:22:03_CST_2017\n",
      "Cuda compilation tools, release 8.0, V8.0.61\n"
     ]
    }
   ],
   "source": [
    "!nvcc --version"
   ]
  },
  {
   "cell_type": "code",
   "execution_count": 1,
   "metadata": {
    "colab": {
     "base_uri": "https://localhost:8080/"
    },
    "id": "5fSSnBrCg2P_",
    "outputId": "a17cc093-95e0-4fa0-cb32-aa1a5dd60a39"
   },
   "outputs": [
    {
     "name": "stdout",
     "output_type": "stream",
     "text": [
      "Mounted at /content/gdrive\n",
      "/content/gdrive/My Drive/ColabFiles/S14\n",
      "MiDaS  planercnn  S14_CodeFinal.ipynb\n"
     ]
    }
   ],
   "source": [
    "# Drive already mounted at /content/gdrive; to attempt to forcibly remount, call drive.mount(\"/content/gdrive\", force_remount=True).\n",
    "from google.colab import drive\n",
    "drive.mount(\"/content/gdrive\")\n",
    "#gdrivepath=\"/content/gdrive/My Drive/Colab Notebooks/S14/\"\n",
    "gdrivepath=\"/content/gdrive/My Drive/ColabFiles/S14\"\n",
    "import os \n",
    "os.chdir(gdrivepath)\n",
    "!pwd\n",
    "!ls"
   ]
  },
  {
   "cell_type": "code",
   "execution_count": null,
   "metadata": {
    "id": "BRUYIBW6f_Ye"
   },
   "outputs": [],
   "source": [
    "!pip install torch==0.4.1"
   ]
  },
  {
   "cell_type": "code",
   "execution_count": null,
   "metadata": {
    "colab": {
     "base_uri": "https://localhost:8080/"
    },
    "id": "4IsTso3n7lse",
    "outputId": "9fd9aa4a-2af0-44b5-a8a9-206192722380"
   },
   "outputs": [
    {
     "name": "stdout",
     "output_type": "stream",
     "text": [
      "0.4.1\n"
     ]
    }
   ],
   "source": [
    "import torch\n",
    "print(torch.__version__)"
   ]
  },
  {
   "cell_type": "code",
   "execution_count": 3,
   "metadata": {
    "colab": {
     "base_uri": "https://localhost:8080/"
    },
    "id": "3DBpgfrn_nYi",
    "outputId": "83a0836a-c842-4400-e678-8126b400a0be"
   },
   "outputs": [
    {
     "name": "stdout",
     "output_type": "stream",
     "text": [
      "/content/gdrive/My Drive/ColabFiles/S14\n",
      "MiDaS  planercnn  S14_CodeFinal.ipynb\n"
     ]
    }
   ],
   "source": [
    "!pwd\n",
    "!ls"
   ]
  },
  {
   "cell_type": "code",
   "execution_count": 4,
   "metadata": {
    "id": "IK-8b3gu7lsg"
   },
   "outputs": [],
   "source": [
    "import os\n",
    "os.chdir(\"planercnn/nms/src/cuda/\")"
   ]
  },
  {
   "cell_type": "code",
   "execution_count": 5,
   "metadata": {
    "colab": {
     "base_uri": "https://localhost:8080/"
    },
    "id": "Yhospz-87lsi",
    "outputId": "7425d25a-8e3b-4088-cc1e-90e86bf64ed4"
   },
   "outputs": [
    {
     "name": "stdout",
     "output_type": "stream",
     "text": [
      "/content/gdrive/My Drive/ColabFiles/S14/planercnn/nms/src/cuda\n",
      "nms_kernel.cu  nms_kernel.h\n"
     ]
    }
   ],
   "source": [
    "!pwd\n",
    "!ls"
   ]
  },
  {
   "cell_type": "code",
   "execution_count": 6,
   "metadata": {
    "colab": {
     "base_uri": "https://localhost:8080/"
    },
    "id": "yqxSkYnvBFlM",
    "outputId": "9289eee0-d201-4d64-ceee-9f74e18bf0c7"
   },
   "outputs": [
    {
     "name": "stdout",
     "output_type": "stream",
     "text": [
      "nvcc: NVIDIA (R) Cuda compiler driver\n",
      "Copyright (c) 2005-2016 NVIDIA Corporation\n",
      "Built on Tue_Jan_10_13:22:03_CST_2017\n",
      "Cuda compilation tools, release 8.0, V8.0.61\n"
     ]
    }
   ],
   "source": [
    "!nvcc --version"
   ]
  },
  {
   "cell_type": "markdown",
   "metadata": {
    "id": "AiNpo4W3Ddfb"
   },
   "source": [
    "# GPU\tarch\n",
    "* TitanX\t  sm_52\n",
    "* GTX 960M\tsm_50\n",
    "* GTX 1070\tsm_61\n",
    "* GTX 1080 (Ti), Titan XP\tsm_61\n",
    "* TESLA    sm_75"
   ]
  },
  {
   "cell_type": "code",
   "execution_count": 7,
   "metadata": {
    "colab": {
     "base_uri": "https://localhost:8080/"
    },
    "id": "SieLyZS7D-cn",
    "outputId": "b918123d-6d2b-4fff-901d-20358c484459"
   },
   "outputs": [
    {
     "name": "stdout",
     "output_type": "stream",
     "text": [
      "gcc (Ubuntu 7.5.0-3ubuntu1~18.04) 7.5.0\n",
      "Copyright (C) 2017 Free Software Foundation, Inc.\n",
      "This is free software; see the source for copying conditions.  There is NO\n",
      "warranty; not even for MERCHANTABILITY or FITNESS FOR A PARTICULAR PURPOSE.\n",
      "\n"
     ]
    }
   ],
   "source": [
    "!gcc --version"
   ]
  },
  {
   "cell_type": "code",
   "execution_count": 8,
   "metadata": {
    "colab": {
     "base_uri": "https://localhost:8080/"
    },
    "id": "Epd-2uN8EC1q",
    "outputId": "f8ceca4c-9519-46da-ffa9-17976a00d0f1"
   },
   "outputs": [
    {
     "name": "stdout",
     "output_type": "stream",
     "text": [
      "Reading package lists... Done\n",
      "Building dependency tree       \n",
      "Reading state information... Done\n",
      "The following additional packages will be installed:\n",
      "  cpp-5 gcc-5-base gcc-5-multilib gcc-6-base gcc-7-multilib gcc-multilib\n",
      "  lib32asan2 lib32asan4 lib32atomic1 lib32cilkrts5 lib32gcc-5-dev\n",
      "  lib32gcc-7-dev lib32gomp1 lib32itm1 lib32mpx0 lib32mpx2 lib32quadmath0\n",
      "  lib32stdc++-5-dev lib32ubsan0 libasan2 libc6-dev-i386 libc6-dev-x32\n",
      "  libc6-x32 libgcc-5-dev libgfortran-5-dev libgfortran3 libisl15 libmpx0\n",
      "  libstdc++-5-dev libx32asan2 libx32asan4 libx32atomic1 libx32cilkrts5\n",
      "  libx32gcc-5-dev libx32gcc-7-dev libx32gcc1 libx32gomp1 libx32itm1\n",
      "  libx32quadmath0 libx32stdc++-5-dev libx32stdc++6 libx32ubsan0\n",
      "Suggested packages:\n",
      "  gcc-5-locales gcc-5-doc libstdc++6-5-dbg lib32stdc++6-5-dbg\n",
      "  libx32stdc++6-5-dbg libgcc1-dbg libgomp1-dbg libitm1-dbg libatomic1-dbg\n",
      "  libasan2-dbg liblsan0-dbg libtsan0-dbg libubsan0-dbg libcilkrts5-dbg\n",
      "  libmpx0-dbg libquadmath0-dbg gfortran-5-multilib gfortran-5-doc\n",
      "  libgfortran3-dbg libstdc++-5-doc\n",
      "The following NEW packages will be installed:\n",
      "  cpp-5 g++-5 g++-5-multilib gcc-5 gcc-5-base gcc-5-multilib gcc-6-base\n",
      "  gcc-7-multilib gcc-multilib gfortran-5 lib32asan2 lib32asan4 lib32atomic1\n",
      "  lib32cilkrts5 lib32gcc-5-dev lib32gcc-7-dev lib32gomp1 lib32itm1 lib32mpx0\n",
      "  lib32mpx2 lib32quadmath0 lib32stdc++-5-dev lib32ubsan0 libasan2\n",
      "  libc6-dev-i386 libc6-dev-x32 libc6-x32 libgcc-5-dev libgfortran-5-dev\n",
      "  libgfortran3 libisl15 libmpx0 libstdc++-5-dev libx32asan2 libx32asan4\n",
      "  libx32atomic1 libx32cilkrts5 libx32gcc-5-dev libx32gcc-7-dev libx32gcc1\n",
      "  libx32gomp1 libx32itm1 libx32quadmath0 libx32stdc++-5-dev libx32stdc++6\n",
      "  libx32ubsan0\n",
      "0 upgraded, 46 newly installed, 0 to remove and 63 not upgraded.\n",
      "Need to get 56.5 MB of archives.\n",
      "After this operation, 223 MB of additional disk space will be used.\n",
      "Get:1 http://archive.ubuntu.com/ubuntu bionic/universe amd64 gcc-5-base amd64 5.5.0-12ubuntu1 [17.1 kB]\n",
      "Get:2 http://archive.ubuntu.com/ubuntu bionic/universe amd64 libisl15 amd64 0.18-4 [548 kB]\n",
      "Get:3 http://archive.ubuntu.com/ubuntu bionic/universe amd64 cpp-5 amd64 5.5.0-12ubuntu1 [7,785 kB]\n",
      "Get:4 http://archive.ubuntu.com/ubuntu bionic/universe amd64 libasan2 amd64 5.5.0-12ubuntu1 [264 kB]\n",
      "Get:5 http://archive.ubuntu.com/ubuntu bionic/universe amd64 libmpx0 amd64 5.5.0-12ubuntu1 [9,888 B]\n",
      "Get:6 http://archive.ubuntu.com/ubuntu bionic/universe amd64 libgcc-5-dev amd64 5.5.0-12ubuntu1 [2,224 kB]\n",
      "Get:7 http://archive.ubuntu.com/ubuntu bionic/universe amd64 gcc-5 amd64 5.5.0-12ubuntu1 [8,357 kB]\n",
      "Get:8 http://archive.ubuntu.com/ubuntu bionic/universe amd64 libstdc++-5-dev amd64 5.5.0-12ubuntu1 [1,415 kB]\n",
      "Get:9 http://archive.ubuntu.com/ubuntu bionic/universe amd64 g++-5 amd64 5.5.0-12ubuntu1 [8,450 kB]\n",
      "Get:10 http://archive.ubuntu.com/ubuntu bionic-updates/main amd64 libc6-dev-i386 amd64 2.27-3ubuntu1.2 [1,817 kB]\n",
      "Get:11 http://archive.ubuntu.com/ubuntu bionic-updates/main amd64 libc6-x32 amd64 2.27-3ubuntu1.2 [2,847 kB]\n",
      "Get:12 http://archive.ubuntu.com/ubuntu bionic-updates/main amd64 libc6-dev-x32 amd64 2.27-3ubuntu1.2 [2,018 kB]\n",
      "Get:13 http://archive.ubuntu.com/ubuntu bionic-updates/main amd64 libx32gcc1 amd64 1:8.4.0-1ubuntu1~18.04 [40.5 kB]\n",
      "Get:14 http://archive.ubuntu.com/ubuntu bionic-updates/main amd64 lib32gomp1 amd64 8.4.0-1ubuntu1~18.04 [83.7 kB]\n",
      "Get:15 http://archive.ubuntu.com/ubuntu bionic-updates/main amd64 libx32gomp1 amd64 8.4.0-1ubuntu1~18.04 [77.8 kB]\n",
      "Get:16 http://archive.ubuntu.com/ubuntu bionic-updates/main amd64 lib32itm1 amd64 8.4.0-1ubuntu1~18.04 [30.0 kB]\n",
      "Get:17 http://archive.ubuntu.com/ubuntu bionic-updates/main amd64 libx32itm1 amd64 8.4.0-1ubuntu1~18.04 [28.1 kB]\n",
      "Get:18 http://archive.ubuntu.com/ubuntu bionic-updates/main amd64 lib32atomic1 amd64 8.4.0-1ubuntu1~18.04 [8,664 B]\n",
      "Get:19 http://archive.ubuntu.com/ubuntu bionic-updates/main amd64 libx32atomic1 amd64 8.4.0-1ubuntu1~18.04 [9,188 B]\n",
      "Get:20 http://archive.ubuntu.com/ubuntu bionic/universe amd64 lib32asan2 amd64 5.5.0-12ubuntu1 [260 kB]\n",
      "Get:21 http://archive.ubuntu.com/ubuntu bionic/universe amd64 libx32asan2 amd64 5.5.0-12ubuntu1 [252 kB]\n",
      "Get:22 http://archive.ubuntu.com/ubuntu bionic-updates/main amd64 lib32ubsan0 amd64 7.5.0-3ubuntu1~18.04 [140 kB]\n",
      "Get:23 http://archive.ubuntu.com/ubuntu bionic-updates/main amd64 libx32stdc++6 amd64 8.4.0-1ubuntu1~18.04 [387 kB]\n",
      "Get:24 http://archive.ubuntu.com/ubuntu bionic-updates/main amd64 libx32ubsan0 amd64 7.5.0-3ubuntu1~18.04 [127 kB]\n",
      "Get:25 http://archive.ubuntu.com/ubuntu bionic-updates/main amd64 lib32cilkrts5 amd64 7.5.0-3ubuntu1~18.04 [47.2 kB]\n",
      "Get:26 http://archive.ubuntu.com/ubuntu bionic-updates/main amd64 libx32cilkrts5 amd64 7.5.0-3ubuntu1~18.04 [43.0 kB]\n",
      "Get:27 http://archive.ubuntu.com/ubuntu bionic/universe amd64 lib32mpx0 amd64 5.5.0-12ubuntu1 [11.2 kB]\n",
      "Get:28 http://archive.ubuntu.com/ubuntu bionic-updates/main amd64 lib32quadmath0 amd64 8.4.0-1ubuntu1~18.04 [208 kB]\n",
      "Get:29 http://archive.ubuntu.com/ubuntu bionic-updates/main amd64 libx32quadmath0 amd64 8.4.0-1ubuntu1~18.04 [135 kB]\n",
      "Get:30 http://archive.ubuntu.com/ubuntu bionic/universe amd64 lib32gcc-5-dev amd64 5.5.0-12ubuntu1 [2,077 kB]\n",
      "Get:31 http://archive.ubuntu.com/ubuntu bionic/universe amd64 libx32gcc-5-dev amd64 5.5.0-12ubuntu1 [1,870 kB]\n",
      "Get:32 http://archive.ubuntu.com/ubuntu bionic/universe amd64 gcc-5-multilib amd64 5.5.0-12ubuntu1 [1,040 B]\n",
      "Get:33 http://archive.ubuntu.com/ubuntu bionic/universe amd64 lib32stdc++-5-dev amd64 5.5.0-12ubuntu1 [640 kB]\n",
      "Get:34 http://archive.ubuntu.com/ubuntu bionic/universe amd64 libx32stdc++-5-dev amd64 5.5.0-12ubuntu1 [609 kB]\n",
      "Get:35 http://archive.ubuntu.com/ubuntu bionic/universe amd64 g++-5-multilib amd64 5.5.0-12ubuntu1 [1,064 B]\n",
      "Get:36 http://archive.ubuntu.com/ubuntu bionic-updates/universe amd64 gcc-6-base amd64 6.5.0-2ubuntu1~18.04 [16.7 kB]\n",
      "Get:37 http://archive.ubuntu.com/ubuntu bionic-updates/main amd64 lib32asan4 amd64 7.5.0-3ubuntu1~18.04 [362 kB]\n",
      "Get:38 http://archive.ubuntu.com/ubuntu bionic-updates/main amd64 libx32asan4 amd64 7.5.0-3ubuntu1~18.04 [351 kB]\n",
      "Get:39 http://archive.ubuntu.com/ubuntu bionic-updates/main amd64 lib32mpx2 amd64 8.4.0-1ubuntu1~18.04 [12.9 kB]\n",
      "Get:40 http://archive.ubuntu.com/ubuntu bionic-updates/main amd64 lib32gcc-7-dev amd64 7.5.0-3ubuntu1~18.04 [2,211 kB]\n",
      "Get:41 http://archive.ubuntu.com/ubuntu bionic-updates/main amd64 libx32gcc-7-dev amd64 7.5.0-3ubuntu1~18.04 [1,999 kB]\n",
      "Get:42 http://archive.ubuntu.com/ubuntu bionic-updates/main amd64 gcc-7-multilib amd64 7.5.0-3ubuntu1~18.04 [1,048 B]\n",
      "Get:43 http://archive.ubuntu.com/ubuntu bionic-updates/main amd64 gcc-multilib amd64 4:7.4.0-1ubuntu2.3 [1,428 B]\n",
      "Get:44 http://archive.ubuntu.com/ubuntu bionic-updates/universe amd64 libgfortran3 amd64 6.5.0-2ubuntu1~18.04 [270 kB]\n",
      "Get:45 http://archive.ubuntu.com/ubuntu bionic/universe amd64 libgfortran-5-dev amd64 5.5.0-12ubuntu1 [296 kB]\n",
      "Get:46 http://archive.ubuntu.com/ubuntu bionic/universe amd64 gfortran-5 amd64 5.5.0-12ubuntu1 [8,166 kB]\n",
      "Fetched 56.5 MB in 4s (13.2 MB/s)\n",
      "debconf: unable to initialize frontend: Dialog\n",
      "debconf: (No usable dialog-like program is installed, so the dialog based frontend cannot be used. at /usr/share/perl5/Debconf/FrontEnd/Dialog.pm line 76, <> line 46.)\n",
      "debconf: falling back to frontend: Readline\n",
      "debconf: unable to initialize frontend: Readline\n",
      "debconf: (This frontend requires a controlling tty.)\n",
      "debconf: falling back to frontend: Teletype\n",
      "dpkg-preconfigure: unable to re-open stdin: \n",
      "Selecting previously unselected package gcc-5-base:amd64.\n",
      "(Reading database ... 153703 files and directories currently installed.)\n",
      "Preparing to unpack .../00-gcc-5-base_5.5.0-12ubuntu1_amd64.deb ...\n",
      "Unpacking gcc-5-base:amd64 (5.5.0-12ubuntu1) ...\n",
      "Selecting previously unselected package libisl15:amd64.\n",
      "Preparing to unpack .../01-libisl15_0.18-4_amd64.deb ...\n",
      "Unpacking libisl15:amd64 (0.18-4) ...\n",
      "Selecting previously unselected package cpp-5.\n",
      "Preparing to unpack .../02-cpp-5_5.5.0-12ubuntu1_amd64.deb ...\n",
      "Unpacking cpp-5 (5.5.0-12ubuntu1) ...\n",
      "Selecting previously unselected package libasan2:amd64.\n",
      "Preparing to unpack .../03-libasan2_5.5.0-12ubuntu1_amd64.deb ...\n",
      "Unpacking libasan2:amd64 (5.5.0-12ubuntu1) ...\n",
      "Selecting previously unselected package libmpx0:amd64.\n",
      "Preparing to unpack .../04-libmpx0_5.5.0-12ubuntu1_amd64.deb ...\n",
      "Unpacking libmpx0:amd64 (5.5.0-12ubuntu1) ...\n",
      "Selecting previously unselected package libgcc-5-dev:amd64.\n",
      "Preparing to unpack .../05-libgcc-5-dev_5.5.0-12ubuntu1_amd64.deb ...\n",
      "Unpacking libgcc-5-dev:amd64 (5.5.0-12ubuntu1) ...\n",
      "Selecting previously unselected package gcc-5.\n",
      "Preparing to unpack .../06-gcc-5_5.5.0-12ubuntu1_amd64.deb ...\n",
      "Unpacking gcc-5 (5.5.0-12ubuntu1) ...\n",
      "Selecting previously unselected package libstdc++-5-dev:amd64.\n",
      "Preparing to unpack .../07-libstdc++-5-dev_5.5.0-12ubuntu1_amd64.deb ...\n",
      "Unpacking libstdc++-5-dev:amd64 (5.5.0-12ubuntu1) ...\n",
      "Selecting previously unselected package g++-5.\n",
      "Preparing to unpack .../08-g++-5_5.5.0-12ubuntu1_amd64.deb ...\n",
      "Unpacking g++-5 (5.5.0-12ubuntu1) ...\n",
      "Selecting previously unselected package libc6-dev-i386.\n",
      "Preparing to unpack .../09-libc6-dev-i386_2.27-3ubuntu1.2_amd64.deb ...\n",
      "Unpacking libc6-dev-i386 (2.27-3ubuntu1.2) ...\n",
      "Selecting previously unselected package libc6-x32.\n",
      "Preparing to unpack .../10-libc6-x32_2.27-3ubuntu1.2_amd64.deb ...\n",
      "Unpacking libc6-x32 (2.27-3ubuntu1.2) ...\n",
      "Selecting previously unselected package libc6-dev-x32.\n",
      "Preparing to unpack .../11-libc6-dev-x32_2.27-3ubuntu1.2_amd64.deb ...\n",
      "Unpacking libc6-dev-x32 (2.27-3ubuntu1.2) ...\n",
      "Selecting previously unselected package libx32gcc1.\n",
      "Preparing to unpack .../12-libx32gcc1_1%3a8.4.0-1ubuntu1~18.04_amd64.deb ...\n",
      "Unpacking libx32gcc1 (1:8.4.0-1ubuntu1~18.04) ...\n",
      "Selecting previously unselected package lib32gomp1.\n",
      "Preparing to unpack .../13-lib32gomp1_8.4.0-1ubuntu1~18.04_amd64.deb ...\n",
      "Unpacking lib32gomp1 (8.4.0-1ubuntu1~18.04) ...\n",
      "Selecting previously unselected package libx32gomp1.\n",
      "Preparing to unpack .../14-libx32gomp1_8.4.0-1ubuntu1~18.04_amd64.deb ...\n",
      "Unpacking libx32gomp1 (8.4.0-1ubuntu1~18.04) ...\n",
      "Selecting previously unselected package lib32itm1.\n",
      "Preparing to unpack .../15-lib32itm1_8.4.0-1ubuntu1~18.04_amd64.deb ...\n",
      "Unpacking lib32itm1 (8.4.0-1ubuntu1~18.04) ...\n",
      "Selecting previously unselected package libx32itm1.\n",
      "Preparing to unpack .../16-libx32itm1_8.4.0-1ubuntu1~18.04_amd64.deb ...\n",
      "Unpacking libx32itm1 (8.4.0-1ubuntu1~18.04) ...\n",
      "Selecting previously unselected package lib32atomic1.\n",
      "Preparing to unpack .../17-lib32atomic1_8.4.0-1ubuntu1~18.04_amd64.deb ...\n",
      "Unpacking lib32atomic1 (8.4.0-1ubuntu1~18.04) ...\n",
      "Selecting previously unselected package libx32atomic1.\n",
      "Preparing to unpack .../18-libx32atomic1_8.4.0-1ubuntu1~18.04_amd64.deb ...\n",
      "Unpacking libx32atomic1 (8.4.0-1ubuntu1~18.04) ...\n",
      "Selecting previously unselected package lib32asan2.\n",
      "Preparing to unpack .../19-lib32asan2_5.5.0-12ubuntu1_amd64.deb ...\n",
      "Unpacking lib32asan2 (5.5.0-12ubuntu1) ...\n",
      "Selecting previously unselected package libx32asan2.\n",
      "Preparing to unpack .../20-libx32asan2_5.5.0-12ubuntu1_amd64.deb ...\n",
      "Unpacking libx32asan2 (5.5.0-12ubuntu1) ...\n",
      "Selecting previously unselected package lib32ubsan0.\n",
      "Preparing to unpack .../21-lib32ubsan0_7.5.0-3ubuntu1~18.04_amd64.deb ...\n",
      "Unpacking lib32ubsan0 (7.5.0-3ubuntu1~18.04) ...\n",
      "Selecting previously unselected package libx32stdc++6.\n",
      "Preparing to unpack .../22-libx32stdc++6_8.4.0-1ubuntu1~18.04_amd64.deb ...\n",
      "Unpacking libx32stdc++6 (8.4.0-1ubuntu1~18.04) ...\n",
      "Selecting previously unselected package libx32ubsan0.\n",
      "Preparing to unpack .../23-libx32ubsan0_7.5.0-3ubuntu1~18.04_amd64.deb ...\n",
      "Unpacking libx32ubsan0 (7.5.0-3ubuntu1~18.04) ...\n",
      "Selecting previously unselected package lib32cilkrts5.\n",
      "Preparing to unpack .../24-lib32cilkrts5_7.5.0-3ubuntu1~18.04_amd64.deb ...\n",
      "Unpacking lib32cilkrts5 (7.5.0-3ubuntu1~18.04) ...\n",
      "Selecting previously unselected package libx32cilkrts5.\n",
      "Preparing to unpack .../25-libx32cilkrts5_7.5.0-3ubuntu1~18.04_amd64.deb ...\n",
      "Unpacking libx32cilkrts5 (7.5.0-3ubuntu1~18.04) ...\n",
      "Selecting previously unselected package lib32mpx0.\n",
      "Preparing to unpack .../26-lib32mpx0_5.5.0-12ubuntu1_amd64.deb ...\n",
      "Unpacking lib32mpx0 (5.5.0-12ubuntu1) ...\n",
      "Selecting previously unselected package lib32quadmath0.\n",
      "Preparing to unpack .../27-lib32quadmath0_8.4.0-1ubuntu1~18.04_amd64.deb ...\n",
      "Unpacking lib32quadmath0 (8.4.0-1ubuntu1~18.04) ...\n",
      "Selecting previously unselected package libx32quadmath0.\n",
      "Preparing to unpack .../28-libx32quadmath0_8.4.0-1ubuntu1~18.04_amd64.deb ...\n",
      "Unpacking libx32quadmath0 (8.4.0-1ubuntu1~18.04) ...\n",
      "Selecting previously unselected package lib32gcc-5-dev.\n",
      "Preparing to unpack .../29-lib32gcc-5-dev_5.5.0-12ubuntu1_amd64.deb ...\n",
      "Unpacking lib32gcc-5-dev (5.5.0-12ubuntu1) ...\n",
      "Selecting previously unselected package libx32gcc-5-dev.\n",
      "Preparing to unpack .../30-libx32gcc-5-dev_5.5.0-12ubuntu1_amd64.deb ...\n",
      "Unpacking libx32gcc-5-dev (5.5.0-12ubuntu1) ...\n",
      "Selecting previously unselected package gcc-5-multilib.\n",
      "Preparing to unpack .../31-gcc-5-multilib_5.5.0-12ubuntu1_amd64.deb ...\n",
      "Unpacking gcc-5-multilib (5.5.0-12ubuntu1) ...\n",
      "Selecting previously unselected package lib32stdc++-5-dev.\n",
      "Preparing to unpack .../32-lib32stdc++-5-dev_5.5.0-12ubuntu1_amd64.deb ...\n",
      "Unpacking lib32stdc++-5-dev (5.5.0-12ubuntu1) ...\n",
      "Selecting previously unselected package libx32stdc++-5-dev.\n",
      "Preparing to unpack .../33-libx32stdc++-5-dev_5.5.0-12ubuntu1_amd64.deb ...\n",
      "Unpacking libx32stdc++-5-dev (5.5.0-12ubuntu1) ...\n",
      "Selecting previously unselected package g++-5-multilib.\n",
      "Preparing to unpack .../34-g++-5-multilib_5.5.0-12ubuntu1_amd64.deb ...\n",
      "Unpacking g++-5-multilib (5.5.0-12ubuntu1) ...\n",
      "Selecting previously unselected package gcc-6-base:amd64.\n",
      "Preparing to unpack .../35-gcc-6-base_6.5.0-2ubuntu1~18.04_amd64.deb ...\n",
      "Unpacking gcc-6-base:amd64 (6.5.0-2ubuntu1~18.04) ...\n",
      "Selecting previously unselected package lib32asan4.\n",
      "Preparing to unpack .../36-lib32asan4_7.5.0-3ubuntu1~18.04_amd64.deb ...\n",
      "Unpacking lib32asan4 (7.5.0-3ubuntu1~18.04) ...\n",
      "Selecting previously unselected package libx32asan4.\n",
      "Preparing to unpack .../37-libx32asan4_7.5.0-3ubuntu1~18.04_amd64.deb ...\n",
      "Unpacking libx32asan4 (7.5.0-3ubuntu1~18.04) ...\n",
      "Selecting previously unselected package lib32mpx2.\n",
      "Preparing to unpack .../38-lib32mpx2_8.4.0-1ubuntu1~18.04_amd64.deb ...\n",
      "Unpacking lib32mpx2 (8.4.0-1ubuntu1~18.04) ...\n",
      "Selecting previously unselected package lib32gcc-7-dev.\n",
      "Preparing to unpack .../39-lib32gcc-7-dev_7.5.0-3ubuntu1~18.04_amd64.deb ...\n",
      "Unpacking lib32gcc-7-dev (7.5.0-3ubuntu1~18.04) ...\n",
      "Selecting previously unselected package libx32gcc-7-dev.\n",
      "Preparing to unpack .../40-libx32gcc-7-dev_7.5.0-3ubuntu1~18.04_amd64.deb ...\n",
      "Unpacking libx32gcc-7-dev (7.5.0-3ubuntu1~18.04) ...\n",
      "Selecting previously unselected package gcc-7-multilib.\n",
      "Preparing to unpack .../41-gcc-7-multilib_7.5.0-3ubuntu1~18.04_amd64.deb ...\n",
      "Unpacking gcc-7-multilib (7.5.0-3ubuntu1~18.04) ...\n",
      "Selecting previously unselected package gcc-multilib.\n",
      "Preparing to unpack .../42-gcc-multilib_4%3a7.4.0-1ubuntu2.3_amd64.deb ...\n",
      "Unpacking gcc-multilib (4:7.4.0-1ubuntu2.3) ...\n",
      "Selecting previously unselected package libgfortran3:amd64.\n",
      "Preparing to unpack .../43-libgfortran3_6.5.0-2ubuntu1~18.04_amd64.deb ...\n",
      "Unpacking libgfortran3:amd64 (6.5.0-2ubuntu1~18.04) ...\n",
      "Selecting previously unselected package libgfortran-5-dev:amd64.\n",
      "Preparing to unpack .../44-libgfortran-5-dev_5.5.0-12ubuntu1_amd64.deb ...\n",
      "Unpacking libgfortran-5-dev:amd64 (5.5.0-12ubuntu1) ...\n",
      "Selecting previously unselected package gfortran-5.\n",
      "Preparing to unpack .../45-gfortran-5_5.5.0-12ubuntu1_amd64.deb ...\n",
      "Unpacking gfortran-5 (5.5.0-12ubuntu1) ...\n",
      "Setting up libc6-x32 (2.27-3ubuntu1.2) ...\n",
      "Setting up libx32gcc1 (1:8.4.0-1ubuntu1~18.04) ...\n",
      "Setting up lib32gomp1 (8.4.0-1ubuntu1~18.04) ...\n",
      "Setting up lib32asan4 (7.5.0-3ubuntu1~18.04) ...\n",
      "Setting up lib32mpx2 (8.4.0-1ubuntu1~18.04) ...\n",
      "Setting up gcc-6-base:amd64 (6.5.0-2ubuntu1~18.04) ...\n",
      "Setting up libx32stdc++6 (8.4.0-1ubuntu1~18.04) ...\n",
      "Setting up lib32atomic1 (8.4.0-1ubuntu1~18.04) ...\n",
      "Setting up libx32atomic1 (8.4.0-1ubuntu1~18.04) ...\n",
      "Setting up libx32gomp1 (8.4.0-1ubuntu1~18.04) ...\n",
      "Setting up libisl15:amd64 (0.18-4) ...\n",
      "Setting up libx32itm1 (8.4.0-1ubuntu1~18.04) ...\n",
      "Setting up lib32ubsan0 (7.5.0-3ubuntu1~18.04) ...\n",
      "Setting up lib32quadmath0 (8.4.0-1ubuntu1~18.04) ...\n",
      "Setting up lib32cilkrts5 (7.5.0-3ubuntu1~18.04) ...\n",
      "Setting up libc6-dev-i386 (2.27-3ubuntu1.2) ...\n",
      "Setting up libc6-dev-x32 (2.27-3ubuntu1.2) ...\n",
      "Setting up lib32itm1 (8.4.0-1ubuntu1~18.04) ...\n",
      "Setting up libx32quadmath0 (8.4.0-1ubuntu1~18.04) ...\n",
      "Setting up gcc-5-base:amd64 (5.5.0-12ubuntu1) ...\n",
      "Setting up libx32asan4 (7.5.0-3ubuntu1~18.04) ...\n",
      "Setting up libx32cilkrts5 (7.5.0-3ubuntu1~18.04) ...\n",
      "Setting up libmpx0:amd64 (5.5.0-12ubuntu1) ...\n",
      "Setting up libx32ubsan0 (7.5.0-3ubuntu1~18.04) ...\n",
      "Setting up libgfortran3:amd64 (6.5.0-2ubuntu1~18.04) ...\n",
      "Setting up libasan2:amd64 (5.5.0-12ubuntu1) ...\n",
      "Setting up libx32gcc-7-dev (7.5.0-3ubuntu1~18.04) ...\n",
      "Setting up libgcc-5-dev:amd64 (5.5.0-12ubuntu1) ...\n",
      "Setting up libx32asan2 (5.5.0-12ubuntu1) ...\n",
      "Setting up lib32mpx0 (5.5.0-12ubuntu1) ...\n",
      "Setting up lib32gcc-7-dev (7.5.0-3ubuntu1~18.04) ...\n",
      "Setting up lib32asan2 (5.5.0-12ubuntu1) ...\n",
      "Setting up cpp-5 (5.5.0-12ubuntu1) ...\n",
      "Setting up libstdc++-5-dev:amd64 (5.5.0-12ubuntu1) ...\n",
      "Setting up lib32gcc-5-dev (5.5.0-12ubuntu1) ...\n",
      "Setting up libx32gcc-5-dev (5.5.0-12ubuntu1) ...\n",
      "Setting up gcc-7-multilib (7.5.0-3ubuntu1~18.04) ...\n",
      "Setting up libgfortran-5-dev:amd64 (5.5.0-12ubuntu1) ...\n",
      "Setting up lib32stdc++-5-dev (5.5.0-12ubuntu1) ...\n",
      "Setting up gcc-5 (5.5.0-12ubuntu1) ...\n",
      "Setting up g++-5 (5.5.0-12ubuntu1) ...\n",
      "Setting up libx32stdc++-5-dev (5.5.0-12ubuntu1) ...\n",
      "Setting up gcc-5-multilib (5.5.0-12ubuntu1) ...\n",
      "Setting up gcc-multilib (4:7.4.0-1ubuntu2.3) ...\n",
      "Setting up gfortran-5 (5.5.0-12ubuntu1) ...\n",
      "Setting up g++-5-multilib (5.5.0-12ubuntu1) ...\n",
      "Processing triggers for man-db (2.8.3-2ubuntu0.1) ...\n",
      "Processing triggers for libc-bin (2.27-3ubuntu1.2) ...\n",
      "/sbin/ldconfig.real: /usr/local/lib/python3.6/dist-packages/ideep4py/lib/libmkldnn.so.0 is not a symbolic link\n",
      "\n"
     ]
    }
   ],
   "source": [
    "!sudo apt-get install gcc-5 g++-5 g++-5-multilib gfortran-5"
   ]
  },
  {
   "cell_type": "code",
   "execution_count": 9,
   "metadata": {
    "colab": {
     "base_uri": "https://localhost:8080/"
    },
    "id": "mLOphcvqEC7z",
    "outputId": "fae5ad09-8524-4b3a-ba36-8481f75b6865"
   },
   "outputs": [
    {
     "name": "stdout",
     "output_type": "stream",
     "text": [
      "update-alternatives: using /usr/bin/gcc-5 to provide /usr/bin/gcc (gcc) in auto mode\n"
     ]
    }
   ],
   "source": [
    "!sudo update-alternatives --install /usr/bin/gcc gcc /usr/bin/gcc-5 50 --slave /usr/bin/g++ g++ /usr/bin/g++-5"
   ]
  },
  {
   "cell_type": "code",
   "execution_count": 10,
   "metadata": {
    "colab": {
     "base_uri": "https://localhost:8080/"
    },
    "id": "X2zasqB2EGeE",
    "outputId": "2c267c60-96f3-4eb8-e3be-c23dd3face30"
   },
   "outputs": [
    {
     "name": "stdout",
     "output_type": "stream",
     "text": [
      "There is only one alternative in link group gcc (providing /usr/bin/gcc): /usr/bin/gcc-5\n",
      "Nothing to configure.\n"
     ]
    }
   ],
   "source": [
    "!sudo update-alternatives --config gcc"
   ]
  },
  {
   "cell_type": "code",
   "execution_count": 11,
   "metadata": {
    "colab": {
     "base_uri": "https://localhost:8080/"
    },
    "id": "eeEds03LEHyb",
    "outputId": "9adae546-5641-4cba-da9c-ba5b6bdfb898"
   },
   "outputs": [
    {
     "name": "stdout",
     "output_type": "stream",
     "text": [
      "gcc (Ubuntu 5.5.0-12ubuntu1) 5.5.0 20171010\n",
      "Copyright (C) 2015 Free Software Foundation, Inc.\n",
      "This is free software; see the source for copying conditions.  There is NO\n",
      "warranty; not even for MERCHANTABILITY or FITNESS FOR A PARTICULAR PURPOSE.\n",
      "\n"
     ]
    }
   ],
   "source": [
    "!gcc --version"
   ]
  },
  {
   "cell_type": "code",
   "execution_count": 12,
   "metadata": {
    "colab": {
     "base_uri": "https://localhost:8080/"
    },
    "id": "MEigJERwEH9F",
    "outputId": "470a84cd-a8dc-41db-a706-5b0202e92829"
   },
   "outputs": [
    {
     "name": "stdout",
     "output_type": "stream",
     "text": [
      "/content/gdrive/My Drive/ColabFiles/S14/planercnn/nms/src/cuda\n",
      "nms_kernel.cu  nms_kernel.h\n"
     ]
    }
   ],
   "source": [
    "!pwd\n",
    "!ls"
   ]
  },
  {
   "cell_type": "code",
   "execution_count": 13,
   "metadata": {
    "id": "siQFhAzqoLeT"
   },
   "outputs": [],
   "source": [
    "!nvcc -c -o nms_kernel.cu.o nms_kernel.cu -x cu -Xcompiler -fPIC -arch=sm_60"
   ]
  },
  {
   "cell_type": "code",
   "execution_count": 14,
   "metadata": {
    "colab": {
     "base_uri": "https://localhost:8080/"
    },
    "id": "h7k0f00OEl2M",
    "outputId": "762cb200-14f7-432b-abc6-5e7a577651b7"
   },
   "outputs": [
    {
     "name": "stdout",
     "output_type": "stream",
     "text": [
      "/content/gdrive/My Drive/ColabFiles/S14/planercnn/nms\n"
     ]
    }
   ],
   "source": [
    "os.chdir(\"../..\")\n",
    "!pwd"
   ]
  },
  {
   "cell_type": "code",
   "execution_count": 15,
   "metadata": {
    "colab": {
     "base_uri": "https://localhost:8080/"
    },
    "id": "A9Qg6vlTEl6A",
    "outputId": "656f3b2b-543b-4b97-c10a-4d21a4b34ef8"
   },
   "outputs": [
    {
     "name": "stdout",
     "output_type": "stream",
     "text": [
      "build.py  _ext\t__init__.py  nms_wrapper.py  pth_nms.py  src\n"
     ]
    }
   ],
   "source": [
    "!ls"
   ]
  },
  {
   "cell_type": "code",
   "execution_count": 16,
   "metadata": {
    "colab": {
     "base_uri": "https://localhost:8080/"
    },
    "id": "roCWYEQ3E6iC",
    "outputId": "c3cc7f0e-622d-466b-9798-6385a034dec1"
   },
   "outputs": [
    {
     "name": "stdout",
     "output_type": "stream",
     "text": [
      "Including CUDA code.\n",
      "/content/gdrive/My Drive/ColabFiles/S14/planercnn/nms\n",
      "generating /tmp/tmp1dn2g5le/_nms.c\n",
      "setting the current directory to '/tmp/tmp1dn2g5le'\n",
      "running build_ext\n",
      "building '_nms' extension\n",
      "creating content\n",
      "creating content/gdrive\n",
      "creating content/gdrive/My Drive\n",
      "creating content/gdrive/My Drive/ColabFiles\n",
      "creating content/gdrive/My Drive/ColabFiles/S14\n",
      "creating content/gdrive/My Drive/ColabFiles/S14/planercnn\n",
      "creating content/gdrive/My Drive/ColabFiles/S14/planercnn/nms\n",
      "creating content/gdrive/My Drive/ColabFiles/S14/planercnn/nms/src\n",
      "x86_64-linux-gnu-gcc -pthread -DNDEBUG -g -fwrapv -O2 -Wall -g -fstack-protector-strong -Wformat -Werror=format-security -Wdate-time -D_FORTIFY_SOURCE=2 -fPIC -DWITH_CUDA -I/usr/local/lib/python3.6/dist-packages/torch/utils/ffi/../../lib/include -I/usr/local/lib/python3.6/dist-packages/torch/utils/ffi/../../lib/include/TH -I/usr/local/lib/python3.6/dist-packages/torch/utils/ffi/../../lib/include/THC -I/usr/local/cuda/include -I/usr/include/python3.6m -c _nms.c -o ./_nms.o -std=c99\n",
      "x86_64-linux-gnu-gcc -pthread -DNDEBUG -g -fwrapv -O2 -Wall -g -fstack-protector-strong -Wformat -Werror=format-security -Wdate-time -D_FORTIFY_SOURCE=2 -fPIC -DWITH_CUDA -I/usr/local/lib/python3.6/dist-packages/torch/utils/ffi/../../lib/include -I/usr/local/lib/python3.6/dist-packages/torch/utils/ffi/../../lib/include/TH -I/usr/local/lib/python3.6/dist-packages/torch/utils/ffi/../../lib/include/THC -I/usr/local/cuda/include -I/usr/include/python3.6m -c /content/gdrive/My Drive/ColabFiles/S14/planercnn/nms/src/nms.c -o ./content/gdrive/My Drive/ColabFiles/S14/planercnn/nms/src/nms.o -std=c99\n",
      "x86_64-linux-gnu-gcc -pthread -DNDEBUG -g -fwrapv -O2 -Wall -g -fstack-protector-strong -Wformat -Werror=format-security -Wdate-time -D_FORTIFY_SOURCE=2 -fPIC -DWITH_CUDA -I/usr/local/lib/python3.6/dist-packages/torch/utils/ffi/../../lib/include -I/usr/local/lib/python3.6/dist-packages/torch/utils/ffi/../../lib/include/TH -I/usr/local/lib/python3.6/dist-packages/torch/utils/ffi/../../lib/include/THC -I/usr/local/cuda/include -I/usr/include/python3.6m -c /content/gdrive/My Drive/ColabFiles/S14/planercnn/nms/src/nms_cuda.c -o ./content/gdrive/My Drive/ColabFiles/S14/planercnn/nms/src/nms_cuda.o -std=c99\n",
      "\u001b[01m\u001b[K/content/gdrive/My Drive/ColabFiles/S14/planercnn/nms/src/nms_cuda.c:\u001b[m\u001b[K In function ‘\u001b[01m\u001b[Kgpu_nms\u001b[m\u001b[K’:\n",
      "\u001b[01m\u001b[K/content/gdrive/My Drive/ColabFiles/S14/planercnn/nms/src/nms_cuda.c:29:35:\u001b[m\u001b[K \u001b[01;35m\u001b[Kwarning: \u001b[m\u001b[Kinitialization from incompatible pointer type [\u001b[01;35m\u001b[K-Wincompatible-pointer-types\u001b[m\u001b[K]\n",
      "   unsigned long long* mask_flat = \u001b[01;35m\u001b[KTHCudaLongTensor_data\u001b[m\u001b[K(state, mask);\n",
      "                                   \u001b[01;35m\u001b[K^~~~~~~~~~~~~~~~~~~~~\u001b[m\u001b[K\n",
      "\u001b[01m\u001b[K/content/gdrive/My Drive/ColabFiles/S14/planercnn/nms/src/nms_cuda.c:37:40:\u001b[m\u001b[K \u001b[01;35m\u001b[Kwarning: \u001b[m\u001b[Kinitialization from incompatible pointer type [\u001b[01;35m\u001b[K-Wincompatible-pointer-types\u001b[m\u001b[K]\n",
      "   unsigned long long * mask_cpu_flat = \u001b[01;35m\u001b[KTHLongTensor_data\u001b[m\u001b[K(mask_cpu);\n",
      "                                        \u001b[01;35m\u001b[K^~~~~~~~~~~~~~~~~\u001b[m\u001b[K\n",
      "\u001b[01m\u001b[K/content/gdrive/My Drive/ColabFiles/S14/planercnn/nms/src/nms_cuda.c:40:39:\u001b[m\u001b[K \u001b[01;35m\u001b[Kwarning: \u001b[m\u001b[Kinitialization from incompatible pointer type [\u001b[01;35m\u001b[K-Wincompatible-pointer-types\u001b[m\u001b[K]\n",
      "   unsigned long long* remv_cpu_flat = \u001b[01;35m\u001b[KTHLongTensor_data\u001b[m\u001b[K(remv_cpu);\n",
      "                                       \u001b[01;35m\u001b[K^~~~~~~~~~~~~~~~~\u001b[m\u001b[K\n",
      "\u001b[01m\u001b[K/content/gdrive/My Drive/ColabFiles/S14/planercnn/nms/src/nms_cuda.c:23:7:\u001b[m\u001b[K \u001b[01;35m\u001b[Kwarning: \u001b[m\u001b[Kunused variable ‘\u001b[01m\u001b[Kboxes_dim\u001b[m\u001b[K’ [\u001b[01;35m\u001b[K-Wunused-variable\u001b[m\u001b[K]\n",
      "   int \u001b[01;35m\u001b[Kboxes_dim\u001b[m\u001b[K = THCudaTensor_size(state, boxes, 1);\n",
      "       \u001b[01;35m\u001b[K^~~~~~~~~\u001b[m\u001b[K\n",
      "x86_64-linux-gnu-gcc -pthread -shared -Wl,-O1 -Wl,-Bsymbolic-functions -Wl,-Bsymbolic-functions -Wl,-z,relro -Wl,-Bsymbolic-functions -Wl,-z,relro -g -fstack-protector-strong -Wformat -Werror=format-security -Wdate-time -D_FORTIFY_SOURCE=2 ./_nms.o ./content/gdrive/My Drive/ColabFiles/S14/planercnn/nms/src/nms.o ./content/gdrive/My Drive/ColabFiles/S14/planercnn/nms/src/nms_cuda.o /content/gdrive/My Drive/ColabFiles/S14/planercnn/nms/src/cuda/nms_kernel.cu.o -o ./_nms.so\n"
     ]
    }
   ],
   "source": [
    "!python build.py"
   ]
  },
  {
   "cell_type": "code",
   "execution_count": 20,
   "metadata": {
    "colab": {
     "base_uri": "https://localhost:8080/"
    },
    "id": "thyAvi3o75DU",
    "outputId": "8a37de19-1a79-46c7-bc80-0606bdc899b8"
   },
   "outputs": [
    {
     "name": "stdout",
     "output_type": "stream",
     "text": [
      "/content/gdrive/My Drive/ColabFiles/S14/planercnn/nms\n",
      "/content/gdrive/My Drive/ColabFiles/S14\n",
      "build.py  _ext\t__init__.py  nms_wrapper.py  pth_nms.py  src\n"
     ]
    }
   ],
   "source": [
    "!pwd\n",
    "print(gdrivepath)\n",
    "!ls"
   ]
  },
  {
   "cell_type": "code",
   "execution_count": 22,
   "metadata": {
    "colab": {
     "base_uri": "https://localhost:8080/"
    },
    "id": "jUMdQ-hqE6sF",
    "outputId": "6973b8f5-f8dd-4d8c-acdb-20a97b13b9fc"
   },
   "outputs": [
    {
     "name": "stdout",
     "output_type": "stream",
     "text": [
      "/content/gdrive/My Drive/ColabFiles/S14/planercnn/roialign/roi_align/src/cuda\n",
      "crop_and_resize_kernel.cu  crop_and_resize_kernel.h\n"
     ]
    }
   ],
   "source": [
    "os.chdir(gdrivepath+\"/planercnn/roialign/roi_align/src/cuda\")\n",
    "!pwd\n",
    "!ls"
   ]
  },
  {
   "cell_type": "code",
   "execution_count": 23,
   "metadata": {
    "id": "8AGYsqCqFsmU"
   },
   "outputs": [],
   "source": [
    "!nvcc -c -o crop_and_resize_kernel.cu.o crop_and_resize_kernel.cu -x cu -Xcompiler -fPIC -arch=sm_60"
   ]
  },
  {
   "cell_type": "code",
   "execution_count": 24,
   "metadata": {
    "colab": {
     "base_uri": "https://localhost:8080/"
    },
    "id": "CXnmfiicFsrI",
    "outputId": "60f2e4b5-afaa-4133-a921-6824ad4f1f86"
   },
   "outputs": [
    {
     "name": "stdout",
     "output_type": "stream",
     "text": [
      "/content/gdrive/My Drive/ColabFiles/S14/planercnn/roialign/roi_align\n",
      "build.py  crop_and_resize.py  _ext  __init__.py  roi_align.py  src\n"
     ]
    }
   ],
   "source": [
    "os.chdir(\"../..\")\n",
    "!pwd\n",
    "!ls"
   ]
  },
  {
   "cell_type": "code",
   "execution_count": 25,
   "metadata": {
    "colab": {
     "base_uri": "https://localhost:8080/"
    },
    "id": "Kbil93q0FsuZ",
    "outputId": "e170cf6f-aafc-49e6-ee15-852e252a813b"
   },
   "outputs": [
    {
     "name": "stdout",
     "output_type": "stream",
     "text": [
      "Including CUDA code.\n",
      "/content/gdrive/My Drive/ColabFiles/S14/planercnn/roialign/roi_align\n",
      "generating /tmp/tmpsq3zfgm8/_crop_and_resize.c\n",
      "setting the current directory to '/tmp/tmpsq3zfgm8'\n",
      "running build_ext\n",
      "building '_crop_and_resize' extension\n",
      "creating content\n",
      "creating content/gdrive\n",
      "creating content/gdrive/My Drive\n",
      "creating content/gdrive/My Drive/ColabFiles\n",
      "creating content/gdrive/My Drive/ColabFiles/S14\n",
      "creating content/gdrive/My Drive/ColabFiles/S14/planercnn\n",
      "creating content/gdrive/My Drive/ColabFiles/S14/planercnn/roialign\n",
      "creating content/gdrive/My Drive/ColabFiles/S14/planercnn/roialign/roi_align\n",
      "creating content/gdrive/My Drive/ColabFiles/S14/planercnn/roialign/roi_align/src\n",
      "x86_64-linux-gnu-gcc -pthread -DNDEBUG -g -fwrapv -O2 -Wall -g -fstack-protector-strong -Wformat -Werror=format-security -Wdate-time -D_FORTIFY_SOURCE=2 -fPIC -DWITH_CUDA -I/usr/local/lib/python3.6/dist-packages/torch/utils/ffi/../../lib/include -I/usr/local/lib/python3.6/dist-packages/torch/utils/ffi/../../lib/include/TH -I/usr/local/lib/python3.6/dist-packages/torch/utils/ffi/../../lib/include/THC -I/usr/local/cuda/include -I/usr/include/python3.6m -c _crop_and_resize.c -o ./_crop_and_resize.o -std=c99 -fopenmp -std=c99\n",
      "x86_64-linux-gnu-gcc -pthread -DNDEBUG -g -fwrapv -O2 -Wall -g -fstack-protector-strong -Wformat -Werror=format-security -Wdate-time -D_FORTIFY_SOURCE=2 -fPIC -DWITH_CUDA -I/usr/local/lib/python3.6/dist-packages/torch/utils/ffi/../../lib/include -I/usr/local/lib/python3.6/dist-packages/torch/utils/ffi/../../lib/include/TH -I/usr/local/lib/python3.6/dist-packages/torch/utils/ffi/../../lib/include/THC -I/usr/local/cuda/include -I/usr/include/python3.6m -c /content/gdrive/My Drive/ColabFiles/S14/planercnn/roialign/roi_align/src/crop_and_resize.c -o ./content/gdrive/My Drive/ColabFiles/S14/planercnn/roialign/roi_align/src/crop_and_resize.o -std=c99 -fopenmp -std=c99\n",
      "x86_64-linux-gnu-gcc -pthread -DNDEBUG -g -fwrapv -O2 -Wall -g -fstack-protector-strong -Wformat -Werror=format-security -Wdate-time -D_FORTIFY_SOURCE=2 -fPIC -DWITH_CUDA -I/usr/local/lib/python3.6/dist-packages/torch/utils/ffi/../../lib/include -I/usr/local/lib/python3.6/dist-packages/torch/utils/ffi/../../lib/include/TH -I/usr/local/lib/python3.6/dist-packages/torch/utils/ffi/../../lib/include/THC -I/usr/local/cuda/include -I/usr/include/python3.6m -c /content/gdrive/My Drive/ColabFiles/S14/planercnn/roialign/roi_align/src/crop_and_resize_gpu.c -o ./content/gdrive/My Drive/ColabFiles/S14/planercnn/roialign/roi_align/src/crop_and_resize_gpu.o -std=c99 -fopenmp -std=c99\n",
      "x86_64-linux-gnu-gcc -pthread -shared -Wl,-O1 -Wl,-Bsymbolic-functions -Wl,-Bsymbolic-functions -Wl,-z,relro -Wl,-Bsymbolic-functions -Wl,-z,relro -g -fstack-protector-strong -Wformat -Werror=format-security -Wdate-time -D_FORTIFY_SOURCE=2 ./_crop_and_resize.o ./content/gdrive/My Drive/ColabFiles/S14/planercnn/roialign/roi_align/src/crop_and_resize.o ./content/gdrive/My Drive/ColabFiles/S14/planercnn/roialign/roi_align/src/crop_and_resize_gpu.o /content/gdrive/My Drive/ColabFiles/S14/planercnn/roialign/roi_align/src/cuda/crop_and_resize_kernel.cu.o -o ./_crop_and_resize.so\n"
     ]
    }
   ],
   "source": [
    "!python build.py"
   ]
  },
  {
   "cell_type": "code",
   "execution_count": 26,
   "metadata": {
    "colab": {
     "base_uri": "https://localhost:8080/"
    },
    "id": "wg7CmRFEFOi_",
    "outputId": "79a376bc-1d96-4622-ab03-26828b7fc31d"
   },
   "outputs": [
    {
     "name": "stdout",
     "output_type": "stream",
     "text": [
      "/content/gdrive/My Drive/ColabFiles/S14/planercnn/roialign/roi_align\n",
      "3599\n"
     ]
    }
   ],
   "source": [
    "!pwd\n",
    "!ls \"/content/gdrive/My Drive/ColabFiles/S13/S13_2/data/customdata/images\"|wc -l"
   ]
  },
  {
   "cell_type": "code",
   "execution_count": 61,
   "metadata": {
    "id": "Oy1DJacuIums"
   },
   "outputs": [],
   "source": [
    "# create softlink for images in S13/S13_2 directory\n",
    "#!ln -s /content/gdrive/\"My Drive\"/\"Colab Notebooks\"/S13/S13_2/data/customdata/images customimages\n",
    "!ln -s /content/gdrive/\"My Drive\"/\"ColabFiles\"/S13/S13_2/data/customdata/images customimages"
   ]
  },
  {
   "cell_type": "code",
   "execution_count": 28,
   "metadata": {
    "colab": {
     "base_uri": "https://localhost:8080/"
    },
    "id": "tQpW75xUiQj_",
    "outputId": "4ac6d726-253e-4cb8-92c9-c3d56f672d66"
   },
   "outputs": [
    {
     "name": "stdout",
     "output_type": "stream",
     "text": [
      "/content/gdrive/My Drive/ColabFiles/S14/planercnn/roialign/roi_align\n"
     ]
    }
   ],
   "source": [
    "!pwd"
   ]
  },
  {
   "cell_type": "code",
   "execution_count": 29,
   "metadata": {
    "colab": {
     "base_uri": "https://localhost:8080/"
    },
    "id": "_xQ0GvxmFrvL",
    "outputId": "33dc92bf-ef10-45f9-e581-ad88c47a850c"
   },
   "outputs": [
    {
     "name": "stdout",
     "output_type": "stream",
     "text": [
      "3599\n"
     ]
    }
   ],
   "source": [
    "!ls customimages |wc -l"
   ]
  },
  {
   "cell_type": "code",
   "execution_count": 31,
   "metadata": {
    "colab": {
     "base_uri": "https://localhost:8080/"
    },
    "id": "WRLzV6MsiilF",
    "outputId": "d149a70c-6f25-43fa-f96f-f3d864f6d0fa"
   },
   "outputs": [
    {
     "name": "stdout",
     "output_type": "stream",
     "text": [
      "/content/gdrive/My Drive/ColabFiles/S14/planercnn/roialign/roi_align\n",
      " build.py\t        crop_and_resize.py   _ext\t   roi_align.py\n",
      "'checkpoint.zip?dl=0'   customimages\t     __init__.py   src\n"
     ]
    }
   ],
   "source": [
    "!pwd\n",
    "!ls"
   ]
  },
  {
   "cell_type": "code",
   "execution_count": 39,
   "metadata": {
    "id": "O0jy0dTrMTwF"
   },
   "outputs": [],
   "source": [
    "!mkdir /content/gdrive/'My Drive'/ColabFiles/S14/planercnn/checkpoint\n",
    "chkntdir=\"/content/gdrive/My Drive/ColabFiles/S14/planercnn/checkpoint\""
   ]
  },
  {
   "cell_type": "code",
   "execution_count": 47,
   "metadata": {
    "colab": {
     "base_uri": "https://localhost:8080/"
    },
    "id": "8FKf0ASbMT2P",
    "outputId": "36eabf78-fbf1-4c9c-a00e-a8093b11575d"
   },
   "outputs": [
    {
     "name": "stdout",
     "output_type": "stream",
     "text": [
      "/content/gdrive/My Drive/ColabFiles/S14/planercnn/checkpoint\n"
     ]
    }
   ],
   "source": [
    "!pwd"
   ]
  },
  {
   "cell_type": "code",
   "execution_count": 48,
   "metadata": {
    "colab": {
     "base_uri": "https://localhost:8080/"
    },
    "id": "FE6I90c59fyZ",
    "outputId": "d45bbfdb-1adf-43cd-bb59-b434635c2070"
   },
   "outputs": [
    {
     "name": "stdout",
     "output_type": "stream",
     "text": [
      "--2020-10-29 15:27:52--  https://www.dropbox.com/s/yjcg6s57n581sk0/checkpoint.zip?dl=0\n",
      "Resolving www.dropbox.com (www.dropbox.com)... 162.125.1.1, 2620:100:6016:1::a27d:101\n",
      "Connecting to www.dropbox.com (www.dropbox.com)|162.125.1.1|:443... connected.\n",
      "HTTP request sent, awaiting response... 301 Moved Permanently\n",
      "Location: /s/raw/yjcg6s57n581sk0/checkpoint.zip [following]\n",
      "--2020-10-29 15:27:52--  https://www.dropbox.com/s/raw/yjcg6s57n581sk0/checkpoint.zip\n",
      "Reusing existing connection to www.dropbox.com:443.\n",
      "HTTP request sent, awaiting response... 302 Found\n",
      "Location: https://uc590ec7d2b29f71713aa6cb6c00.dl.dropboxusercontent.com/cd/0/inline/BCNWp3XIsultUUHa3dXb7Xn574wV56oCIEFjd0jUqfOABDfJTiy2eg0RT151Jph3wIt3MzjPLZ3CPPlm4MHVrsz5wE_yXd_Vjad_ob3HdJhWIg/file# [following]\n",
      "--2020-10-29 15:27:52--  https://uc590ec7d2b29f71713aa6cb6c00.dl.dropboxusercontent.com/cd/0/inline/BCNWp3XIsultUUHa3dXb7Xn574wV56oCIEFjd0jUqfOABDfJTiy2eg0RT151Jph3wIt3MzjPLZ3CPPlm4MHVrsz5wE_yXd_Vjad_ob3HdJhWIg/file\n",
      "Resolving uc590ec7d2b29f71713aa6cb6c00.dl.dropboxusercontent.com (uc590ec7d2b29f71713aa6cb6c00.dl.dropboxusercontent.com)... 162.125.1.15, 2620:100:6016:15::a27d:10f\n",
      "Connecting to uc590ec7d2b29f71713aa6cb6c00.dl.dropboxusercontent.com (uc590ec7d2b29f71713aa6cb6c00.dl.dropboxusercontent.com)|162.125.1.15|:443... connected.\n",
      "HTTP request sent, awaiting response... 302 Found\n",
      "Location: /cd/0/inline2/BCPRU8VsBFEOJ8RzmoVurst4khg4nICSxUuCsh8ggDiO45aMyNi3LjX2HC6tA4dfxlhseVxu8wKCBaVm3acHJpN-4UQunN0jYrVnBk80kG9HlFWDV8xfV_41cYCWfMByyqTKM-MRMYB-9q7gcMr58hCytSg4pRuy8OYbhT7QDoFtyNox1ac73wCrCZy60axmI3u9VRbgI1OnXoF3B8hXhGY0BngamaBivMeKkHMEu0HW5LbPSw16fbf7iCRHXjISza8g8gSfec_59Ctk4F1X01NTq7UHzK3POti3xTDQDNF-yIKQb4S7ulj_GJvmNmd0vJEQcNPhI6vcvQ3AlzB3jGQb/file [following]\n",
      "--2020-10-29 15:27:53--  https://uc590ec7d2b29f71713aa6cb6c00.dl.dropboxusercontent.com/cd/0/inline2/BCPRU8VsBFEOJ8RzmoVurst4khg4nICSxUuCsh8ggDiO45aMyNi3LjX2HC6tA4dfxlhseVxu8wKCBaVm3acHJpN-4UQunN0jYrVnBk80kG9HlFWDV8xfV_41cYCWfMByyqTKM-MRMYB-9q7gcMr58hCytSg4pRuy8OYbhT7QDoFtyNox1ac73wCrCZy60axmI3u9VRbgI1OnXoF3B8hXhGY0BngamaBivMeKkHMEu0HW5LbPSw16fbf7iCRHXjISza8g8gSfec_59Ctk4F1X01NTq7UHzK3POti3xTDQDNF-yIKQb4S7ulj_GJvmNmd0vJEQcNPhI6vcvQ3AlzB3jGQb/file\n",
      "Reusing existing connection to uc590ec7d2b29f71713aa6cb6c00.dl.dropboxusercontent.com:443.\n",
      "HTTP request sent, awaiting response... 200 OK\n",
      "Length: 262259930 (250M) [application/zip]\n",
      "Saving to: ‘checkpoint.zip?dl=0’\n",
      "\n",
      "checkpoint.zip?dl=0 100%[===================>] 250.11M  53.5MB/s    in 4.6s    \n",
      "\n",
      "2020-10-29 15:27:58 (54.7 MB/s) - ‘checkpoint.zip?dl=0’ saved [262259930/262259930]\n",
      "\n"
     ]
    }
   ],
   "source": [
    "!wget https://www.dropbox.com/s/yjcg6s57n581sk0/checkpoint.zip?dl=0"
   ]
  },
  {
   "cell_type": "code",
   "execution_count": 51,
   "metadata": {
    "colab": {
     "base_uri": "https://localhost:8080/"
    },
    "id": "jNb_ruBTMjPh",
    "outputId": "95eb9259-b26d-416c-ce06-bf9676f33688"
   },
   "outputs": [
    {
     "name": "stdout",
     "output_type": "stream",
     "text": [
      "/content/gdrive/My Drive/ColabFiles/S14/planercnn/checkpoint\n",
      "'checkpoint.zip?dl=0'\n"
     ]
    }
   ],
   "source": [
    "!pwd\n",
    "!ls"
   ]
  },
  {
   "cell_type": "code",
   "execution_count": 52,
   "metadata": {
    "id": "wZ_KKoan-Y9E"
   },
   "outputs": [],
   "source": [
    "!mv \"checkpoint.zip?dl=0\" \"planercnn_refine.zip\" "
   ]
  },
  {
   "cell_type": "code",
   "execution_count": 53,
   "metadata": {
    "colab": {
     "base_uri": "https://localhost:8080/"
    },
    "id": "sMei7QDEMqRC",
    "outputId": "f47ebff4-98d6-43b8-9192-2141c97f10df"
   },
   "outputs": [
    {
     "name": "stdout",
     "output_type": "stream",
     "text": [
      "Archive:  planercnn_refine.zip\n",
      "   creating: planercnn_normal_warping_refine/\n",
      "  inflating: planercnn_normal_warping_refine/checkpoint_refine.pth  \n",
      "  inflating: planercnn_normal_warping_refine/checkpoint.pth  \n"
     ]
    }
   ],
   "source": [
    "!unzip planercnn_refine.zip"
   ]
  },
  {
   "cell_type": "code",
   "execution_count": null,
   "metadata": {
    "colab": {
     "base_uri": "https://localhost:8080/"
    },
    "id": "ixjACh3QM0xT",
    "outputId": "f7643aa1-38c5-43a7-ea99-cbf8cfab3cc2"
   },
   "outputs": [
    {
     "name": "stdout",
     "output_type": "stream",
     "text": [
      "/content/gdrive/My Drive/Colab Notebooks/S14/planercnn\n",
      "anchors       evaluate.py\t options_org.py    roialign\n",
      "checkpoint    evaluate_utils.py  options.py\t   test\n",
      "config.py     example_images\t plane_utils.py    train_planercnn.py\n",
      "customimages  LICENSE.md\t __pycache__\t   utils.py\n",
      "data_prep     models\t\t README.md\t   visualize_utils.py\n",
      "datasets      nms\t\t requirements.txt\n"
     ]
    }
   ],
   "source": [
    "os.chdir(gdrivepath+\"/planercnn\")\n",
    "!pwd\n",
    "!ls"
   ]
  },
  {
   "cell_type": "code",
   "execution_count": 54,
   "metadata": {
    "colab": {
     "base_uri": "https://localhost:8080/"
    },
    "id": "IMILr48c-dCU",
    "outputId": "775c7781-f3ac-43b1-c3f0-56c5d22c5c1c"
   },
   "outputs": [
    {
     "name": "stdout",
     "output_type": "stream",
     "text": [
      "/content/gdrive/My Drive/ColabFiles/S14\n"
     ]
    }
   ],
   "source": [
    "print(gdrivepath)"
   ]
  },
  {
   "cell_type": "code",
   "execution_count": 56,
   "metadata": {
    "colab": {
     "base_uri": "https://localhost:8080/"
    },
    "id": "D7KRYr1o-pMr",
    "outputId": "0c40e3d5-817d-47cc-a068-a4aacf5c8d1f"
   },
   "outputs": [
    {
     "name": "stdout",
     "output_type": "stream",
     "text": [
      "/content/gdrive/My Drive/ColabFiles/S14/planercnn\n",
      " anchors\t        evaluate_utils.py   Readme.txt\n",
      " cffirequirements.txt   example_images\t    requirements.txt\n",
      " checkpoint\t        LICENSE.md\t    roialign\n",
      " config.py\t        models\t\t    train_planercnn.py\n",
      " data_prep\t        nms\t\t    utils.py\n",
      " datasets\t        options.py\t    visualize_utils.py\n",
      "'evaluate - Copy.py'    plane_utils.py\n",
      " evaluate.py\t        README.md\n"
     ]
    }
   ],
   "source": [
    "os.chdir(gdrivepath+\"/planercnn\")\n",
    "!pwd\n",
    "!ls"
   ]
  },
  {
   "cell_type": "code",
   "execution_count": 57,
   "metadata": {
    "colab": {
     "base_uri": "https://localhost:8080/"
    },
    "id": "2APocB-XO4jZ",
    "outputId": "3df43efb-5b65-4b9f-fd02-5c86b2902a8d"
   },
   "outputs": [
    {
     "name": "stdout",
     "output_type": "stream",
     "text": [
      "/content/gdrive/My Drive/ColabFiles/S14/planercnn\n",
      "camera.txt  image_1.png  image_2.png  image_3.png\n"
     ]
    }
   ],
   "source": [
    "!pwd\n",
    "!ls example_images"
   ]
  },
  {
   "cell_type": "code",
   "execution_count": 58,
   "metadata": {
    "colab": {
     "base_uri": "https://localhost:8080/"
    },
    "id": "GFXvWPdvO0z1",
    "outputId": "193077d9-a364-40ea-8b0a-00c259e206c9"
   },
   "outputs": [
    {
     "name": "stdout",
     "output_type": "stream",
     "text": [
      "Writing camera.txt\n"
     ]
    }
   ],
   "source": [
    "%%writefile camera.txt\n",
    "587 587 320 240 640 480"
   ]
  },
  {
   "cell_type": "code",
   "execution_count": 59,
   "metadata": {
    "colab": {
     "base_uri": "https://localhost:8080/"
    },
    "id": "sdd3O25_jpSc",
    "outputId": "7a800ab0-4dbc-463d-a480-b9f1150c4447"
   },
   "outputs": [
    {
     "name": "stdout",
     "output_type": "stream",
     "text": [
      "camera.txt\n"
     ]
    }
   ],
   "source": [
    "!ls camera.txt"
   ]
  },
  {
   "cell_type": "code",
   "execution_count": 65,
   "metadata": {
    "colab": {
     "base_uri": "https://localhost:8080/"
    },
    "id": "Z5dHggqw-6RF",
    "outputId": "fe22d835-88c0-4d16-83ca-1e616cc90ca0"
   },
   "outputs": [
    {
     "name": "stdout",
     "output_type": "stream",
     "text": [
      "/bin/bash: Wc: command not found\n"
     ]
    }
   ],
   "source": [
    "!ls customimages|Wc -l"
   ]
  },
  {
   "cell_type": "code",
   "execution_count": 63,
   "metadata": {
    "id": "PantHJWKO1Uj"
   },
   "outputs": [],
   "source": [
    "!mv camera.txt customimages/camera.txt"
   ]
  },
  {
   "cell_type": "code",
   "execution_count": 64,
   "metadata": {
    "colab": {
     "base_uri": "https://localhost:8080/"
    },
    "id": "QVpQbD5RO1XO",
    "outputId": "492602f8-152b-48d0-b6b5-e1b97109cbfe"
   },
   "outputs": [
    {
     "name": "stdout",
     "output_type": "stream",
     "text": [
      "customimages/camera.txt\n"
     ]
    }
   ],
   "source": [
    "!ls customimages/camera.txt"
   ]
  },
  {
   "cell_type": "code",
   "execution_count": 66,
   "metadata": {
    "colab": {
     "base_uri": "https://localhost:8080/"
    },
    "id": "g_uPDyzPj_zr",
    "outputId": "8ed2a9c9-cd00-440b-ee00-bdbe05f7ab7d"
   },
   "outputs": [
    {
     "name": "stdout",
     "output_type": "stream",
     "text": [
      "/content/gdrive/My Drive/ColabFiles/S14/planercnn\n"
     ]
    }
   ],
   "source": [
    "!pwd"
   ]
  },
  {
   "cell_type": "code",
   "execution_count": null,
   "metadata": {
    "id": "JwTW1SaxSCxr"
   },
   "outputs": [],
   "source": [
    "#!cp \"/content/gdrive/My Drive/Colab Notebooks/S14/planercnn/options.py\" options.py\n",
    "#!cp \"/content/gdrive/My Drive/Colab Notebooks/S14/planercnn/evaluate.py\" evaluate.py"
   ]
  },
  {
   "cell_type": "code",
   "execution_count": 67,
   "metadata": {
    "colab": {
     "base_uri": "https://localhost:8080/"
    },
    "id": "R0aKq8thkRa6",
    "outputId": "88256890-fe59-4a67-8a3e-7b28372ae27b"
   },
   "outputs": [
    {
     "name": "stdout",
     "output_type": "stream",
     "text": [
      "planercnn_normal_warping_refine  planercnn_refine.zip\n"
     ]
    }
   ],
   "source": [
    "!ls checkpoint"
   ]
  },
  {
   "cell_type": "code",
   "execution_count": 68,
   "metadata": {
    "colab": {
     "base_uri": "https://localhost:8080/"
    },
    "id": "ddsLmHs3k9Ot",
    "outputId": "cba79882-1518-49ad-d954-b9261bd3a9b5"
   },
   "outputs": [
    {
     "name": "stdout",
     "output_type": "stream",
     "text": [
      "/content/gdrive/My Drive/ColabFiles/S14/planercnn\n",
      "customimages/camera.txt\n",
      "ls: cannot access 'test/inference': No such file or directory\n",
      " anchors\t        evaluate.py\t    README.md\n",
      " cffirequirements.txt   evaluate_utils.py   Readme.txt\n",
      " checkpoint\t        example_images\t    requirements.txt\n",
      " config.py\t        LICENSE.md\t    roialign\n",
      " customimages\t        models\t\t    train_planercnn.py\n",
      " data_prep\t        nms\t\t    utils.py\n",
      " datasets\t        options.py\t    visualize_utils.py\n",
      "'evaluate - Copy.py'    plane_utils.py\n"
     ]
    }
   ],
   "source": [
    "!pwd\n",
    "!ls customimages/camera.txt\n",
    "!ls test/inference\n",
    "!ls"
   ]
  },
  {
   "cell_type": "code",
   "execution_count": 69,
   "metadata": {
    "colab": {
     "base_uri": "https://localhost:8080/"
    },
    "id": "uFSaAKVDHHsV",
    "outputId": "f40dd515-ff1a-4732-bd82-a9850ac07397"
   },
   "outputs": [
    {
     "name": "stdout",
     "output_type": "stream",
     "text": [
      "the number of images 3554\n",
      "\r",
      "  0% 0/3554 [00:00<?, ?it/s]/content/gdrive/My Drive/ColabFiles/S14/planercnn/models/model.py:1473: UserWarning: nn.init.xavier_uniform is now deprecated in favor of nn.init.xavier_uniform_.\n",
      "  nn.init.xavier_uniform(m.weight)\n",
      "rm: cannot remove 'test/inference/*_final.png': No such file or directory\n",
      "THCudaCheck FAIL file=/pytorch/aten/src/THC/THCGeneral.cpp line=663 error=11 : invalid argument\n",
      "/usr/local/lib/python3.6/dist-packages/torch/nn/functional.py:1890: UserWarning: nn.functional.upsample is deprecated. Use nn.functional.interpolate instead.\n",
      "  warnings.warn(\"nn.functional.upsample is deprecated. Use nn.functional.interpolate instead.\")\n",
      "/usr/local/lib/python3.6/dist-packages/torch/nn/modules/upsampling.py:122: UserWarning: nn.Upsampling is deprecated. Use nn.functional.interpolate instead.\n",
      "  warnings.warn(\"nn.Upsampling is deprecated. Use nn.functional.interpolate instead.\")\n",
      "/usr/local/lib/python3.6/dist-packages/torch/nn/functional.py:1961: UserWarning: Default upsampling behavior when mode=bilinear is changed to align_corners=False since 0.4.0. Please specify align_corners=True if the old behavior is desired. See the documentation of nn.Upsample for details.\n",
      "  \"See the documentation of nn.Upsample for details.\".format(mode))\n",
      "100% 3554/3554 [43:20<00:00,  1.32it/s]\n"
     ]
    }
   ],
   "source": [
    "!python evaluate.py --methods=f --suffix=warping_refine --dataset=inference --customDataFolder=customimages"
   ]
  },
  {
   "cell_type": "code",
   "execution_count": 23,
   "metadata": {
    "colab": {
     "base_uri": "https://localhost:8080/"
    },
    "id": "Kq734KUXb4nZ",
    "outputId": "824b0136-3f87-4331-b908-1fb9a6c0d7e3"
   },
   "outputs": [
    {
     "name": "stdout",
     "output_type": "stream",
     "text": [
      "0_depth_0_final_np.png\t      325_depth_0_final_np.png\n",
      "0_depth_0_final_ori.png       325_depth_0_final_ori.png\n",
      "0_depth_0_final.png\t      325_depth_0_final.png\n",
      "0_depth_0.png\t\t      325_depth_0.png\n",
      "0_image_0.png\t\t      325_image_0.png\n",
      "0_segmentation_0_final.png    325_segmentation_0_final.png\n",
      "0_segmentation_0.png\t      325_segmentation_0.png\n",
      "100_depth_0_final_np.png      326_depth_0_final_np.png\n",
      "100_depth_0_final_ori.png     326_depth_0_final_ori.png\n",
      "100_depth_0_final.png\t      326_depth_0_final.png\n",
      "100_depth_0.png\t\t      326_depth_0.png\n",
      "100_image_0.png\t\t      326_image_0.png\n",
      "100_segmentation_0_final.png  326_segmentation_0_final.png\n",
      "100_segmentation_0.png\t      326_segmentation_0.png\n",
      "101_depth_0_final_np.png      327_depth_0_final_np.png\n",
      "101_depth_0_final_ori.png     327_depth_0_final_ori.png\n",
      "101_depth_0_final.png\t      327_depth_0_final.png\n",
      "101_depth_0.png\t\t      327_depth_0.png\n",
      "101_image_0.png\t\t      327_image_0.png\n",
      "101_segmentation_0_final.png  327_segmentation_0_final.png\n",
      "101_segmentation_0.png\t      327_segmentation_0.png\n",
      "102_depth_0_final_np.png      328_depth_0_final_np.png\n",
      "102_depth_0_final_ori.png     328_depth_0_final_ori.png\n",
      "102_depth_0_final.png\t      328_depth_0_final.png\n",
      "102_depth_0.png\t\t      328_depth_0.png\n",
      "102_image_0.png\t\t      328_image_0.png\n",
      "102_segmentation_0_final.png  328_segmentation_0_final.png\n",
      "102_segmentation_0.png\t      328_segmentation_0.png\n",
      "103_depth_0_final_np.png      329_depth_0_final_np.png\n",
      "103_depth_0_final_ori.png     329_depth_0_final_ori.png\n",
      "103_depth_0_final.png\t      329_depth_0_final.png\n",
      "103_depth_0.png\t\t      329_depth_0.png\n",
      "103_image_0.png\t\t      329_image_0.png\n",
      "103_segmentation_0_final.png  329_segmentation_0_final.png\n",
      "103_segmentation_0.png\t      329_segmentation_0.png\n",
      "104_depth_0_final_np.png      32_depth_0_final_np.png\n",
      "104_depth_0_final_ori.png     32_depth_0_final_ori.png\n",
      "104_depth_0_final.png\t      32_depth_0_final.png\n",
      "104_depth_0.png\t\t      32_depth_0.png\n",
      "104_image_0.png\t\t      32_image_0.png\n",
      "104_segmentation_0_final.png  32_segmentation_0_final.png\n",
      "104_segmentation_0.png\t      32_segmentation_0.png\n",
      "105_depth_0_final_np.png      330_depth_0_final_np.png\n",
      "105_depth_0_final_ori.png     330_depth_0_final_ori.png\n",
      "105_depth_0_final.png\t      330_depth_0_final.png\n",
      "105_depth_0.png\t\t      330_depth_0.png\n",
      "105_image_0.png\t\t      330_image_0.png\n",
      "105_segmentation_0_final.png  330_segmentation_0_final.png\n",
      "105_segmentation_0.png\t      330_segmentation_0.png\n",
      "106_depth_0_final_np.png      331_depth_0_final_np.png\n",
      "106_depth_0_final_ori.png     331_depth_0_final_ori.png\n",
      "106_depth_0_final.png\t      331_depth_0_final.png\n",
      "106_depth_0.png\t\t      331_depth_0.png\n",
      "106_image_0.png\t\t      331_image_0.png\n",
      "106_segmentation_0_final.png  331_segmentation_0_final.png\n",
      "106_segmentation_0.png\t      331_segmentation_0.png\n",
      "107_depth_0_final_np.png      332_depth_0_final_np.png\n",
      "107_depth_0_final_ori.png     332_depth_0_final_ori.png\n",
      "107_depth_0_final.png\t      332_depth_0_final.png\n",
      "107_depth_0.png\t\t      332_depth_0.png\n",
      "107_image_0.png\t\t      332_image_0.png\n",
      "107_segmentation_0_final.png  332_segmentation_0_final.png\n",
      "107_segmentation_0.png\t      332_segmentation_0.png\n",
      "108_depth_0_final_np.png      333_depth_0_final_np.png\n",
      "108_depth_0_final_ori.png     333_depth_0_final_ori.png\n",
      "108_depth_0_final.png\t      333_depth_0_final.png\n",
      "108_depth_0.png\t\t      333_depth_0.png\n",
      "108_image_0.png\t\t      333_image_0.png\n",
      "108_segmentation_0_final.png  333_segmentation_0_final.png\n",
      "108_segmentation_0.png\t      333_segmentation_0.png\n",
      "109_depth_0_final_np.png      334_depth_0_final_np.png\n",
      "109_depth_0_final_ori.png     334_depth_0_final_ori.png\n",
      "109_depth_0_final.png\t      334_depth_0_final.png\n",
      "109_depth_0.png\t\t      334_depth_0.png\n",
      "109_image_0.png\t\t      334_image_0.png\n",
      "109_segmentation_0_final.png  334_segmentation_0_final.png\n",
      "109_segmentation_0.png\t      334_segmentation_0.png\n",
      "10_depth_0_final_np.png       335_depth_0_final_np.png\n",
      "10_depth_0_final_ori.png      335_depth_0_final_ori.png\n",
      "10_depth_0_final.png\t      335_depth_0_final.png\n",
      "10_depth_0.png\t\t      335_depth_0.png\n",
      "10_image_0.png\t\t      335_image_0.png\n",
      "10_segmentation_0_final.png   335_segmentation_0_final.png\n",
      "10_segmentation_0.png\t      335_segmentation_0.png\n",
      "110_depth_0_final_np.png      336_depth_0_final_np.png\n",
      "110_depth_0_final_ori.png     336_depth_0_final_ori.png\n",
      "110_depth_0_final.png\t      336_depth_0_final.png\n",
      "110_depth_0.png\t\t      336_depth_0.png\n",
      "110_image_0.png\t\t      336_image_0.png\n",
      "110_segmentation_0_final.png  336_segmentation_0_final.png\n",
      "110_segmentation_0.png\t      336_segmentation_0.png\n",
      "111_depth_0_final_np.png      337_depth_0_final_np.png\n",
      "111_depth_0_final_ori.png     337_depth_0_final_ori.png\n",
      "111_depth_0_final.png\t      337_depth_0_final.png\n",
      "111_depth_0.png\t\t      337_depth_0.png\n",
      "111_image_0.png\t\t      337_image_0.png\n",
      "111_segmentation_0_final.png  337_segmentation_0_final.png\n",
      "111_segmentation_0.png\t      337_segmentation_0.png\n",
      "112_depth_0_final_np.png      338_depth_0_final_np.png\n",
      "112_depth_0_final_ori.png     338_depth_0_final_ori.png\n",
      "112_depth_0_final.png\t      338_depth_0_final.png\n",
      "112_depth_0.png\t\t      338_depth_0.png\n",
      "112_image_0.png\t\t      338_image_0.png\n",
      "112_segmentation_0_final.png  338_segmentation_0_final.png\n",
      "112_segmentation_0.png\t      338_segmentation_0.png\n",
      "113_depth_0_final_np.png      339_depth_0_final_np.png\n",
      "113_depth_0_final_ori.png     339_depth_0_final_ori.png\n",
      "113_depth_0_final.png\t      339_depth_0_final.png\n",
      "113_depth_0.png\t\t      339_depth_0.png\n",
      "113_image_0.png\t\t      339_image_0.png\n",
      "113_segmentation_0_final.png  339_segmentation_0_final.png\n",
      "113_segmentation_0.png\t      339_segmentation_0.png\n",
      "114_depth_0_final_np.png      33_depth_0_final_np.png\n",
      "114_depth_0_final_ori.png     33_depth_0_final_ori.png\n",
      "114_depth_0_final.png\t      33_depth_0_final.png\n",
      "114_depth_0.png\t\t      33_depth_0.png\n",
      "114_image_0.png\t\t      33_image_0.png\n",
      "114_segmentation_0_final.png  33_segmentation_0_final.png\n",
      "114_segmentation_0.png\t      33_segmentation_0.png\n",
      "115_depth_0_final_np.png      340_depth_0_final_np.png\n",
      "115_depth_0_final_ori.png     340_depth_0_final_ori.png\n",
      "115_depth_0_final.png\t      340_depth_0_final.png\n",
      "115_depth_0.png\t\t      340_depth_0.png\n",
      "115_image_0.png\t\t      340_image_0.png\n",
      "115_segmentation_0_final.png  340_segmentation_0_final.png\n",
      "115_segmentation_0.png\t      340_segmentation_0.png\n",
      "116_depth_0_final_np.png      341_depth_0_final_np.png\n",
      "116_depth_0_final_ori.png     341_depth_0_final_ori.png\n",
      "116_depth_0_final.png\t      341_depth_0_final.png\n",
      "116_depth_0.png\t\t      341_depth_0.png\n",
      "116_image_0.png\t\t      341_image_0.png\n",
      "116_segmentation_0_final.png  341_segmentation_0_final.png\n",
      "116_segmentation_0.png\t      341_segmentation_0.png\n",
      "117_depth_0_final_np.png      342_depth_0_final_np.png\n",
      "117_depth_0_final_ori.png     342_depth_0_final_ori.png\n",
      "117_depth_0_final.png\t      342_depth_0_final.png\n",
      "117_depth_0.png\t\t      342_depth_0.png\n",
      "117_image_0.png\t\t      342_image_0.png\n",
      "117_segmentation_0_final.png  342_segmentation_0_final.png\n",
      "117_segmentation_0.png\t      342_segmentation_0.png\n",
      "118_depth_0_final_np.png      343_depth_0_final_np.png\n",
      "118_depth_0_final_ori.png     343_depth_0_final_ori.png\n",
      "118_depth_0_final.png\t      343_depth_0_final.png\n",
      "118_depth_0.png\t\t      343_depth_0.png\n",
      "118_image_0.png\t\t      343_image_0.png\n",
      "118_segmentation_0_final.png  343_segmentation_0_final.png\n",
      "118_segmentation_0.png\t      343_segmentation_0.png\n",
      "119_depth_0_final_np.png      344_depth_0_final_np.png\n",
      "119_depth_0_final_ori.png     344_depth_0_final_ori.png\n",
      "119_depth_0_final.png\t      344_depth_0_final.png\n",
      "119_depth_0.png\t\t      344_depth_0.png\n",
      "119_image_0.png\t\t      344_image_0.png\n",
      "119_segmentation_0_final.png  344_segmentation_0_final.png\n",
      "119_segmentation_0.png\t      344_segmentation_0.png\n",
      "11_depth_0_final_np.png       345_depth_0_final_np.png\n",
      "11_depth_0_final_ori.png      345_depth_0_final_ori.png\n",
      "11_depth_0_final.png\t      345_depth_0_final.png\n",
      "11_depth_0.png\t\t      345_depth_0.png\n",
      "11_image_0.png\t\t      345_image_0.png\n",
      "11_segmentation_0_final.png   345_segmentation_0_final.png\n",
      "11_segmentation_0.png\t      345_segmentation_0.png\n",
      "120_depth_0_final_np.png      346_depth_0_final_np.png\n",
      "120_depth_0_final_ori.png     346_depth_0_final_ori.png\n",
      "120_depth_0_final.png\t      346_depth_0_final.png\n",
      "120_depth_0.png\t\t      346_depth_0.png\n",
      "120_image_0.png\t\t      346_image_0.png\n",
      "120_segmentation_0_final.png  346_segmentation_0_final.png\n",
      "120_segmentation_0.png\t      346_segmentation_0.png\n",
      "121_depth_0_final_np.png      347_depth_0_final_np.png\n",
      "121_depth_0_final_ori.png     347_depth_0_final_ori.png\n",
      "121_depth_0_final.png\t      347_depth_0_final.png\n",
      "121_depth_0.png\t\t      347_depth_0.png\n",
      "121_image_0.png\t\t      347_image_0.png\n",
      "121_segmentation_0_final.png  347_segmentation_0_final.png\n",
      "121_segmentation_0.png\t      347_segmentation_0.png\n",
      "122_depth_0_final_np.png      348_depth_0_final_np.png\n",
      "122_depth_0_final_ori.png     348_depth_0_final_ori.png\n",
      "122_depth_0_final.png\t      348_depth_0_final.png\n",
      "122_depth_0.png\t\t      348_depth_0.png\n",
      "122_image_0.png\t\t      348_image_0.png\n",
      "122_segmentation_0_final.png  348_segmentation_0_final.png\n",
      "122_segmentation_0.png\t      348_segmentation_0.png\n",
      "123_depth_0_final_np.png      349_depth_0_final_np.png\n",
      "123_depth_0_final_ori.png     349_depth_0_final_ori.png\n",
      "123_depth_0_final.png\t      349_depth_0_final.png\n",
      "123_depth_0.png\t\t      349_depth_0.png\n",
      "123_image_0.png\t\t      349_image_0.png\n",
      "123_segmentation_0_final.png  349_segmentation_0_final.png\n",
      "123_segmentation_0.png\t      349_segmentation_0.png\n",
      "124_depth_0_final_np.png      34_depth_0_final_np.png\n",
      "124_depth_0_final_ori.png     34_depth_0_final_ori.png\n",
      "124_depth_0_final.png\t      34_depth_0_final.png\n",
      "124_depth_0.png\t\t      34_depth_0.png\n",
      "124_image_0.png\t\t      34_image_0.png\n",
      "124_segmentation_0_final.png  34_segmentation_0_final.png\n",
      "124_segmentation_0.png\t      34_segmentation_0.png\n",
      "125_depth_0_final_np.png      350_depth_0_final_np.png\n",
      "125_depth_0_final_ori.png     350_depth_0_final_ori.png\n",
      "125_depth_0_final.png\t      350_depth_0_final.png\n",
      "125_depth_0.png\t\t      350_depth_0.png\n",
      "125_image_0.png\t\t      350_image_0.png\n",
      "125_segmentation_0_final.png  350_segmentation_0_final.png\n",
      "125_segmentation_0.png\t      350_segmentation_0.png\n",
      "126_depth_0_final_np.png      351_depth_0_final_np.png\n",
      "126_depth_0_final_ori.png     351_depth_0_final_ori.png\n",
      "126_depth_0_final.png\t      351_depth_0_final.png\n",
      "126_depth_0.png\t\t      351_depth_0.png\n",
      "126_image_0.png\t\t      351_image_0.png\n",
      "126_segmentation_0_final.png  351_segmentation_0_final.png\n",
      "126_segmentation_0.png\t      351_segmentation_0.png\n",
      "127_depth_0_final_np.png      352_depth_0_final_np.png\n",
      "127_depth_0_final_ori.png     352_depth_0_final_ori.png\n",
      "127_depth_0_final.png\t      352_depth_0_final.png\n",
      "127_depth_0.png\t\t      352_depth_0.png\n",
      "127_image_0.png\t\t      352_image_0.png\n",
      "127_segmentation_0_final.png  352_segmentation_0_final.png\n",
      "127_segmentation_0.png\t      352_segmentation_0.png\n",
      "128_depth_0_final_np.png      353_depth_0_final_np.png\n",
      "128_depth_0_final_ori.png     353_depth_0_final_ori.png\n",
      "128_depth_0_final.png\t      353_depth_0_final.png\n",
      "128_depth_0.png\t\t      353_depth_0.png\n",
      "128_image_0.png\t\t      353_image_0.png\n",
      "128_segmentation_0_final.png  353_segmentation_0_final.png\n",
      "128_segmentation_0.png\t      353_segmentation_0.png\n",
      "129_depth_0_final_np.png      354_depth_0_final_np.png\n",
      "129_depth_0_final_ori.png     354_depth_0_final_ori.png\n",
      "129_depth_0_final.png\t      354_depth_0_final.png\n",
      "129_depth_0.png\t\t      354_depth_0.png\n",
      "129_image_0.png\t\t      354_image_0.png\n",
      "129_segmentation_0_final.png  354_segmentation_0_final.png\n",
      "129_segmentation_0.png\t      354_segmentation_0.png\n",
      "12_depth_0_final_np.png       355_depth_0_final_np.png\n",
      "12_depth_0_final_ori.png      355_depth_0_final_ori.png\n",
      "12_depth_0_final.png\t      355_depth_0_final.png\n",
      "12_depth_0.png\t\t      355_depth_0.png\n",
      "12_image_0.png\t\t      355_image_0.png\n",
      "12_segmentation_0_final.png   355_segmentation_0_final.png\n",
      "12_segmentation_0.png\t      355_segmentation_0.png\n",
      "130_depth_0_final_np.png      356_depth_0_final_np.png\n",
      "130_depth_0_final_ori.png     356_depth_0_final_ori.png\n",
      "130_depth_0_final.png\t      356_depth_0_final.png\n",
      "130_depth_0.png\t\t      356_depth_0.png\n",
      "130_image_0.png\t\t      356_image_0.png\n",
      "130_segmentation_0_final.png  356_segmentation_0_final.png\n",
      "130_segmentation_0.png\t      356_segmentation_0.png\n",
      "131_depth_0_final_np.png      357_depth_0_final_np.png\n",
      "131_depth_0_final_ori.png     357_depth_0_final_ori.png\n",
      "131_depth_0_final.png\t      357_depth_0_final.png\n",
      "131_depth_0.png\t\t      357_depth_0.png\n",
      "131_image_0.png\t\t      357_image_0.png\n",
      "131_segmentation_0_final.png  357_segmentation_0_final.png\n",
      "131_segmentation_0.png\t      357_segmentation_0.png\n",
      "132_depth_0_final_np.png      358_depth_0_final_np.png\n",
      "132_depth_0_final_ori.png     358_depth_0_final_ori.png\n",
      "132_depth_0_final.png\t      358_depth_0_final.png\n",
      "132_depth_0.png\t\t      358_depth_0.png\n",
      "132_image_0.png\t\t      358_image_0.png\n",
      "132_segmentation_0_final.png  358_segmentation_0_final.png\n",
      "132_segmentation_0.png\t      358_segmentation_0.png\n",
      "133_depth_0_final_np.png      359_depth_0_final_np.png\n",
      "133_depth_0_final_ori.png     359_depth_0_final_ori.png\n",
      "133_depth_0_final.png\t      359_depth_0_final.png\n",
      "133_depth_0.png\t\t      359_depth_0.png\n",
      "133_image_0.png\t\t      359_image_0.png\n",
      "133_segmentation_0_final.png  359_segmentation_0_final.png\n",
      "133_segmentation_0.png\t      359_segmentation_0.png\n",
      "134_depth_0_final_np.png      35_depth_0_final_np.png\n",
      "134_depth_0_final_ori.png     35_depth_0_final_ori.png\n",
      "134_depth_0_final.png\t      35_depth_0_final.png\n",
      "134_depth_0.png\t\t      35_depth_0.png\n",
      "134_image_0.png\t\t      35_image_0.png\n",
      "134_segmentation_0_final.png  35_segmentation_0_final.png\n",
      "134_segmentation_0.png\t      35_segmentation_0.png\n",
      "135_depth_0_final_np.png      360_depth_0_final_np.png\n",
      "135_depth_0_final_ori.png     360_depth_0_final_ori.png\n",
      "135_depth_0_final.png\t      360_depth_0_final.png\n",
      "135_depth_0.png\t\t      360_depth_0.png\n",
      "135_image_0.png\t\t      360_image_0.png\n",
      "135_segmentation_0_final.png  360_segmentation_0_final.png\n",
      "135_segmentation_0.png\t      360_segmentation_0.png\n",
      "136_depth_0_final_np.png      361_depth_0_final_np.png\n",
      "136_depth_0_final_ori.png     361_depth_0_final_ori.png\n",
      "136_depth_0_final.png\t      361_depth_0_final.png\n",
      "136_depth_0.png\t\t      361_depth_0.png\n",
      "136_image_0.png\t\t      361_image_0.png\n",
      "136_segmentation_0_final.png  361_segmentation_0_final.png\n",
      "136_segmentation_0.png\t      361_segmentation_0.png\n",
      "137_depth_0_final_np.png      362_depth_0_final_np.png\n",
      "137_depth_0_final_ori.png     362_depth_0_final_ori.png\n",
      "137_depth_0_final.png\t      362_depth_0_final.png\n",
      "137_depth_0.png\t\t      362_depth_0.png\n",
      "137_image_0.png\t\t      362_image_0.png\n",
      "137_segmentation_0_final.png  362_segmentation_0_final.png\n",
      "137_segmentation_0.png\t      362_segmentation_0.png\n",
      "138_depth_0_final_np.png      363_depth_0_final_np.png\n",
      "138_depth_0_final_ori.png     363_depth_0_final_ori.png\n",
      "138_depth_0_final.png\t      363_depth_0_final.png\n",
      "138_depth_0.png\t\t      363_depth_0.png\n",
      "138_image_0.png\t\t      363_image_0.png\n",
      "138_segmentation_0_final.png  363_segmentation_0_final.png\n",
      "138_segmentation_0.png\t      363_segmentation_0.png\n",
      "139_depth_0_final_np.png      364_depth_0_final_np.png\n",
      "139_depth_0_final_ori.png     364_depth_0_final_ori.png\n",
      "139_depth_0_final.png\t      364_depth_0_final.png\n",
      "139_depth_0.png\t\t      364_depth_0.png\n",
      "139_image_0.png\t\t      364_image_0.png\n",
      "139_segmentation_0_final.png  364_segmentation_0_final.png\n",
      "139_segmentation_0.png\t      364_segmentation_0.png\n",
      "13_depth_0_final_np.png       365_depth_0_final_np.png\n",
      "13_depth_0_final_ori.png      365_depth_0_final_ori.png\n",
      "13_depth_0_final.png\t      365_depth_0_final.png\n",
      "13_depth_0.png\t\t      365_depth_0.png\n",
      "13_image_0.png\t\t      365_image_0.png\n",
      "13_segmentation_0_final.png   365_segmentation_0_final.png\n",
      "13_segmentation_0.png\t      365_segmentation_0.png\n",
      "140_depth_0_final_np.png      366_depth_0_final_np.png\n",
      "140_depth_0_final_ori.png     366_depth_0_final_ori.png\n",
      "140_depth_0_final.png\t      366_depth_0_final.png\n",
      "140_depth_0.png\t\t      366_depth_0.png\n",
      "140_image_0.png\t\t      366_image_0.png\n",
      "140_segmentation_0_final.png  366_segmentation_0_final.png\n",
      "140_segmentation_0.png\t      366_segmentation_0.png\n",
      "141_depth_0_final_np.png      367_depth_0_final_np.png\n",
      "141_depth_0_final_ori.png     367_depth_0_final_ori.png\n",
      "141_depth_0_final.png\t      367_depth_0_final.png\n",
      "141_depth_0.png\t\t      367_depth_0.png\n",
      "141_image_0.png\t\t      367_image_0.png\n",
      "141_segmentation_0_final.png  367_segmentation_0_final.png\n",
      "141_segmentation_0.png\t      367_segmentation_0.png\n",
      "142_depth_0_final_np.png      368_depth_0_final_np.png\n",
      "142_depth_0_final_ori.png     368_depth_0_final_ori.png\n",
      "142_depth_0_final.png\t      368_depth_0_final.png\n",
      "142_depth_0.png\t\t      368_depth_0.png\n",
      "142_image_0.png\t\t      368_image_0.png\n",
      "142_segmentation_0_final.png  368_segmentation_0_final.png\n",
      "142_segmentation_0.png\t      368_segmentation_0.png\n",
      "143_depth_0_final_np.png      369_depth_0_final_np.png\n",
      "143_depth_0_final_ori.png     369_depth_0_final_ori.png\n",
      "143_depth_0_final.png\t      369_depth_0_final.png\n",
      "143_depth_0.png\t\t      369_depth_0.png\n",
      "143_image_0.png\t\t      369_image_0.png\n",
      "143_segmentation_0_final.png  369_segmentation_0_final.png\n",
      "143_segmentation_0.png\t      369_segmentation_0.png\n",
      "144_depth_0_final_np.png      36_depth_0_final_np.png\n",
      "144_depth_0_final_ori.png     36_depth_0_final_ori.png\n",
      "144_depth_0_final.png\t      36_depth_0_final.png\n",
      "144_depth_0.png\t\t      36_depth_0.png\n",
      "144_image_0.png\t\t      36_image_0.png\n",
      "144_segmentation_0_final.png  36_segmentation_0_final.png\n",
      "144_segmentation_0.png\t      36_segmentation_0.png\n",
      "145_depth_0_final_np.png      370_depth_0_final_np.png\n",
      "145_depth_0_final_ori.png     370_depth_0_final_ori.png\n",
      "145_depth_0_final.png\t      370_depth_0_final.png\n",
      "145_depth_0.png\t\t      370_depth_0.png\n",
      "145_image_0.png\t\t      370_image_0.png\n",
      "145_segmentation_0_final.png  370_segmentation_0_final.png\n",
      "145_segmentation_0.png\t      370_segmentation_0.png\n",
      "146_depth_0_final_np.png      371_depth_0_final_np.png\n",
      "146_depth_0_final_ori.png     371_depth_0_final_ori.png\n",
      "146_depth_0_final.png\t      371_depth_0_final.png\n",
      "146_depth_0.png\t\t      371_depth_0.png\n",
      "146_image_0.png\t\t      371_image_0.png\n",
      "146_segmentation_0_final.png  371_segmentation_0_final.png\n",
      "146_segmentation_0.png\t      371_segmentation_0.png\n",
      "147_depth_0_final_np.png      372_depth_0_final_np.png\n",
      "147_depth_0_final_ori.png     372_depth_0_final_ori.png\n",
      "147_depth_0_final.png\t      372_depth_0_final.png\n",
      "147_depth_0.png\t\t      372_depth_0.png\n",
      "147_image_0.png\t\t      372_image_0.png\n",
      "147_segmentation_0_final.png  372_segmentation_0_final.png\n",
      "147_segmentation_0.png\t      372_segmentation_0.png\n",
      "148_depth_0_final_np.png      373_depth_0_final_np.png\n",
      "148_depth_0_final_ori.png     373_depth_0_final_ori.png\n",
      "148_depth_0_final.png\t      373_depth_0_final.png\n",
      "148_depth_0.png\t\t      373_depth_0.png\n",
      "148_image_0.png\t\t      373_image_0.png\n",
      "148_segmentation_0_final.png  373_segmentation_0_final.png\n",
      "148_segmentation_0.png\t      373_segmentation_0.png\n",
      "149_depth_0_final_np.png      374_depth_0_final_np.png\n",
      "149_depth_0_final_ori.png     374_depth_0_final_ori.png\n",
      "149_depth_0_final.png\t      374_depth_0_final.png\n",
      "149_depth_0.png\t\t      374_depth_0.png\n",
      "149_image_0.png\t\t      374_image_0.png\n",
      "149_segmentation_0_final.png  374_segmentation_0_final.png\n",
      "149_segmentation_0.png\t      374_segmentation_0.png\n",
      "14_depth_0_final_np.png       375_depth_0_final_np.png\n",
      "14_depth_0_final_ori.png      375_depth_0_final_ori.png\n",
      "14_depth_0_final.png\t      375_depth_0_final.png\n",
      "14_depth_0.png\t\t      375_depth_0.png\n",
      "14_image_0.png\t\t      375_image_0.png\n",
      "14_segmentation_0_final.png   375_segmentation_0_final.png\n",
      "14_segmentation_0.png\t      375_segmentation_0.png\n",
      "150_depth_0_final_np.png      376_depth_0_final_np.png\n",
      "150_depth_0_final_ori.png     376_depth_0_final_ori.png\n",
      "150_depth_0_final.png\t      376_depth_0_final.png\n",
      "150_depth_0.png\t\t      376_depth_0.png\n",
      "150_image_0.png\t\t      376_image_0.png\n",
      "150_segmentation_0_final.png  376_segmentation_0_final.png\n",
      "150_segmentation_0.png\t      376_segmentation_0.png\n",
      "151_depth_0_final_np.png      377_depth_0_final_np.png\n",
      "151_depth_0_final_ori.png     377_depth_0_final_ori.png\n",
      "151_depth_0_final.png\t      377_depth_0_final.png\n",
      "151_depth_0.png\t\t      377_depth_0.png\n",
      "151_image_0.png\t\t      377_image_0.png\n",
      "151_segmentation_0_final.png  377_segmentation_0_final.png\n",
      "151_segmentation_0.png\t      377_segmentation_0.png\n",
      "152_depth_0_final_np.png      378_depth_0_final_np.png\n",
      "152_depth_0_final_ori.png     378_depth_0_final_ori.png\n",
      "152_depth_0_final.png\t      378_depth_0_final.png\n",
      "152_depth_0.png\t\t      378_depth_0.png\n",
      "152_image_0.png\t\t      378_image_0.png\n",
      "152_segmentation_0_final.png  378_segmentation_0_final.png\n",
      "152_segmentation_0.png\t      378_segmentation_0.png\n",
      "153_depth_0_final_np.png      379_depth_0_final_np.png\n",
      "153_depth_0_final_ori.png     379_depth_0_final_ori.png\n",
      "153_depth_0_final.png\t      379_depth_0_final.png\n",
      "153_depth_0.png\t\t      379_depth_0.png\n",
      "153_image_0.png\t\t      379_image_0.png\n",
      "153_segmentation_0_final.png  379_segmentation_0_final.png\n",
      "153_segmentation_0.png\t      379_segmentation_0.png\n",
      "154_depth_0_final_np.png      37_depth_0_final_np.png\n",
      "154_depth_0_final_ori.png     37_depth_0_final_ori.png\n",
      "154_depth_0_final.png\t      37_depth_0_final.png\n",
      "154_depth_0.png\t\t      37_depth_0.png\n",
      "154_image_0.png\t\t      37_image_0.png\n",
      "154_segmentation_0_final.png  37_segmentation_0_final.png\n",
      "154_segmentation_0.png\t      37_segmentation_0.png\n",
      "155_depth_0_final_np.png      380_depth_0_final_np.png\n",
      "155_depth_0_final_ori.png     380_depth_0_final_ori.png\n",
      "155_depth_0_final.png\t      380_depth_0_final.png\n",
      "155_depth_0.png\t\t      380_depth_0.png\n",
      "155_image_0.png\t\t      380_image_0.png\n",
      "155_segmentation_0_final.png  380_segmentation_0_final.png\n",
      "155_segmentation_0.png\t      380_segmentation_0.png\n",
      "156_depth_0_final_np.png      381_depth_0_final_np.png\n",
      "156_depth_0_final_ori.png     381_depth_0_final_ori.png\n",
      "156_depth_0_final.png\t      381_depth_0_final.png\n",
      "156_depth_0.png\t\t      381_depth_0.png\n",
      "156_image_0.png\t\t      381_image_0.png\n",
      "156_segmentation_0_final.png  381_segmentation_0_final.png\n",
      "156_segmentation_0.png\t      381_segmentation_0.png\n",
      "157_depth_0_final_np.png      382_depth_0_final_np.png\n",
      "157_depth_0_final_ori.png     382_depth_0_final_ori.png\n",
      "157_depth_0_final.png\t      382_depth_0_final.png\n",
      "157_depth_0.png\t\t      382_depth_0.png\n",
      "157_image_0.png\t\t      382_image_0.png\n",
      "157_segmentation_0_final.png  382_segmentation_0_final.png\n",
      "157_segmentation_0.png\t      382_segmentation_0.png\n",
      "158_depth_0_final_np.png      383_depth_0_final_np.png\n",
      "158_depth_0_final_ori.png     383_depth_0_final_ori.png\n",
      "158_depth_0_final.png\t      383_depth_0_final.png\n",
      "158_depth_0.png\t\t      383_depth_0.png\n",
      "158_image_0.png\t\t      383_image_0.png\n",
      "158_segmentation_0_final.png  383_segmentation_0_final.png\n",
      "158_segmentation_0.png\t      383_segmentation_0.png\n",
      "159_depth_0_final_np.png      384_depth_0_final_np.png\n",
      "159_depth_0_final_ori.png     384_depth_0_final_ori.png\n",
      "159_depth_0_final.png\t      384_depth_0_final.png\n",
      "159_depth_0.png\t\t      384_depth_0.png\n",
      "159_image_0.png\t\t      384_image_0.png\n",
      "159_segmentation_0_final.png  384_segmentation_0_final.png\n",
      "159_segmentation_0.png\t      384_segmentation_0.png\n",
      "15_depth_0_final_np.png       385_depth_0_final_np.png\n",
      "15_depth_0_final_ori.png      385_depth_0_final_ori.png\n",
      "15_depth_0_final.png\t      385_depth_0_final.png\n",
      "15_depth_0.png\t\t      385_depth_0.png\n",
      "15_image_0.png\t\t      385_image_0.png\n",
      "15_segmentation_0_final.png   385_segmentation_0_final.png\n",
      "15_segmentation_0.png\t      385_segmentation_0.png\n",
      "160_depth_0_final_np.png      386_depth_0_final_np.png\n",
      "160_depth_0_final_ori.png     386_depth_0_final_ori.png\n",
      "160_depth_0_final.png\t      386_depth_0_final.png\n",
      "160_depth_0.png\t\t      386_depth_0.png\n",
      "160_image_0.png\t\t      386_image_0.png\n",
      "160_segmentation_0_final.png  386_segmentation_0_final.png\n",
      "160_segmentation_0.png\t      386_segmentation_0.png\n",
      "161_depth_0_final_np.png      387_depth_0_final_np.png\n",
      "161_depth_0_final_ori.png     387_depth_0_final_ori.png\n",
      "161_depth_0_final.png\t      387_depth_0_final.png\n",
      "161_depth_0.png\t\t      387_depth_0.png\n",
      "161_image_0.png\t\t      387_image_0.png\n",
      "161_segmentation_0_final.png  387_segmentation_0_final.png\n",
      "161_segmentation_0.png\t      387_segmentation_0.png\n",
      "162_depth_0_final_np.png      388_depth_0_final_np.png\n",
      "162_depth_0_final_ori.png     388_depth_0_final_ori.png\n",
      "162_depth_0_final.png\t      388_depth_0_final.png\n",
      "162_depth_0.png\t\t      388_depth_0.png\n",
      "162_image_0.png\t\t      388_image_0.png\n",
      "162_segmentation_0_final.png  388_segmentation_0_final.png\n",
      "162_segmentation_0.png\t      388_segmentation_0.png\n",
      "163_depth_0_final_np.png      389_depth_0_final_np.png\n",
      "163_depth_0_final_ori.png     389_depth_0_final_ori.png\n",
      "163_depth_0_final.png\t      389_depth_0_final.png\n",
      "163_depth_0.png\t\t      389_depth_0.png\n",
      "163_image_0.png\t\t      389_image_0.png\n",
      "163_segmentation_0_final.png  389_segmentation_0_final.png\n",
      "163_segmentation_0.png\t      389_segmentation_0.png\n",
      "164_depth_0_final_np.png      38_depth_0_final_np.png\n",
      "164_depth_0_final_ori.png     38_depth_0_final_ori.png\n",
      "164_depth_0_final.png\t      38_depth_0_final.png\n",
      "164_depth_0.png\t\t      38_depth_0.png\n",
      "164_image_0.png\t\t      38_image_0.png\n",
      "164_segmentation_0_final.png  38_segmentation_0_final.png\n",
      "164_segmentation_0.png\t      38_segmentation_0.png\n",
      "165_depth_0_final_np.png      390_depth_0_final_np.png\n",
      "165_depth_0_final_ori.png     390_depth_0_final_ori.png\n",
      "165_depth_0_final.png\t      390_depth_0_final.png\n",
      "165_depth_0.png\t\t      390_depth_0.png\n",
      "165_image_0.png\t\t      390_image_0.png\n",
      "165_segmentation_0_final.png  390_segmentation_0_final.png\n",
      "165_segmentation_0.png\t      390_segmentation_0.png\n",
      "166_depth_0_final_np.png      391_depth_0_final_np.png\n",
      "166_depth_0_final_ori.png     391_depth_0_final_ori.png\n",
      "166_depth_0_final.png\t      391_depth_0_final.png\n",
      "166_depth_0.png\t\t      391_depth_0.png\n",
      "166_image_0.png\t\t      391_image_0.png\n",
      "166_segmentation_0_final.png  391_segmentation_0_final.png\n",
      "166_segmentation_0.png\t      391_segmentation_0.png\n",
      "167_depth_0_final_np.png      392_depth_0_final_np.png\n",
      "167_depth_0_final_ori.png     392_depth_0_final_ori.png\n",
      "167_depth_0_final.png\t      392_depth_0_final.png\n",
      "167_depth_0.png\t\t      392_depth_0.png\n",
      "167_image_0.png\t\t      392_image_0.png\n",
      "167_segmentation_0_final.png  392_segmentation_0_final.png\n",
      "167_segmentation_0.png\t      392_segmentation_0.png\n",
      "168_depth_0_final_np.png      393_depth_0_final_np.png\n",
      "168_depth_0_final_ori.png     393_depth_0_final_ori.png\n",
      "168_depth_0_final.png\t      393_depth_0_final.png\n",
      "168_depth_0.png\t\t      393_depth_0.png\n",
      "168_image_0.png\t\t      393_image_0.png\n",
      "168_segmentation_0_final.png  393_segmentation_0_final.png\n",
      "168_segmentation_0.png\t      393_segmentation_0.png\n",
      "169_depth_0_final_np.png      394_depth_0_final_np.png\n",
      "169_depth_0_final_ori.png     394_depth_0_final_ori.png\n",
      "169_depth_0_final.png\t      394_depth_0_final.png\n",
      "169_depth_0.png\t\t      394_depth_0.png\n",
      "169_image_0.png\t\t      394_image_0.png\n",
      "169_segmentation_0_final.png  394_segmentation_0_final.png\n",
      "169_segmentation_0.png\t      394_segmentation_0.png\n",
      "16_depth_0_final_np.png       395_depth_0_final_np.png\n",
      "16_depth_0_final_ori.png      395_depth_0_final_ori.png\n",
      "16_depth_0_final.png\t      395_depth_0_final.png\n",
      "16_depth_0.png\t\t      395_depth_0.png\n",
      "16_image_0.png\t\t      395_image_0.png\n",
      "16_segmentation_0_final.png   395_segmentation_0_final.png\n",
      "16_segmentation_0.png\t      395_segmentation_0.png\n",
      "170_depth_0_final_np.png      396_depth_0_final_np.png\n",
      "170_depth_0_final_ori.png     396_depth_0_final_ori.png\n",
      "170_depth_0_final.png\t      396_depth_0_final.png\n",
      "170_depth_0.png\t\t      396_depth_0.png\n",
      "170_image_0.png\t\t      396_image_0.png\n",
      "170_segmentation_0_final.png  396_segmentation_0_final.png\n",
      "170_segmentation_0.png\t      396_segmentation_0.png\n",
      "171_depth_0_final_np.png      397_depth_0_final_np.png\n",
      "171_depth_0_final_ori.png     397_depth_0_final_ori.png\n",
      "171_depth_0_final.png\t      397_depth_0_final.png\n",
      "171_depth_0.png\t\t      397_depth_0.png\n",
      "171_image_0.png\t\t      397_image_0.png\n",
      "171_segmentation_0_final.png  397_segmentation_0_final.png\n",
      "171_segmentation_0.png\t      397_segmentation_0.png\n",
      "172_depth_0_final_np.png      398_depth_0_final_np.png\n",
      "172_depth_0_final_ori.png     398_depth_0_final_ori.png\n",
      "172_depth_0_final.png\t      398_depth_0_final.png\n",
      "172_depth_0.png\t\t      398_depth_0.png\n",
      "172_image_0.png\t\t      398_image_0.png\n",
      "172_segmentation_0_final.png  398_segmentation_0_final.png\n",
      "172_segmentation_0.png\t      398_segmentation_0.png\n",
      "173_depth_0_final_np.png      399_depth_0_final_np.png\n",
      "173_depth_0_final_ori.png     399_depth_0_final_ori.png\n",
      "173_depth_0_final.png\t      399_depth_0_final.png\n",
      "173_depth_0.png\t\t      399_depth_0.png\n",
      "173_image_0.png\t\t      399_image_0.png\n",
      "173_segmentation_0_final.png  399_segmentation_0_final.png\n",
      "173_segmentation_0.png\t      399_segmentation_0.png\n",
      "174_depth_0_final_np.png      39_depth_0_final_np.png\n",
      "174_depth_0_final_ori.png     39_depth_0_final_ori.png\n",
      "174_depth_0_final.png\t      39_depth_0_final.png\n",
      "174_depth_0.png\t\t      39_depth_0.png\n",
      "174_image_0.png\t\t      39_image_0.png\n",
      "174_segmentation_0_final.png  39_segmentation_0_final.png\n",
      "174_segmentation_0.png\t      39_segmentation_0.png\n",
      "175_depth_0_final_np.png      3_depth_0_final_np.png\n",
      "175_depth_0_final_ori.png     3_depth_0_final_ori.png\n",
      "175_depth_0_final.png\t      3_depth_0_final.png\n",
      "175_depth_0.png\t\t      3_depth_0.png\n",
      "175_image_0.png\t\t      3_image_0.png\n",
      "175_segmentation_0_final.png  3_segmentation_0_final.png\n",
      "175_segmentation_0.png\t      3_segmentation_0.png\n",
      "176_depth_0_final_np.png      400_depth_0_final_np.png\n",
      "176_depth_0_final_ori.png     400_depth_0_final_ori.png\n",
      "176_depth_0_final.png\t      400_depth_0_final.png\n",
      "176_depth_0.png\t\t      400_depth_0.png\n",
      "176_image_0.png\t\t      400_image_0.png\n",
      "176_segmentation_0_final.png  400_segmentation_0_final.png\n",
      "176_segmentation_0.png\t      400_segmentation_0.png\n",
      "177_depth_0_final_np.png      401_depth_0_final_np.png\n",
      "177_depth_0_final_ori.png     401_depth_0_final_ori.png\n",
      "177_depth_0_final.png\t      401_depth_0_final.png\n",
      "177_depth_0.png\t\t      401_depth_0.png\n",
      "177_image_0.png\t\t      401_image_0.png\n",
      "177_segmentation_0_final.png  401_segmentation_0_final.png\n",
      "177_segmentation_0.png\t      401_segmentation_0.png\n",
      "178_depth_0_final_np.png      402_depth_0_final_np.png\n",
      "178_depth_0_final_ori.png     402_depth_0_final_ori.png\n",
      "178_depth_0_final.png\t      402_depth_0_final.png\n",
      "178_depth_0.png\t\t      402_depth_0.png\n",
      "178_image_0.png\t\t      402_image_0.png\n",
      "178_segmentation_0_final.png  402_segmentation_0_final.png\n",
      "178_segmentation_0.png\t      402_segmentation_0.png\n",
      "179_depth_0_final_np.png      403_depth_0_final_np.png\n",
      "179_depth_0_final_ori.png     403_depth_0_final_ori.png\n",
      "179_depth_0_final.png\t      403_depth_0_final.png\n",
      "179_depth_0.png\t\t      403_depth_0.png\n",
      "179_image_0.png\t\t      403_image_0.png\n",
      "179_segmentation_0_final.png  403_segmentation_0_final.png\n",
      "179_segmentation_0.png\t      403_segmentation_0.png\n",
      "17_depth_0_final_np.png       404_depth_0_final_np.png\n",
      "17_depth_0_final_ori.png      404_depth_0_final_ori.png\n",
      "17_depth_0_final.png\t      404_depth_0_final.png\n",
      "17_depth_0.png\t\t      404_depth_0.png\n",
      "17_image_0.png\t\t      404_image_0.png\n",
      "17_segmentation_0_final.png   404_segmentation_0_final.png\n",
      "17_segmentation_0.png\t      404_segmentation_0.png\n",
      "180_depth_0_final_np.png      405_depth_0_final_np.png\n",
      "180_depth_0_final_ori.png     405_depth_0_final_ori.png\n",
      "180_depth_0_final.png\t      405_depth_0_final.png\n",
      "180_depth_0.png\t\t      405_depth_0.png\n",
      "180_image_0.png\t\t      405_image_0.png\n",
      "180_segmentation_0_final.png  405_segmentation_0_final.png\n",
      "180_segmentation_0.png\t      405_segmentation_0.png\n",
      "181_depth_0_final_np.png      406_depth_0_final_np.png\n",
      "181_depth_0_final_ori.png     406_depth_0_final_ori.png\n",
      "181_depth_0_final.png\t      406_depth_0_final.png\n",
      "181_depth_0.png\t\t      406_depth_0.png\n",
      "181_image_0.png\t\t      406_image_0.png\n",
      "181_segmentation_0_final.png  406_segmentation_0_final.png\n",
      "181_segmentation_0.png\t      406_segmentation_0.png\n",
      "182_depth_0_final_np.png      407_depth_0_final_np.png\n",
      "182_depth_0_final_ori.png     407_depth_0_final_ori.png\n",
      "182_depth_0_final.png\t      407_depth_0_final.png\n",
      "182_depth_0.png\t\t      407_depth_0.png\n",
      "182_image_0.png\t\t      407_image_0.png\n",
      "182_segmentation_0_final.png  407_segmentation_0_final.png\n",
      "182_segmentation_0.png\t      407_segmentation_0.png\n",
      "183_depth_0_final_np.png      408_depth_0_final_np.png\n",
      "183_depth_0_final_ori.png     408_depth_0_final_ori.png\n",
      "183_depth_0_final.png\t      408_depth_0_final.png\n",
      "183_depth_0.png\t\t      408_depth_0.png\n",
      "183_image_0.png\t\t      408_image_0.png\n",
      "183_segmentation_0_final.png  408_segmentation_0_final.png\n",
      "183_segmentation_0.png\t      408_segmentation_0.png\n",
      "184_depth_0_final_np.png      409_depth_0_final_np.png\n",
      "184_depth_0_final_ori.png     409_depth_0_final_ori.png\n",
      "184_depth_0_final.png\t      409_depth_0_final.png\n",
      "184_depth_0.png\t\t      409_depth_0.png\n",
      "184_image_0.png\t\t      409_image_0.png\n",
      "184_segmentation_0_final.png  409_segmentation_0_final.png\n",
      "184_segmentation_0.png\t      409_segmentation_0.png\n",
      "185_depth_0_final_np.png      40_depth_0_final_np.png\n",
      "185_depth_0_final_ori.png     40_depth_0_final_ori.png\n",
      "185_depth_0_final.png\t      40_depth_0_final.png\n",
      "185_depth_0.png\t\t      40_depth_0.png\n",
      "185_image_0.png\t\t      40_image_0.png\n",
      "185_segmentation_0_final.png  40_segmentation_0_final.png\n",
      "185_segmentation_0.png\t      40_segmentation_0.png\n",
      "186_depth_0_final_np.png      410_depth_0_final_np.png\n",
      "186_depth_0_final_ori.png     410_depth_0_final_ori.png\n",
      "186_depth_0_final.png\t      410_depth_0_final.png\n",
      "186_depth_0.png\t\t      410_depth_0.png\n",
      "186_image_0.png\t\t      410_image_0.png\n",
      "186_segmentation_0_final.png  410_segmentation_0_final.png\n",
      "186_segmentation_0.png\t      410_segmentation_0.png\n",
      "187_depth_0_final_np.png      411_depth_0_final_np.png\n",
      "187_depth_0_final_ori.png     411_depth_0_final_ori.png\n",
      "187_depth_0_final.png\t      411_depth_0_final.png\n",
      "187_depth_0.png\t\t      411_depth_0.png\n",
      "187_image_0.png\t\t      411_image_0.png\n",
      "187_segmentation_0_final.png  411_segmentation_0_final.png\n",
      "187_segmentation_0.png\t      411_segmentation_0.png\n",
      "188_depth_0_final_np.png      412_depth_0_final_np.png\n",
      "188_depth_0_final_ori.png     412_depth_0_final_ori.png\n",
      "188_depth_0_final.png\t      412_depth_0_final.png\n",
      "188_depth_0.png\t\t      412_depth_0.png\n",
      "188_image_0.png\t\t      412_image_0.png\n",
      "188_segmentation_0_final.png  412_segmentation_0_final.png\n",
      "188_segmentation_0.png\t      412_segmentation_0.png\n",
      "189_depth_0_final_np.png      413_depth_0_final_np.png\n",
      "189_depth_0_final_ori.png     413_depth_0_final_ori.png\n",
      "189_depth_0_final.png\t      413_depth_0_final.png\n",
      "189_depth_0.png\t\t      413_depth_0.png\n",
      "189_image_0.png\t\t      413_image_0.png\n",
      "189_segmentation_0_final.png  413_segmentation_0_final.png\n",
      "189_segmentation_0.png\t      413_segmentation_0.png\n",
      "18_depth_0_final_np.png       414_depth_0_final_np.png\n",
      "18_depth_0_final_ori.png      414_depth_0_final_ori.png\n",
      "18_depth_0_final.png\t      414_depth_0_final.png\n",
      "18_depth_0.png\t\t      414_depth_0.png\n",
      "18_image_0.png\t\t      414_image_0.png\n",
      "18_segmentation_0_final.png   414_segmentation_0_final.png\n",
      "18_segmentation_0.png\t      414_segmentation_0.png\n",
      "190_depth_0_final_np.png      415_depth_0_final_np.png\n",
      "190_depth_0_final_ori.png     415_depth_0_final_ori.png\n",
      "190_depth_0_final.png\t      415_depth_0_final.png\n",
      "190_depth_0.png\t\t      415_depth_0.png\n",
      "190_image_0.png\t\t      415_image_0.png\n",
      "190_segmentation_0_final.png  415_segmentation_0_final.png\n",
      "190_segmentation_0.png\t      415_segmentation_0.png\n",
      "191_depth_0_final_np.png      416_depth_0_final_np.png\n",
      "191_depth_0_final_ori.png     416_depth_0_final_ori.png\n",
      "191_depth_0_final.png\t      416_depth_0_final.png\n",
      "191_depth_0.png\t\t      416_depth_0.png\n",
      "191_image_0.png\t\t      416_image_0.png\n",
      "191_segmentation_0_final.png  416_segmentation_0_final.png\n",
      "191_segmentation_0.png\t      416_segmentation_0.png\n",
      "192_depth_0_final_np.png      417_depth_0_final_np.png\n",
      "192_depth_0_final_ori.png     417_depth_0_final_ori.png\n",
      "192_depth_0_final.png\t      417_depth_0_final.png\n",
      "192_depth_0.png\t\t      417_depth_0.png\n",
      "192_image_0.png\t\t      417_image_0.png\n",
      "192_segmentation_0_final.png  417_segmentation_0_final.png\n",
      "192_segmentation_0.png\t      417_segmentation_0.png\n",
      "193_depth_0_final_np.png      418_depth_0_final_np.png\n",
      "193_depth_0_final_ori.png     418_depth_0_final_ori.png\n",
      "193_depth_0_final.png\t      418_depth_0_final.png\n",
      "193_depth_0.png\t\t      418_depth_0.png\n",
      "193_image_0.png\t\t      418_image_0.png\n",
      "193_segmentation_0_final.png  418_segmentation_0_final.png\n",
      "193_segmentation_0.png\t      418_segmentation_0.png\n",
      "194_depth_0_final_np.png      419_depth_0_final_np.png\n",
      "194_depth_0_final_ori.png     419_depth_0_final_ori.png\n",
      "194_depth_0_final.png\t      419_depth_0_final.png\n",
      "194_depth_0.png\t\t      419_depth_0.png\n",
      "194_image_0.png\t\t      419_image_0.png\n",
      "194_segmentation_0_final.png  419_segmentation_0_final.png\n",
      "194_segmentation_0.png\t      419_segmentation_0.png\n",
      "195_depth_0_final_np.png      41_depth_0_final_np.png\n",
      "195_depth_0_final_ori.png     41_depth_0_final_ori.png\n",
      "195_depth_0_final.png\t      41_depth_0_final.png\n",
      "195_depth_0.png\t\t      41_depth_0.png\n",
      "195_image_0.png\t\t      41_image_0.png\n",
      "195_segmentation_0_final.png  41_segmentation_0_final.png\n",
      "195_segmentation_0.png\t      41_segmentation_0.png\n",
      "196_depth_0_final_np.png      420_depth_0_final_np.png\n",
      "196_depth_0_final_ori.png     420_depth_0_final_ori.png\n",
      "196_depth_0_final.png\t      420_depth_0_final.png\n",
      "196_depth_0.png\t\t      420_depth_0.png\n",
      "196_image_0.png\t\t      420_image_0.png\n",
      "196_segmentation_0_final.png  420_segmentation_0_final.png\n",
      "196_segmentation_0.png\t      420_segmentation_0.png\n",
      "197_depth_0_final_np.png      421_depth_0_final_np.png\n",
      "197_depth_0_final_ori.png     421_depth_0_final_ori.png\n",
      "197_depth_0_final.png\t      421_depth_0_final.png\n",
      "197_depth_0.png\t\t      421_depth_0.png\n",
      "197_image_0.png\t\t      421_image_0.png\n",
      "197_segmentation_0_final.png  421_segmentation_0_final.png\n",
      "197_segmentation_0.png\t      421_segmentation_0.png\n",
      "198_depth_0_final_np.png      422_depth_0_final_np.png\n",
      "198_depth_0_final_ori.png     422_depth_0_final_ori.png\n",
      "198_depth_0_final.png\t      422_depth_0_final.png\n",
      "198_depth_0.png\t\t      422_depth_0.png\n",
      "198_image_0.png\t\t      422_image_0.png\n",
      "198_segmentation_0_final.png  422_segmentation_0_final.png\n",
      "198_segmentation_0.png\t      422_segmentation_0.png\n",
      "199_depth_0_final_np.png      423_depth_0_final_np.png\n",
      "199_depth_0_final_ori.png     423_depth_0_final_ori.png\n",
      "199_depth_0_final.png\t      423_depth_0_final.png\n",
      "199_depth_0.png\t\t      423_depth_0.png\n",
      "199_image_0.png\t\t      423_image_0.png\n",
      "199_segmentation_0_final.png  423_segmentation_0_final.png\n",
      "199_segmentation_0.png\t      423_segmentation_0.png\n",
      "19_depth_0_final_np.png       424_depth_0_final_np.png\n",
      "19_depth_0_final_ori.png      424_depth_0_final_ori.png\n",
      "19_depth_0_final.png\t      424_depth_0_final.png\n",
      "19_depth_0.png\t\t      424_depth_0.png\n",
      "19_image_0.png\t\t      424_image_0.png\n",
      "19_segmentation_0_final.png   424_segmentation_0_final.png\n",
      "19_segmentation_0.png\t      424_segmentation_0.png\n",
      "1_depth_0_final_np.png\t      425_depth_0_final_np.png\n",
      "1_depth_0_final_ori.png       425_depth_0_final_ori.png\n",
      "1_depth_0_final.png\t      425_depth_0_final.png\n",
      "1_depth_0.png\t\t      425_depth_0.png\n",
      "1_image_0.png\t\t      425_image_0.png\n",
      "1_segmentation_0_final.png    425_segmentation_0_final.png\n",
      "1_segmentation_0.png\t      425_segmentation_0.png\n",
      "200_depth_0_final_np.png      426_depth_0_final_np.png\n",
      "200_depth_0_final_ori.png     426_depth_0_final_ori.png\n",
      "200_depth_0_final.png\t      426_depth_0_final.png\n",
      "200_depth_0.png\t\t      426_depth_0.png\n",
      "200_image_0.png\t\t      426_image_0.png\n",
      "200_segmentation_0_final.png  426_segmentation_0_final.png\n",
      "200_segmentation_0.png\t      426_segmentation_0.png\n",
      "201_depth_0_final_np.png      427_depth_0_final_np.png\n",
      "201_depth_0_final_ori.png     427_depth_0_final_ori.png\n",
      "201_depth_0_final.png\t      427_depth_0_final.png\n",
      "201_depth_0.png\t\t      427_depth_0.png\n",
      "201_image_0.png\t\t      427_image_0.png\n",
      "201_segmentation_0_final.png  427_segmentation_0_final.png\n",
      "201_segmentation_0.png\t      427_segmentation_0.png\n",
      "202_depth_0_final_np.png      428_depth_0_final_np.png\n",
      "202_depth_0_final_ori.png     428_depth_0_final_ori.png\n",
      "202_depth_0_final.png\t      428_depth_0_final.png\n",
      "202_depth_0.png\t\t      428_depth_0.png\n",
      "202_image_0.png\t\t      428_image_0.png\n",
      "202_segmentation_0_final.png  428_segmentation_0_final.png\n",
      "202_segmentation_0.png\t      428_segmentation_0.png\n",
      "203_depth_0_final_np.png      429_depth_0_final_np.png\n",
      "203_depth_0_final_ori.png     429_depth_0_final_ori.png\n",
      "203_depth_0_final.png\t      429_depth_0_final.png\n",
      "203_depth_0.png\t\t      429_depth_0.png\n",
      "203_image_0.png\t\t      429_image_0.png\n",
      "203_segmentation_0_final.png  429_segmentation_0_final.png\n",
      "203_segmentation_0.png\t      429_segmentation_0.png\n",
      "204_depth_0_final_np.png      42_depth_0_final_np.png\n",
      "204_depth_0_final_ori.png     42_depth_0_final_ori.png\n",
      "204_depth_0_final.png\t      42_depth_0_final.png\n",
      "204_depth_0.png\t\t      42_depth_0.png\n",
      "204_image_0.png\t\t      42_image_0.png\n",
      "204_segmentation_0_final.png  42_segmentation_0_final.png\n",
      "204_segmentation_0.png\t      42_segmentation_0.png\n",
      "205_depth_0_final_np.png      430_depth_0_final_np.png\n",
      "205_depth_0_final_ori.png     430_depth_0_final_ori.png\n",
      "205_depth_0_final.png\t      430_depth_0_final.png\n",
      "205_depth_0.png\t\t      430_depth_0.png\n",
      "205_image_0.png\t\t      430_image_0.png\n",
      "205_segmentation_0_final.png  430_segmentation_0_final.png\n",
      "205_segmentation_0.png\t      430_segmentation_0.png\n",
      "206_depth_0_final_np.png      431_depth_0_final_np.png\n",
      "206_depth_0_final_ori.png     431_depth_0_final_ori.png\n",
      "206_depth_0_final.png\t      431_depth_0_final.png\n",
      "206_depth_0.png\t\t      431_depth_0.png\n",
      "206_image_0.png\t\t      431_image_0.png\n",
      "206_segmentation_0_final.png  431_segmentation_0_final.png\n",
      "206_segmentation_0.png\t      431_segmentation_0.png\n",
      "207_depth_0_final_np.png      432_depth_0_final_np.png\n",
      "207_depth_0_final_ori.png     432_depth_0_final_ori.png\n",
      "207_depth_0_final.png\t      432_depth_0_final.png\n",
      "207_depth_0.png\t\t      432_depth_0.png\n",
      "207_image_0.png\t\t      432_image_0.png\n",
      "207_segmentation_0_final.png  432_segmentation_0_final.png\n",
      "207_segmentation_0.png\t      432_segmentation_0.png\n",
      "208_depth_0_final_np.png      433_depth_0_final_np.png\n",
      "208_depth_0_final_ori.png     433_depth_0_final_ori.png\n",
      "208_depth_0_final.png\t      433_depth_0_final.png\n",
      "208_depth_0.png\t\t      433_depth_0.png\n",
      "208_image_0.png\t\t      433_image_0.png\n",
      "208_segmentation_0_final.png  433_segmentation_0_final.png\n",
      "208_segmentation_0.png\t      433_segmentation_0.png\n",
      "209_depth_0_final_np.png      434_depth_0_final_np.png\n",
      "209_depth_0_final_ori.png     434_depth_0_final_ori.png\n",
      "209_depth_0_final.png\t      434_depth_0_final.png\n",
      "209_depth_0.png\t\t      434_depth_0.png\n",
      "209_image_0.png\t\t      434_image_0.png\n",
      "209_segmentation_0_final.png  434_segmentation_0_final.png\n",
      "209_segmentation_0.png\t      434_segmentation_0.png\n",
      "20_depth_0_final_np.png       435_depth_0_final_np.png\n",
      "20_depth_0_final_ori.png      435_depth_0_final_ori.png\n",
      "20_depth_0_final.png\t      435_depth_0_final.png\n",
      "20_depth_0.png\t\t      435_depth_0.png\n",
      "20_image_0.png\t\t      435_image_0.png\n",
      "20_segmentation_0_final.png   435_segmentation_0_final.png\n",
      "20_segmentation_0.png\t      435_segmentation_0.png\n",
      "210_depth_0_final_np.png      436_depth_0_final_np.png\n",
      "210_depth_0_final_ori.png     436_depth_0_final_ori.png\n",
      "210_depth_0_final.png\t      436_depth_0_final.png\n",
      "210_depth_0.png\t\t      436_depth_0.png\n",
      "210_image_0.png\t\t      436_image_0.png\n",
      "210_segmentation_0_final.png  436_segmentation_0_final.png\n",
      "210_segmentation_0.png\t      436_segmentation_0.png\n",
      "211_depth_0_final_np.png      437_depth_0_final_np.png\n",
      "211_depth_0_final_ori.png     437_depth_0_final_ori.png\n",
      "211_depth_0_final.png\t      437_depth_0_final.png\n",
      "211_depth_0.png\t\t      437_depth_0.png\n",
      "211_image_0.png\t\t      437_image_0.png\n",
      "211_segmentation_0_final.png  437_segmentation_0_final.png\n",
      "211_segmentation_0.png\t      437_segmentation_0.png\n",
      "212_depth_0_final_np.png      438_depth_0_final_np.png\n",
      "212_depth_0_final_ori.png     438_depth_0_final_ori.png\n",
      "212_depth_0_final.png\t      438_depth_0_final.png\n",
      "212_depth_0.png\t\t      438_depth_0.png\n",
      "212_image_0.png\t\t      438_image_0.png\n",
      "212_segmentation_0_final.png  438_segmentation_0_final.png\n",
      "212_segmentation_0.png\t      438_segmentation_0.png\n",
      "213_depth_0_final_np.png      439_depth_0_final_np.png\n",
      "213_depth_0_final_ori.png     439_depth_0_final_ori.png\n",
      "213_depth_0_final.png\t      439_depth_0_final.png\n",
      "213_depth_0.png\t\t      439_depth_0.png\n",
      "213_image_0.png\t\t      439_image_0.png\n",
      "213_segmentation_0_final.png  439_segmentation_0_final.png\n",
      "213_segmentation_0.png\t      439_segmentation_0.png\n",
      "214_depth_0_final_np.png      43_depth_0_final_np.png\n",
      "214_depth_0_final_ori.png     43_depth_0_final_ori.png\n",
      "214_depth_0_final.png\t      43_depth_0_final.png\n",
      "214_depth_0.png\t\t      43_depth_0.png\n",
      "214_image_0.png\t\t      43_image_0.png\n",
      "214_segmentation_0_final.png  43_segmentation_0_final.png\n",
      "214_segmentation_0.png\t      43_segmentation_0.png\n",
      "215_depth_0_final_np.png      440_depth_0_final_np.png\n",
      "215_depth_0_final_ori.png     440_depth_0_final_ori.png\n",
      "215_depth_0_final.png\t      440_depth_0_final.png\n",
      "215_depth_0.png\t\t      440_depth_0.png\n",
      "215_image_0.png\t\t      440_image_0.png\n",
      "215_segmentation_0_final.png  440_segmentation_0_final.png\n",
      "215_segmentation_0.png\t      440_segmentation_0.png\n",
      "216_depth_0_final_np.png      441_depth_0_final_np.png\n",
      "216_depth_0_final_ori.png     441_depth_0_final_ori.png\n",
      "216_depth_0_final.png\t      441_depth_0_final.png\n",
      "216_depth_0.png\t\t      441_depth_0.png\n",
      "216_image_0.png\t\t      441_image_0.png\n",
      "216_segmentation_0_final.png  441_segmentation_0_final.png\n",
      "216_segmentation_0.png\t      441_segmentation_0.png\n",
      "217_depth_0_final_np.png      442_depth_0_final_np.png\n",
      "217_depth_0_final_ori.png     442_depth_0_final_ori.png\n",
      "217_depth_0_final.png\t      442_depth_0_final.png\n",
      "217_depth_0.png\t\t      442_depth_0.png\n",
      "217_image_0.png\t\t      442_image_0.png\n",
      "217_segmentation_0_final.png  442_segmentation_0_final.png\n",
      "217_segmentation_0.png\t      442_segmentation_0.png\n",
      "218_depth_0_final_np.png      443_depth_0_final_np.png\n",
      "218_depth_0_final_ori.png     443_depth_0_final_ori.png\n",
      "218_depth_0_final.png\t      443_depth_0_final.png\n",
      "218_depth_0.png\t\t      443_depth_0.png\n",
      "218_image_0.png\t\t      443_image_0.png\n",
      "218_segmentation_0_final.png  443_segmentation_0_final.png\n",
      "218_segmentation_0.png\t      443_segmentation_0.png\n",
      "219_depth_0_final_np.png      444_depth_0_final_np.png\n",
      "219_depth_0_final_ori.png     444_depth_0_final_ori.png\n",
      "219_depth_0_final.png\t      444_depth_0_final.png\n",
      "219_depth_0.png\t\t      444_depth_0.png\n",
      "219_image_0.png\t\t      444_image_0.png\n",
      "219_segmentation_0_final.png  444_segmentation_0_final.png\n",
      "219_segmentation_0.png\t      444_segmentation_0.png\n",
      "21_depth_0_final_np.png       445_depth_0_final_np.png\n",
      "21_depth_0_final_ori.png      445_depth_0_final_ori.png\n",
      "21_depth_0_final.png\t      445_depth_0_final.png\n",
      "21_depth_0.png\t\t      445_depth_0.png\n",
      "21_image_0.png\t\t      445_image_0.png\n",
      "21_segmentation_0_final.png   445_segmentation_0_final.png\n",
      "21_segmentation_0.png\t      445_segmentation_0.png\n",
      "220_depth_0_final_np.png      446_depth_0_final_np.png\n",
      "220_depth_0_final_ori.png     446_depth_0_final_ori.png\n",
      "220_depth_0_final.png\t      446_depth_0_final.png\n",
      "220_depth_0.png\t\t      446_depth_0.png\n",
      "220_image_0.png\t\t      446_image_0.png\n",
      "220_segmentation_0_final.png  446_segmentation_0_final.png\n",
      "220_segmentation_0.png\t      446_segmentation_0.png\n",
      "221_depth_0_final_np.png      447_depth_0_final_np.png\n",
      "221_depth_0_final_ori.png     447_depth_0_final_ori.png\n",
      "221_depth_0_final.png\t      447_depth_0_final.png\n",
      "221_depth_0.png\t\t      447_depth_0.png\n",
      "221_image_0.png\t\t      447_image_0.png\n",
      "221_segmentation_0_final.png  447_segmentation_0_final.png\n",
      "221_segmentation_0.png\t      447_segmentation_0.png\n",
      "222_depth_0_final_np.png      448_depth_0_final_np.png\n",
      "222_depth_0_final_ori.png     448_depth_0_final_ori.png\n",
      "222_depth_0_final.png\t      448_depth_0_final.png\n",
      "222_depth_0.png\t\t      448_depth_0.png\n",
      "222_image_0.png\t\t      448_image_0.png\n",
      "222_segmentation_0_final.png  448_segmentation_0_final.png\n",
      "222_segmentation_0.png\t      448_segmentation_0.png\n",
      "223_depth_0_final_np.png      449_depth_0_final_np.png\n",
      "223_depth_0_final_ori.png     449_depth_0_final_ori.png\n",
      "223_depth_0_final.png\t      449_depth_0_final.png\n",
      "223_depth_0.png\t\t      449_depth_0.png\n",
      "223_image_0.png\t\t      449_image_0.png\n",
      "223_segmentation_0_final.png  449_segmentation_0_final.png\n",
      "223_segmentation_0.png\t      449_segmentation_0.png\n",
      "224_depth_0_final_np.png      44_depth_0_final_np.png\n",
      "224_depth_0_final_ori.png     44_depth_0_final_ori.png\n",
      "224_depth_0_final.png\t      44_depth_0_final.png\n",
      "224_depth_0.png\t\t      44_depth_0.png\n",
      "224_image_0.png\t\t      44_image_0.png\n",
      "224_segmentation_0_final.png  44_segmentation_0_final.png\n",
      "224_segmentation_0.png\t      44_segmentation_0.png\n",
      "225_depth_0_final_np.png      450_depth_0_final_np.png\n",
      "225_depth_0_final_ori.png     450_depth_0_final_ori.png\n",
      "225_depth_0_final.png\t      450_depth_0_final.png\n",
      "225_depth_0.png\t\t      450_depth_0.png\n",
      "225_image_0.png\t\t      450_image_0.png\n",
      "225_segmentation_0_final.png  450_segmentation_0_final.png\n",
      "225_segmentation_0.png\t      450_segmentation_0.png\n",
      "226_depth_0_final_np.png      451_depth_0_final_np.png\n",
      "226_depth_0_final_ori.png     451_depth_0_final_ori.png\n",
      "226_depth_0_final.png\t      451_depth_0_final.png\n",
      "226_depth_0.png\t\t      451_depth_0.png\n",
      "226_image_0.png\t\t      451_image_0.png\n",
      "226_segmentation_0_final.png  451_segmentation_0_final.png\n",
      "226_segmentation_0.png\t      451_segmentation_0.png\n",
      "227_depth_0_final_np.png      452_depth_0_final_np.png\n",
      "227_depth_0_final_ori.png     452_depth_0_final_ori.png\n",
      "227_depth_0_final.png\t      452_depth_0_final.png\n",
      "227_depth_0.png\t\t      452_depth_0.png\n",
      "227_image_0.png\t\t      452_image_0.png\n",
      "227_segmentation_0_final.png  452_segmentation_0_final.png\n",
      "227_segmentation_0.png\t      452_segmentation_0.png\n",
      "228_depth_0_final_np.png      453_depth_0_final_np.png\n",
      "228_depth_0_final_ori.png     453_depth_0_final_ori.png\n",
      "228_depth_0_final.png\t      453_depth_0_final.png\n",
      "228_depth_0.png\t\t      453_depth_0.png\n",
      "228_image_0.png\t\t      453_image_0.png\n",
      "228_segmentation_0_final.png  453_segmentation_0_final.png\n",
      "228_segmentation_0.png\t      453_segmentation_0.png\n",
      "229_depth_0_final_np.png      454_depth_0_final_np.png\n",
      "229_depth_0_final_ori.png     454_depth_0_final_ori.png\n",
      "229_depth_0_final.png\t      454_depth_0_final.png\n",
      "229_depth_0.png\t\t      454_depth_0.png\n",
      "229_image_0.png\t\t      454_image_0.png\n",
      "229_segmentation_0_final.png  454_segmentation_0_final.png\n",
      "229_segmentation_0.png\t      454_segmentation_0.png\n",
      "22_depth_0_final_np.png       455_depth_0_final_np.png\n",
      "22_depth_0_final_ori.png      455_depth_0_final_ori.png\n",
      "22_depth_0_final.png\t      455_depth_0_final.png\n",
      "22_depth_0.png\t\t      455_depth_0.png\n",
      "22_image_0.png\t\t      455_image_0.png\n",
      "22_segmentation_0_final.png   455_segmentation_0_final.png\n",
      "22_segmentation_0.png\t      455_segmentation_0.png\n",
      "230_depth_0_final_np.png      456_depth_0_final_np.png\n",
      "230_depth_0_final_ori.png     456_depth_0_final_ori.png\n",
      "230_depth_0_final.png\t      456_depth_0_final.png\n",
      "230_depth_0.png\t\t      456_depth_0.png\n",
      "230_image_0.png\t\t      456_image_0.png\n",
      "230_segmentation_0_final.png  456_segmentation_0_final.png\n",
      "230_segmentation_0.png\t      456_segmentation_0.png\n",
      "231_depth_0_final_np.png      457_depth_0_final_np.png\n",
      "231_depth_0_final_ori.png     457_depth_0_final_ori.png\n",
      "231_depth_0_final.png\t      457_depth_0_final.png\n",
      "231_depth_0.png\t\t      457_depth_0.png\n",
      "231_image_0.png\t\t      457_image_0.png\n",
      "231_segmentation_0_final.png  457_segmentation_0_final.png\n",
      "231_segmentation_0.png\t      457_segmentation_0.png\n",
      "232_depth_0_final_np.png      458_depth_0_final_np.png\n",
      "232_depth_0_final_ori.png     458_depth_0_final_ori.png\n",
      "232_depth_0_final.png\t      458_depth_0_final.png\n",
      "232_depth_0.png\t\t      458_depth_0.png\n",
      "232_image_0.png\t\t      458_image_0.png\n",
      "232_segmentation_0_final.png  458_segmentation_0_final.png\n",
      "232_segmentation_0.png\t      458_segmentation_0.png\n",
      "233_depth_0_final_np.png      459_depth_0_final_np.png\n",
      "233_depth_0_final_ori.png     459_depth_0_final_ori.png\n",
      "233_depth_0_final.png\t      459_depth_0_final.png\n",
      "233_depth_0.png\t\t      459_depth_0.png\n",
      "233_image_0.png\t\t      459_image_0.png\n",
      "233_segmentation_0_final.png  459_segmentation_0_final.png\n",
      "233_segmentation_0.png\t      459_segmentation_0.png\n",
      "234_depth_0_final_np.png      45_depth_0_final_np.png\n",
      "234_depth_0_final_ori.png     45_depth_0_final_ori.png\n",
      "234_depth_0_final.png\t      45_depth_0_final.png\n",
      "234_depth_0.png\t\t      45_depth_0.png\n",
      "234_image_0.png\t\t      45_image_0.png\n",
      "234_segmentation_0_final.png  45_segmentation_0_final.png\n",
      "234_segmentation_0.png\t      45_segmentation_0.png\n",
      "235_depth_0_final_np.png      460_depth_0_final_np.png\n",
      "235_depth_0_final_ori.png     460_depth_0_final_ori.png\n",
      "235_depth_0_final.png\t      460_depth_0_final.png\n",
      "235_depth_0.png\t\t      460_depth_0.png\n",
      "235_image_0.png\t\t      460_image_0.png\n",
      "235_segmentation_0_final.png  460_segmentation_0_final.png\n",
      "235_segmentation_0.png\t      460_segmentation_0.png\n",
      "236_depth_0_final_np.png      461_depth_0_final_np.png\n",
      "236_depth_0_final_ori.png     461_depth_0_final_ori.png\n",
      "236_depth_0_final.png\t      461_depth_0_final.png\n",
      "236_depth_0.png\t\t      461_depth_0.png\n",
      "236_image_0.png\t\t      461_image_0.png\n",
      "236_segmentation_0_final.png  461_segmentation_0_final.png\n",
      "236_segmentation_0.png\t      461_segmentation_0.png\n",
      "237_depth_0_final_np.png      462_depth_0_final_np.png\n",
      "237_depth_0_final_ori.png     462_depth_0_final_ori.png\n",
      "237_depth_0_final.png\t      462_depth_0_final.png\n",
      "237_depth_0.png\t\t      462_depth_0.png\n",
      "237_image_0.png\t\t      462_image_0.png\n",
      "237_segmentation_0_final.png  462_segmentation_0_final.png\n",
      "237_segmentation_0.png\t      462_segmentation_0.png\n",
      "238_depth_0_final_np.png      463_depth_0_final_np.png\n",
      "238_depth_0_final_ori.png     463_depth_0_final_ori.png\n",
      "238_depth_0_final.png\t      463_depth_0_final.png\n",
      "238_depth_0.png\t\t      463_depth_0.png\n",
      "238_image_0.png\t\t      463_image_0.png\n",
      "238_segmentation_0_final.png  463_segmentation_0_final.png\n",
      "238_segmentation_0.png\t      463_segmentation_0.png\n",
      "239_depth_0_final_np.png      464_depth_0_final_np.png\n",
      "239_depth_0_final_ori.png     464_depth_0_final_ori.png\n",
      "239_depth_0_final.png\t      464_depth_0_final.png\n",
      "239_depth_0.png\t\t      464_depth_0.png\n",
      "239_image_0.png\t\t      464_image_0.png\n",
      "239_segmentation_0_final.png  464_segmentation_0_final.png\n",
      "239_segmentation_0.png\t      464_segmentation_0.png\n",
      "23_depth_0_final_np.png       465_depth_0_final_np.png\n",
      "23_depth_0_final_ori.png      465_depth_0_final_ori.png\n",
      "23_depth_0_final.png\t      465_depth_0_final.png\n",
      "23_depth_0.png\t\t      465_depth_0.png\n",
      "23_image_0.png\t\t      465_image_0.png\n",
      "23_segmentation_0_final.png   465_segmentation_0_final.png\n",
      "23_segmentation_0.png\t      465_segmentation_0.png\n",
      "240_depth_0_final_np.png      466_depth_0_final_np.png\n",
      "240_depth_0_final_ori.png     466_depth_0_final_ori.png\n",
      "240_depth_0_final.png\t      466_depth_0_final.png\n",
      "240_depth_0.png\t\t      466_depth_0.png\n",
      "240_image_0.png\t\t      466_image_0.png\n",
      "240_segmentation_0_final.png  466_segmentation_0_final.png\n",
      "240_segmentation_0.png\t      466_segmentation_0.png\n",
      "241_depth_0_final_np.png      467_depth_0_final_np.png\n",
      "241_depth_0_final_ori.png     467_depth_0_final_ori.png\n",
      "241_depth_0_final.png\t      467_depth_0_final.png\n",
      "241_depth_0.png\t\t      467_depth_0.png\n",
      "241_image_0.png\t\t      467_image_0.png\n",
      "241_segmentation_0_final.png  467_segmentation_0_final.png\n",
      "241_segmentation_0.png\t      467_segmentation_0.png\n",
      "242_depth_0_final_np.png      468_depth_0_final_np.png\n",
      "242_depth_0_final_ori.png     468_depth_0_final_ori.png\n",
      "242_depth_0_final.png\t      468_depth_0_final.png\n",
      "242_depth_0.png\t\t      468_depth_0.png\n",
      "242_image_0.png\t\t      468_image_0.png\n",
      "242_segmentation_0_final.png  468_segmentation_0_final.png\n",
      "242_segmentation_0.png\t      468_segmentation_0.png\n",
      "243_depth_0_final_np.png      469_depth_0_final_np.png\n",
      "243_depth_0_final_ori.png     469_depth_0_final_ori.png\n",
      "243_depth_0_final.png\t      469_depth_0_final.png\n",
      "243_depth_0.png\t\t      469_depth_0.png\n",
      "243_image_0.png\t\t      469_image_0.png\n",
      "243_segmentation_0_final.png  469_segmentation_0_final.png\n",
      "243_segmentation_0.png\t      469_segmentation_0.png\n",
      "244_depth_0_final_np.png      46_depth_0_final_np.png\n",
      "244_depth_0_final_ori.png     46_depth_0_final_ori.png\n",
      "244_depth_0_final.png\t      46_depth_0_final.png\n",
      "244_depth_0.png\t\t      46_depth_0.png\n",
      "244_image_0.png\t\t      46_image_0.png\n",
      "244_segmentation_0_final.png  46_segmentation_0_final.png\n",
      "244_segmentation_0.png\t      46_segmentation_0.png\n",
      "245_depth_0_final_np.png      470_depth_0_final_np.png\n",
      "245_depth_0_final_ori.png     470_depth_0_final_ori.png\n",
      "245_depth_0_final.png\t      470_depth_0_final.png\n",
      "245_depth_0.png\t\t      470_depth_0.png\n",
      "245_image_0.png\t\t      470_image_0.png\n",
      "245_segmentation_0_final.png  470_segmentation_0_final.png\n",
      "245_segmentation_0.png\t      470_segmentation_0.png\n",
      "246_depth_0_final_np.png      471_depth_0_final_np.png\n",
      "246_depth_0_final_ori.png     471_depth_0_final_ori.png\n",
      "246_depth_0_final.png\t      471_depth_0_final.png\n",
      "246_depth_0.png\t\t      471_depth_0.png\n",
      "246_image_0.png\t\t      471_image_0.png\n",
      "246_segmentation_0_final.png  471_segmentation_0_final.png\n",
      "246_segmentation_0.png\t      471_segmentation_0.png\n",
      "247_depth_0_final_np.png      472_depth_0_final_np.png\n",
      "247_depth_0_final_ori.png     472_depth_0_final_ori.png\n",
      "247_depth_0_final.png\t      472_depth_0_final.png\n",
      "247_depth_0.png\t\t      472_depth_0.png\n",
      "247_image_0.png\t\t      472_image_0.png\n",
      "247_segmentation_0_final.png  472_segmentation_0_final.png\n",
      "247_segmentation_0.png\t      472_segmentation_0.png\n",
      "248_depth_0_final_np.png      473_depth_0_final_np.png\n",
      "248_depth_0_final_ori.png     473_depth_0_final_ori.png\n",
      "248_depth_0_final.png\t      473_depth_0_final.png\n",
      "248_depth_0.png\t\t      473_depth_0.png\n",
      "248_image_0.png\t\t      473_image_0.png\n",
      "248_segmentation_0_final.png  473_segmentation_0_final.png\n",
      "248_segmentation_0.png\t      473_segmentation_0.png\n",
      "249_depth_0_final_np.png      474_depth_0_final_np.png\n",
      "249_depth_0_final_ori.png     474_depth_0_final_ori.png\n",
      "249_depth_0_final.png\t      474_depth_0_final.png\n",
      "249_depth_0.png\t\t      474_depth_0.png\n",
      "249_image_0.png\t\t      474_image_0.png\n",
      "249_segmentation_0_final.png  474_segmentation_0_final.png\n",
      "249_segmentation_0.png\t      474_segmentation_0.png\n",
      "24_depth_0_final_np.png       475_depth_0_final_np.png\n",
      "24_depth_0_final_ori.png      475_depth_0_final_ori.png\n",
      "24_depth_0_final.png\t      475_depth_0_final.png\n",
      "24_depth_0.png\t\t      475_depth_0.png\n",
      "24_image_0.png\t\t      475_image_0.png\n",
      "24_segmentation_0_final.png   475_segmentation_0_final.png\n",
      "24_segmentation_0.png\t      475_segmentation_0.png\n",
      "250_depth_0_final_np.png      476_depth_0_final_np.png\n",
      "250_depth_0_final_ori.png     476_depth_0_final_ori.png\n",
      "250_depth_0_final.png\t      476_depth_0_final.png\n",
      "250_depth_0.png\t\t      476_depth_0.png\n",
      "250_image_0.png\t\t      476_image_0.png\n",
      "250_segmentation_0_final.png  476_segmentation_0_final.png\n",
      "250_segmentation_0.png\t      476_segmentation_0.png\n",
      "251_depth_0_final_np.png      477_depth_0_final_np.png\n",
      "251_depth_0_final_ori.png     477_depth_0_final_ori.png\n",
      "251_depth_0_final.png\t      477_depth_0_final.png\n",
      "251_depth_0.png\t\t      477_depth_0.png\n",
      "251_image_0.png\t\t      477_image_0.png\n",
      "251_segmentation_0_final.png  477_segmentation_0_final.png\n",
      "251_segmentation_0.png\t      477_segmentation_0.png\n",
      "252_depth_0_final_np.png      478_depth_0_final_np.png\n",
      "252_depth_0_final_ori.png     478_depth_0_final_ori.png\n",
      "252_depth_0_final.png\t      478_depth_0_final.png\n",
      "252_depth_0.png\t\t      478_depth_0.png\n",
      "252_image_0.png\t\t      478_image_0.png\n",
      "252_segmentation_0_final.png  478_segmentation_0_final.png\n",
      "252_segmentation_0.png\t      478_segmentation_0.png\n",
      "253_depth_0_final_np.png      479_depth_0_final_np.png\n",
      "253_depth_0_final_ori.png     479_depth_0_final_ori.png\n",
      "253_depth_0_final.png\t      479_depth_0_final.png\n",
      "253_depth_0.png\t\t      479_depth_0.png\n",
      "253_image_0.png\t\t      479_image_0.png\n",
      "253_segmentation_0_final.png  479_segmentation_0_final.png\n",
      "253_segmentation_0.png\t      479_segmentation_0.png\n",
      "254_depth_0_final_np.png      47_depth_0_final_np.png\n",
      "254_depth_0_final_ori.png     47_depth_0_final_ori.png\n",
      "254_depth_0_final.png\t      47_depth_0_final.png\n",
      "254_depth_0.png\t\t      47_depth_0.png\n",
      "254_image_0.png\t\t      47_image_0.png\n",
      "254_segmentation_0_final.png  47_segmentation_0_final.png\n",
      "254_segmentation_0.png\t      47_segmentation_0.png\n",
      "255_depth_0_final_np.png      480_depth_0_final_np.png\n",
      "255_depth_0_final_ori.png     480_depth_0_final_ori.png\n",
      "255_depth_0_final.png\t      480_depth_0_final.png\n",
      "255_depth_0.png\t\t      480_depth_0.png\n",
      "255_image_0.png\t\t      480_image_0.png\n",
      "255_segmentation_0_final.png  480_segmentation_0_final.png\n",
      "255_segmentation_0.png\t      480_segmentation_0.png\n",
      "256_depth_0_final_np.png      481_depth_0_final_np.png\n",
      "256_depth_0_final_ori.png     481_depth_0_final_ori.png\n",
      "256_depth_0_final.png\t      481_depth_0_final.png\n",
      "256_depth_0.png\t\t      481_depth_0.png\n",
      "256_image_0.png\t\t      481_image_0.png\n",
      "256_segmentation_0_final.png  481_segmentation_0_final.png\n",
      "256_segmentation_0.png\t      481_segmentation_0.png\n",
      "257_depth_0_final_np.png      482_depth_0_final_np.png\n",
      "257_depth_0_final_ori.png     482_depth_0_final_ori.png\n",
      "257_depth_0_final.png\t      482_depth_0_final.png\n",
      "257_depth_0.png\t\t      482_depth_0.png\n",
      "257_image_0.png\t\t      482_image_0.png\n",
      "257_segmentation_0_final.png  482_segmentation_0_final.png\n",
      "257_segmentation_0.png\t      482_segmentation_0.png\n",
      "258_depth_0_final_np.png      483_depth_0_final_np.png\n",
      "258_depth_0_final_ori.png     483_depth_0_final_ori.png\n",
      "258_depth_0_final.png\t      483_depth_0_final.png\n",
      "258_depth_0.png\t\t      483_depth_0.png\n",
      "258_image_0.png\t\t      483_image_0.png\n",
      "258_segmentation_0_final.png  483_segmentation_0_final.png\n",
      "258_segmentation_0.png\t      483_segmentation_0.png\n",
      "259_depth_0_final_np.png      484_depth_0_final_np.png\n",
      "259_depth_0_final_ori.png     484_depth_0_final_ori.png\n",
      "259_depth_0_final.png\t      484_depth_0_final.png\n",
      "259_depth_0.png\t\t      484_depth_0.png\n",
      "259_image_0.png\t\t      484_image_0.png\n",
      "259_segmentation_0_final.png  484_segmentation_0_final.png\n",
      "259_segmentation_0.png\t      484_segmentation_0.png\n",
      "25_depth_0_final_np.png       485_depth_0_final_np.png\n",
      "25_depth_0_final_ori.png      485_depth_0_final_ori.png\n",
      "25_depth_0_final.png\t      485_depth_0_final.png\n",
      "25_depth_0.png\t\t      485_depth_0.png\n",
      "25_image_0.png\t\t      485_image_0.png\n",
      "25_segmentation_0_final.png   485_segmentation_0_final.png\n",
      "25_segmentation_0.png\t      485_segmentation_0.png\n",
      "260_depth_0_final_np.png      486_depth_0_final_np.png\n",
      "260_depth_0_final_ori.png     486_depth_0_final_ori.png\n",
      "260_depth_0_final.png\t      486_depth_0_final.png\n",
      "260_depth_0.png\t\t      486_depth_0.png\n",
      "260_image_0.png\t\t      486_image_0.png\n",
      "260_segmentation_0_final.png  486_segmentation_0_final.png\n",
      "260_segmentation_0.png\t      486_segmentation_0.png\n",
      "261_depth_0_final_np.png      487_depth_0_final_np.png\n",
      "261_depth_0_final_ori.png     487_depth_0_final_ori.png\n",
      "261_depth_0_final.png\t      487_depth_0_final.png\n",
      "261_depth_0.png\t\t      487_depth_0.png\n",
      "261_image_0.png\t\t      487_image_0.png\n",
      "261_segmentation_0_final.png  487_segmentation_0_final.png\n",
      "261_segmentation_0.png\t      487_segmentation_0.png\n",
      "262_depth_0_final_np.png      488_depth_0_final_np.png\n",
      "262_depth_0_final_ori.png     488_depth_0_final_ori.png\n",
      "262_depth_0_final.png\t      488_depth_0_final.png\n",
      "262_depth_0.png\t\t      488_depth_0.png\n",
      "262_image_0.png\t\t      488_image_0.png\n",
      "262_segmentation_0_final.png  488_segmentation_0_final.png\n",
      "262_segmentation_0.png\t      488_segmentation_0.png\n",
      "263_depth_0_final_np.png      489_depth_0_final_np.png\n",
      "263_depth_0_final_ori.png     489_depth_0_final_ori.png\n",
      "263_depth_0_final.png\t      489_depth_0_final.png\n",
      "263_depth_0.png\t\t      489_depth_0.png\n",
      "263_image_0.png\t\t      489_image_0.png\n",
      "263_segmentation_0_final.png  489_segmentation_0_final.png\n",
      "263_segmentation_0.png\t      489_segmentation_0.png\n",
      "264_depth_0_final_np.png      48_depth_0_final_np.png\n",
      "264_depth_0_final_ori.png     48_depth_0_final_ori.png\n",
      "264_depth_0_final.png\t      48_depth_0_final.png\n",
      "264_depth_0.png\t\t      48_depth_0.png\n",
      "264_image_0.png\t\t      48_image_0.png\n",
      "264_segmentation_0_final.png  48_segmentation_0_final.png\n",
      "264_segmentation_0.png\t      48_segmentation_0.png\n",
      "265_depth_0_final_np.png      490_depth_0_final_np.png\n",
      "265_depth_0_final_ori.png     490_depth_0_final_ori.png\n",
      "265_depth_0_final.png\t      490_depth_0_final.png\n",
      "265_depth_0.png\t\t      490_depth_0.png\n",
      "265_image_0.png\t\t      490_image_0.png\n",
      "265_segmentation_0_final.png  490_segmentation_0_final.png\n",
      "265_segmentation_0.png\t      490_segmentation_0.png\n",
      "266_depth_0_final_np.png      491_depth_0_final_np.png\n",
      "266_depth_0_final_ori.png     491_depth_0_final_ori.png\n",
      "266_depth_0_final.png\t      491_depth_0_final.png\n",
      "266_depth_0.png\t\t      491_depth_0.png\n",
      "266_image_0.png\t\t      491_image_0.png\n",
      "266_segmentation_0_final.png  491_segmentation_0_final.png\n",
      "266_segmentation_0.png\t      491_segmentation_0.png\n",
      "267_depth_0_final_np.png      492_depth_0_final_np.png\n",
      "267_depth_0_final_ori.png     492_depth_0_final_ori.png\n",
      "267_depth_0_final.png\t      492_depth_0_final.png\n",
      "267_depth_0.png\t\t      492_depth_0.png\n",
      "267_image_0.png\t\t      492_image_0.png\n",
      "267_segmentation_0_final.png  492_segmentation_0_final.png\n",
      "267_segmentation_0.png\t      492_segmentation_0.png\n",
      "268_depth_0_final_np.png      493_depth_0_final_np.png\n",
      "268_depth_0_final_ori.png     493_depth_0_final_ori.png\n",
      "268_depth_0_final.png\t      493_depth_0_final.png\n",
      "268_depth_0.png\t\t      493_depth_0.png\n",
      "268_image_0.png\t\t      493_image_0.png\n",
      "268_segmentation_0_final.png  493_segmentation_0_final.png\n",
      "268_segmentation_0.png\t      493_segmentation_0.png\n",
      "269_depth_0_final_np.png      494_depth_0_final_np.png\n",
      "269_depth_0_final_ori.png     494_depth_0_final_ori.png\n",
      "269_depth_0_final.png\t      494_depth_0_final.png\n",
      "269_depth_0.png\t\t      494_depth_0.png\n",
      "269_image_0.png\t\t      494_image_0.png\n",
      "269_segmentation_0_final.png  494_segmentation_0_final.png\n",
      "269_segmentation_0.png\t      494_segmentation_0.png\n",
      "26_depth_0_final_np.png       495_depth_0_final_np.png\n",
      "26_depth_0_final_ori.png      495_depth_0_final_ori.png\n",
      "26_depth_0_final.png\t      495_depth_0_final.png\n",
      "26_depth_0.png\t\t      495_depth_0.png\n",
      "26_image_0.png\t\t      495_image_0.png\n",
      "26_segmentation_0_final.png   495_segmentation_0_final.png\n",
      "26_segmentation_0.png\t      495_segmentation_0.png\n",
      "270_depth_0_final_np.png      496_depth_0_final_np.png\n",
      "270_depth_0_final_ori.png     496_depth_0_final_ori.png\n",
      "270_depth_0_final.png\t      496_depth_0_final.png\n",
      "270_depth_0.png\t\t      496_depth_0.png\n",
      "270_image_0.png\t\t      496_image_0.png\n",
      "270_segmentation_0_final.png  496_segmentation_0_final.png\n",
      "270_segmentation_0.png\t      496_segmentation_0.png\n",
      "271_depth_0_final_np.png      497_depth_0_final_np.png\n",
      "271_depth_0_final_ori.png     497_depth_0_final_ori.png\n",
      "271_depth_0_final.png\t      497_depth_0_final.png\n",
      "271_depth_0.png\t\t      497_depth_0.png\n",
      "271_image_0.png\t\t      497_image_0.png\n",
      "271_segmentation_0_final.png  497_segmentation_0_final.png\n",
      "271_segmentation_0.png\t      497_segmentation_0.png\n",
      "272_depth_0_final_np.png      498_depth_0_final_np.png\n",
      "272_depth_0_final_ori.png     498_depth_0_final_ori.png\n",
      "272_depth_0_final.png\t      498_depth_0_final.png\n",
      "272_depth_0.png\t\t      498_depth_0.png\n",
      "272_image_0.png\t\t      498_image_0.png\n",
      "272_segmentation_0_final.png  498_segmentation_0_final.png\n",
      "272_segmentation_0.png\t      498_segmentation_0.png\n",
      "273_depth_0_final_np.png      499_depth_0_final_np.png\n",
      "273_depth_0_final_ori.png     499_depth_0_final_ori.png\n",
      "273_depth_0_final.png\t      499_depth_0_final.png\n",
      "273_depth_0.png\t\t      499_depth_0.png\n",
      "273_image_0.png\t\t      499_image_0.png\n",
      "273_segmentation_0_final.png  499_segmentation_0_final.png\n",
      "273_segmentation_0.png\t      499_segmentation_0.png\n",
      "274_depth_0_final_np.png      49_depth_0_final_np.png\n",
      "274_depth_0_final_ori.png     49_depth_0_final_ori.png\n",
      "274_depth_0_final.png\t      49_depth_0_final.png\n",
      "274_depth_0.png\t\t      49_depth_0.png\n",
      "274_image_0.png\t\t      49_image_0.png\n",
      "274_segmentation_0_final.png  49_segmentation_0_final.png\n",
      "274_segmentation_0.png\t      49_segmentation_0.png\n",
      "275_depth_0_final_np.png      4_depth_0_final_np.png\n",
      "275_depth_0_final_ori.png     4_depth_0_final_ori.png\n",
      "275_depth_0_final.png\t      4_depth_0_final.png\n",
      "275_depth_0.png\t\t      4_depth_0.png\n",
      "275_image_0.png\t\t      4_image_0.png\n",
      "275_segmentation_0_final.png  4_segmentation_0_final.png\n",
      "275_segmentation_0.png\t      4_segmentation_0.png\n",
      "276_depth_0_final_np.png      50_depth_0_final_np.png\n",
      "276_depth_0_final_ori.png     50_depth_0_final_ori.png\n",
      "276_depth_0_final.png\t      50_depth_0_final.png\n",
      "276_depth_0.png\t\t      50_depth_0.png\n",
      "276_image_0.png\t\t      50_image_0.png\n",
      "276_segmentation_0_final.png  50_segmentation_0_final.png\n",
      "276_segmentation_0.png\t      50_segmentation_0.png\n",
      "277_depth_0_final_np.png      51_depth_0_final_np.png\n",
      "277_depth_0_final_ori.png     51_depth_0_final_ori.png\n",
      "277_depth_0_final.png\t      51_depth_0_final.png\n",
      "277_depth_0.png\t\t      51_depth_0.png\n",
      "277_image_0.png\t\t      51_image_0.png\n",
      "277_segmentation_0_final.png  51_segmentation_0_final.png\n",
      "277_segmentation_0.png\t      51_segmentation_0.png\n",
      "278_depth_0_final_np.png      52_depth_0_final_np.png\n",
      "278_depth_0_final_ori.png     52_depth_0_final_ori.png\n",
      "278_depth_0_final.png\t      52_depth_0_final.png\n",
      "278_depth_0.png\t\t      52_depth_0.png\n",
      "278_image_0.png\t\t      52_image_0.png\n",
      "278_segmentation_0_final.png  52_segmentation_0_final.png\n",
      "278_segmentation_0.png\t      52_segmentation_0.png\n",
      "279_depth_0_final_np.png      53_depth_0_final_np.png\n",
      "279_depth_0_final_ori.png     53_depth_0_final_ori.png\n",
      "279_depth_0_final.png\t      53_depth_0_final.png\n",
      "279_depth_0.png\t\t      53_depth_0.png\n",
      "279_image_0.png\t\t      53_image_0.png\n",
      "279_segmentation_0_final.png  53_segmentation_0_final.png\n",
      "279_segmentation_0.png\t      53_segmentation_0.png\n",
      "27_depth_0_final_np.png       54_depth_0_final_np.png\n",
      "27_depth_0_final_ori.png      54_depth_0_final_ori.png\n",
      "27_depth_0_final.png\t      54_depth_0_final.png\n",
      "27_depth_0.png\t\t      54_depth_0.png\n",
      "27_image_0.png\t\t      54_image_0.png\n",
      "27_segmentation_0_final.png   54_segmentation_0_final.png\n",
      "27_segmentation_0.png\t      54_segmentation_0.png\n",
      "280_depth_0_final_np.png      55_depth_0_final_np.png\n",
      "280_depth_0_final_ori.png     55_depth_0_final_ori.png\n",
      "280_depth_0_final.png\t      55_depth_0_final.png\n",
      "280_depth_0.png\t\t      55_depth_0.png\n",
      "280_image_0.png\t\t      55_image_0.png\n",
      "280_segmentation_0_final.png  55_segmentation_0_final.png\n",
      "280_segmentation_0.png\t      55_segmentation_0.png\n",
      "281_depth_0_final_np.png      56_depth_0_final_np.png\n",
      "281_depth_0_final_ori.png     56_depth_0_final_ori.png\n",
      "281_depth_0_final.png\t      56_depth_0_final.png\n",
      "281_depth_0.png\t\t      56_depth_0.png\n",
      "281_image_0.png\t\t      56_image_0.png\n",
      "281_segmentation_0_final.png  56_segmentation_0_final.png\n",
      "281_segmentation_0.png\t      56_segmentation_0.png\n",
      "282_depth_0_final_np.png      57_depth_0_final_np.png\n",
      "282_depth_0_final_ori.png     57_depth_0_final_ori.png\n",
      "282_depth_0_final.png\t      57_depth_0_final.png\n",
      "282_depth_0.png\t\t      57_depth_0.png\n",
      "282_image_0.png\t\t      57_image_0.png\n",
      "282_segmentation_0_final.png  57_segmentation_0_final.png\n",
      "282_segmentation_0.png\t      57_segmentation_0.png\n",
      "283_depth_0_final_np.png      58_depth_0_final_np.png\n",
      "283_depth_0_final_ori.png     58_depth_0_final_ori.png\n",
      "283_depth_0_final.png\t      58_depth_0_final.png\n",
      "283_depth_0.png\t\t      58_depth_0.png\n",
      "283_image_0.png\t\t      58_image_0.png\n",
      "283_segmentation_0_final.png  58_segmentation_0_final.png\n",
      "283_segmentation_0.png\t      58_segmentation_0.png\n",
      "284_depth_0_final_np.png      59_depth_0_final_np.png\n",
      "284_depth_0_final_ori.png     59_depth_0_final_ori.png\n",
      "284_depth_0_final.png\t      59_depth_0_final.png\n",
      "284_depth_0.png\t\t      59_depth_0.png\n",
      "284_image_0.png\t\t      59_image_0.png\n",
      "284_segmentation_0_final.png  59_segmentation_0_final.png\n",
      "284_segmentation_0.png\t      59_segmentation_0.png\n",
      "285_depth_0_final_np.png      5_depth_0_final_np.png\n",
      "285_depth_0_final_ori.png     5_depth_0_final_ori.png\n",
      "285_depth_0_final.png\t      5_depth_0_final.png\n",
      "285_depth_0.png\t\t      5_depth_0.png\n",
      "285_image_0.png\t\t      5_image_0.png\n",
      "285_segmentation_0_final.png  5_segmentation_0_final.png\n",
      "285_segmentation_0.png\t      5_segmentation_0.png\n",
      "286_depth_0_final_np.png      60_depth_0_final_np.png\n",
      "286_depth_0_final_ori.png     60_depth_0_final_ori.png\n",
      "286_depth_0_final.png\t      60_depth_0_final.png\n",
      "286_depth_0.png\t\t      60_depth_0.png\n",
      "286_image_0.png\t\t      60_image_0.png\n",
      "286_segmentation_0_final.png  60_segmentation_0_final.png\n",
      "286_segmentation_0.png\t      60_segmentation_0.png\n",
      "287_depth_0_final_np.png      61_depth_0_final_np.png\n",
      "287_depth_0_final_ori.png     61_depth_0_final_ori.png\n",
      "287_depth_0_final.png\t      61_depth_0_final.png\n",
      "287_depth_0.png\t\t      61_depth_0.png\n",
      "287_image_0.png\t\t      61_image_0.png\n",
      "287_segmentation_0_final.png  61_segmentation_0_final.png\n",
      "287_segmentation_0.png\t      61_segmentation_0.png\n",
      "288_depth_0_final_np.png      62_depth_0_final_np.png\n",
      "288_depth_0_final_ori.png     62_depth_0_final_ori.png\n",
      "288_depth_0_final.png\t      62_depth_0_final.png\n",
      "288_depth_0.png\t\t      62_depth_0.png\n",
      "288_image_0.png\t\t      62_image_0.png\n",
      "288_segmentation_0_final.png  62_segmentation_0_final.png\n",
      "288_segmentation_0.png\t      62_segmentation_0.png\n",
      "289_depth_0_final_np.png      63_depth_0_final_np.png\n",
      "289_depth_0_final_ori.png     63_depth_0_final_ori.png\n",
      "289_depth_0_final.png\t      63_depth_0_final.png\n",
      "289_depth_0.png\t\t      63_depth_0.png\n",
      "289_image_0.png\t\t      63_image_0.png\n",
      "289_segmentation_0_final.png  63_segmentation_0_final.png\n",
      "289_segmentation_0.png\t      63_segmentation_0.png\n",
      "28_depth_0_final_np.png       64_depth_0_final_np.png\n",
      "28_depth_0_final_ori.png      64_depth_0_final_ori.png\n",
      "28_depth_0_final.png\t      64_depth_0_final.png\n",
      "28_depth_0.png\t\t      64_depth_0.png\n",
      "28_image_0.png\t\t      64_image_0.png\n",
      "28_segmentation_0_final.png   64_segmentation_0_final.png\n",
      "28_segmentation_0.png\t      64_segmentation_0.png\n",
      "290_depth_0_final_np.png      65_depth_0_final_np.png\n",
      "290_depth_0_final_ori.png     65_depth_0_final_ori.png\n",
      "290_depth_0_final.png\t      65_depth_0_final.png\n",
      "290_depth_0.png\t\t      65_depth_0.png\n",
      "290_image_0.png\t\t      65_image_0.png\n",
      "290_segmentation_0_final.png  65_segmentation_0_final.png\n",
      "290_segmentation_0.png\t      65_segmentation_0.png\n",
      "291_depth_0_final_np.png      66_depth_0_final_np.png\n",
      "291_depth_0_final_ori.png     66_depth_0_final_ori.png\n",
      "291_depth_0_final.png\t      66_depth_0_final.png\n",
      "291_depth_0.png\t\t      66_depth_0.png\n",
      "291_image_0.png\t\t      66_image_0.png\n",
      "291_segmentation_0_final.png  66_segmentation_0_final.png\n",
      "291_segmentation_0.png\t      66_segmentation_0.png\n",
      "292_depth_0_final_np.png      67_depth_0_final_np.png\n",
      "292_depth_0_final_ori.png     67_depth_0_final_ori.png\n",
      "292_depth_0_final.png\t      67_depth_0_final.png\n",
      "292_depth_0.png\t\t      67_depth_0.png\n",
      "292_image_0.png\t\t      67_image_0.png\n",
      "292_segmentation_0_final.png  67_segmentation_0_final.png\n",
      "292_segmentation_0.png\t      67_segmentation_0.png\n",
      "293_depth_0_final_np.png      68_depth_0_final_np.png\n",
      "293_depth_0_final_ori.png     68_depth_0_final_ori.png\n",
      "293_depth_0_final.png\t      68_depth_0_final.png\n",
      "293_depth_0.png\t\t      68_depth_0.png\n",
      "293_image_0.png\t\t      68_image_0.png\n",
      "293_segmentation_0_final.png  68_segmentation_0_final.png\n",
      "293_segmentation_0.png\t      68_segmentation_0.png\n",
      "294_depth_0_final_np.png      69_depth_0_final_np.png\n",
      "294_depth_0_final_ori.png     69_depth_0_final_ori.png\n",
      "294_depth_0_final.png\t      69_depth_0_final.png\n",
      "294_depth_0.png\t\t      69_depth_0.png\n",
      "294_image_0.png\t\t      69_image_0.png\n",
      "294_segmentation_0_final.png  69_segmentation_0_final.png\n",
      "294_segmentation_0.png\t      69_segmentation_0.png\n",
      "295_depth_0_final_np.png      6_depth_0_final_np.png\n",
      "295_depth_0_final_ori.png     6_depth_0_final_ori.png\n",
      "295_depth_0_final.png\t      6_depth_0_final.png\n",
      "295_depth_0.png\t\t      6_depth_0.png\n",
      "295_image_0.png\t\t      6_image_0.png\n",
      "295_segmentation_0_final.png  6_segmentation_0_final.png\n",
      "295_segmentation_0.png\t      6_segmentation_0.png\n",
      "296_depth_0_final_np.png      70_depth_0_final_np.png\n",
      "296_depth_0_final_ori.png     70_depth_0_final_ori.png\n",
      "296_depth_0_final.png\t      70_depth_0_final.png\n",
      "296_depth_0.png\t\t      70_depth_0.png\n",
      "296_image_0.png\t\t      70_image_0.png\n",
      "296_segmentation_0_final.png  70_segmentation_0_final.png\n",
      "296_segmentation_0.png\t      70_segmentation_0.png\n",
      "297_depth_0_final_np.png      71_depth_0_final_np.png\n",
      "297_depth_0_final_ori.png     71_depth_0_final_ori.png\n",
      "297_depth_0_final.png\t      71_depth_0_final.png\n",
      "297_depth_0.png\t\t      71_depth_0.png\n",
      "297_image_0.png\t\t      71_image_0.png\n",
      "297_segmentation_0_final.png  71_segmentation_0_final.png\n",
      "297_segmentation_0.png\t      71_segmentation_0.png\n",
      "298_depth_0_final_np.png      72_depth_0_final_np.png\n",
      "298_depth_0_final_ori.png     72_depth_0_final_ori.png\n",
      "298_depth_0_final.png\t      72_depth_0_final.png\n",
      "298_depth_0.png\t\t      72_depth_0.png\n",
      "298_image_0.png\t\t      72_image_0.png\n",
      "298_segmentation_0_final.png  72_segmentation_0_final.png\n",
      "298_segmentation_0.png\t      72_segmentation_0.png\n",
      "299_depth_0_final_np.png      73_depth_0_final_np.png\n",
      "299_depth_0_final_ori.png     73_depth_0_final_ori.png\n",
      "299_depth_0_final.png\t      73_depth_0_final.png\n",
      "299_depth_0.png\t\t      73_depth_0.png\n",
      "299_image_0.png\t\t      73_image_0.png\n",
      "299_segmentation_0_final.png  73_segmentation_0_final.png\n",
      "299_segmentation_0.png\t      73_segmentation_0.png\n",
      "29_depth_0_final_np.png       74_depth_0_final_np.png\n",
      "29_depth_0_final_ori.png      74_depth_0_final_ori.png\n",
      "29_depth_0_final.png\t      74_depth_0_final.png\n",
      "29_depth_0.png\t\t      74_depth_0.png\n",
      "29_image_0.png\t\t      74_image_0.png\n",
      "29_segmentation_0_final.png   74_segmentation_0_final.png\n",
      "29_segmentation_0.png\t      74_segmentation_0.png\n",
      "2_depth_0_final_np.png\t      75_depth_0_final_np.png\n",
      "2_depth_0_final_ori.png       75_depth_0_final_ori.png\n",
      "2_depth_0_final.png\t      75_depth_0_final.png\n",
      "2_depth_0.png\t\t      75_depth_0.png\n",
      "2_image_0.png\t\t      75_image_0.png\n",
      "2_segmentation_0_final.png    75_segmentation_0_final.png\n",
      "2_segmentation_0.png\t      75_segmentation_0.png\n",
      "300_depth_0_final_np.png      76_depth_0_final_np.png\n",
      "300_depth_0_final_ori.png     76_depth_0_final_ori.png\n",
      "300_depth_0_final.png\t      76_depth_0_final.png\n",
      "300_depth_0.png\t\t      76_depth_0.png\n",
      "300_image_0.png\t\t      76_image_0.png\n",
      "300_segmentation_0_final.png  76_segmentation_0_final.png\n",
      "300_segmentation_0.png\t      76_segmentation_0.png\n",
      "301_depth_0_final_np.png      77_depth_0_final_np.png\n",
      "301_depth_0_final_ori.png     77_depth_0_final_ori.png\n",
      "301_depth_0_final.png\t      77_depth_0_final.png\n",
      "301_depth_0.png\t\t      77_depth_0.png\n",
      "301_image_0.png\t\t      77_image_0.png\n",
      "301_segmentation_0_final.png  77_segmentation_0_final.png\n",
      "301_segmentation_0.png\t      77_segmentation_0.png\n",
      "302_depth_0_final_np.png      78_depth_0_final_np.png\n",
      "302_depth_0_final_ori.png     78_depth_0_final_ori.png\n",
      "302_depth_0_final.png\t      78_depth_0_final.png\n",
      "302_depth_0.png\t\t      78_depth_0.png\n",
      "302_image_0.png\t\t      78_image_0.png\n",
      "302_segmentation_0_final.png  78_segmentation_0_final.png\n",
      "302_segmentation_0.png\t      78_segmentation_0.png\n",
      "303_depth_0_final_np.png      79_depth_0_final_np.png\n",
      "303_depth_0_final_ori.png     79_depth_0_final_ori.png\n",
      "303_depth_0_final.png\t      79_depth_0_final.png\n",
      "303_depth_0.png\t\t      79_depth_0.png\n",
      "303_image_0.png\t\t      79_image_0.png\n",
      "303_segmentation_0_final.png  79_segmentation_0_final.png\n",
      "303_segmentation_0.png\t      79_segmentation_0.png\n",
      "304_depth_0_final_np.png      7_depth_0_final_np.png\n",
      "304_depth_0_final_ori.png     7_depth_0_final_ori.png\n",
      "304_depth_0_final.png\t      7_depth_0_final.png\n",
      "304_depth_0.png\t\t      7_depth_0.png\n",
      "304_image_0.png\t\t      7_image_0.png\n",
      "304_segmentation_0_final.png  7_segmentation_0_final.png\n",
      "304_segmentation_0.png\t      7_segmentation_0.png\n",
      "305_depth_0_final_np.png      80_depth_0_final_np.png\n",
      "305_depth_0_final_ori.png     80_depth_0_final_ori.png\n",
      "305_depth_0_final.png\t      80_depth_0_final.png\n",
      "305_depth_0.png\t\t      80_depth_0.png\n",
      "305_image_0.png\t\t      80_image_0.png\n",
      "305_segmentation_0_final.png  80_segmentation_0_final.png\n",
      "305_segmentation_0.png\t      80_segmentation_0.png\n",
      "306_depth_0_final_np.png      81_depth_0_final_np.png\n",
      "306_depth_0_final_ori.png     81_depth_0_final_ori.png\n",
      "306_depth_0_final.png\t      81_depth_0_final.png\n",
      "306_depth_0.png\t\t      81_depth_0.png\n",
      "306_image_0.png\t\t      81_image_0.png\n",
      "306_segmentation_0_final.png  81_segmentation_0_final.png\n",
      "306_segmentation_0.png\t      81_segmentation_0.png\n",
      "307_depth_0_final_np.png      82_depth_0_final_np.png\n",
      "307_depth_0_final_ori.png     82_depth_0_final_ori.png\n",
      "307_depth_0_final.png\t      82_depth_0_final.png\n",
      "307_depth_0.png\t\t      82_depth_0.png\n",
      "307_image_0.png\t\t      82_image_0.png\n",
      "307_segmentation_0_final.png  82_segmentation_0_final.png\n",
      "307_segmentation_0.png\t      82_segmentation_0.png\n",
      "308_depth_0_final_np.png      83_depth_0_final_np.png\n",
      "308_depth_0_final_ori.png     83_depth_0_final_ori.png\n",
      "308_depth_0_final.png\t      83_depth_0_final.png\n",
      "308_depth_0.png\t\t      83_depth_0.png\n",
      "308_image_0.png\t\t      83_image_0.png\n",
      "308_segmentation_0_final.png  83_segmentation_0_final.png\n",
      "308_segmentation_0.png\t      83_segmentation_0.png\n",
      "309_depth_0_final_np.png      84_depth_0_final_np.png\n",
      "309_depth_0_final_ori.png     84_depth_0_final_ori.png\n",
      "309_depth_0_final.png\t      84_depth_0_final.png\n",
      "309_depth_0.png\t\t      84_depth_0.png\n",
      "309_image_0.png\t\t      84_image_0.png\n",
      "309_segmentation_0_final.png  84_segmentation_0_final.png\n",
      "309_segmentation_0.png\t      84_segmentation_0.png\n",
      "30_depth_0_final_np.png       85_depth_0_final_np.png\n",
      "30_depth_0_final_ori.png      85_depth_0_final_ori.png\n",
      "30_depth_0_final.png\t      85_depth_0_final.png\n",
      "30_depth_0.png\t\t      85_depth_0.png\n",
      "30_image_0.png\t\t      85_image_0.png\n",
      "30_segmentation_0_final.png   85_segmentation_0_final.png\n",
      "30_segmentation_0.png\t      85_segmentation_0.png\n",
      "310_depth_0_final_np.png      86_depth_0_final_np.png\n",
      "310_depth_0_final_ori.png     86_depth_0_final_ori.png\n",
      "310_depth_0_final.png\t      86_depth_0_final.png\n",
      "310_depth_0.png\t\t      86_depth_0.png\n",
      "310_image_0.png\t\t      86_image_0.png\n",
      "310_segmentation_0_final.png  86_segmentation_0_final.png\n",
      "310_segmentation_0.png\t      86_segmentation_0.png\n",
      "311_depth_0_final_np.png      87_depth_0_final_np.png\n",
      "311_depth_0_final_ori.png     87_depth_0_final_ori.png\n",
      "311_depth_0_final.png\t      87_depth_0_final.png\n",
      "311_depth_0.png\t\t      87_depth_0.png\n",
      "311_image_0.png\t\t      87_image_0.png\n",
      "311_segmentation_0_final.png  87_segmentation_0_final.png\n",
      "311_segmentation_0.png\t      87_segmentation_0.png\n",
      "312_depth_0_final_np.png      88_depth_0_final_np.png\n",
      "312_depth_0_final_ori.png     88_depth_0_final_ori.png\n",
      "312_depth_0_final.png\t      88_depth_0_final.png\n",
      "312_depth_0.png\t\t      88_depth_0.png\n",
      "312_image_0.png\t\t      88_image_0.png\n",
      "312_segmentation_0_final.png  88_segmentation_0_final.png\n",
      "312_segmentation_0.png\t      88_segmentation_0.png\n",
      "313_depth_0_final_np.png      89_depth_0_final_np.png\n",
      "313_depth_0_final_ori.png     89_depth_0_final_ori.png\n",
      "313_depth_0_final.png\t      89_depth_0_final.png\n",
      "313_depth_0.png\t\t      89_depth_0.png\n",
      "313_image_0.png\t\t      89_image_0.png\n",
      "313_segmentation_0_final.png  89_segmentation_0_final.png\n",
      "313_segmentation_0.png\t      89_segmentation_0.png\n",
      "314_depth_0_final_np.png      8_depth_0_final_np.png\n",
      "314_depth_0_final_ori.png     8_depth_0_final_ori.png\n",
      "314_depth_0_final.png\t      8_depth_0_final.png\n",
      "314_depth_0.png\t\t      8_depth_0.png\n",
      "314_image_0.png\t\t      8_image_0.png\n",
      "314_segmentation_0_final.png  8_segmentation_0_final.png\n",
      "314_segmentation_0.png\t      8_segmentation_0.png\n",
      "315_depth_0_final_np.png      90_depth_0_final_np.png\n",
      "315_depth_0_final_ori.png     90_depth_0_final_ori.png\n",
      "315_depth_0_final.png\t      90_depth_0_final.png\n",
      "315_depth_0.png\t\t      90_depth_0.png\n",
      "315_image_0.png\t\t      90_image_0.png\n",
      "315_segmentation_0_final.png  90_segmentation_0_final.png\n",
      "315_segmentation_0.png\t      90_segmentation_0.png\n",
      "316_depth_0_final_np.png      91_depth_0_final_np.png\n",
      "316_depth_0_final_ori.png     91_depth_0_final_ori.png\n",
      "316_depth_0_final.png\t      91_depth_0_final.png\n",
      "316_depth_0.png\t\t      91_depth_0.png\n",
      "316_image_0.png\t\t      91_image_0.png\n",
      "316_segmentation_0_final.png  91_segmentation_0_final.png\n",
      "316_segmentation_0.png\t      91_segmentation_0.png\n",
      "317_depth_0_final_np.png      92_depth_0_final_np.png\n",
      "317_depth_0_final_ori.png     92_depth_0_final_ori.png\n",
      "317_depth_0_final.png\t      92_depth_0_final.png\n",
      "317_depth_0.png\t\t      92_depth_0.png\n",
      "317_image_0.png\t\t      92_image_0.png\n",
      "317_segmentation_0_final.png  92_segmentation_0_final.png\n",
      "317_segmentation_0.png\t      92_segmentation_0.png\n",
      "318_depth_0_final_np.png      93_depth_0_final_np.png\n",
      "318_depth_0_final_ori.png     93_depth_0_final_ori.png\n",
      "318_depth_0_final.png\t      93_depth_0_final.png\n",
      "318_depth_0.png\t\t      93_depth_0.png\n",
      "318_image_0.png\t\t      93_image_0.png\n",
      "318_segmentation_0_final.png  93_segmentation_0_final.png\n",
      "318_segmentation_0.png\t      93_segmentation_0.png\n",
      "319_depth_0_final_np.png      94_depth_0_final_np.png\n",
      "319_depth_0_final_ori.png     94_depth_0_final_ori.png\n",
      "319_depth_0_final.png\t      94_depth_0_final.png\n",
      "319_depth_0.png\t\t      94_depth_0.png\n",
      "319_image_0.png\t\t      94_image_0.png\n",
      "319_segmentation_0_final.png  94_segmentation_0_final.png\n",
      "319_segmentation_0.png\t      94_segmentation_0.png\n",
      "31_depth_0_final_np.png       95_depth_0_final_np.png\n",
      "31_depth_0_final_ori.png      95_depth_0_final_ori.png\n",
      "31_depth_0_final.png\t      95_depth_0_final.png\n",
      "31_depth_0.png\t\t      95_depth_0.png\n",
      "31_image_0.png\t\t      95_image_0.png\n",
      "31_segmentation_0_final.png   95_segmentation_0_final.png\n",
      "31_segmentation_0.png\t      95_segmentation_0.png\n",
      "320_depth_0_final_np.png      96_depth_0_final_np.png\n",
      "320_depth_0_final_ori.png     96_depth_0_final_ori.png\n",
      "320_depth_0_final.png\t      96_depth_0_final.png\n",
      "320_depth_0.png\t\t      96_depth_0.png\n",
      "320_image_0.png\t\t      96_image_0.png\n",
      "320_segmentation_0_final.png  96_segmentation_0_final.png\n",
      "320_segmentation_0.png\t      96_segmentation_0.png\n",
      "321_depth_0_final_np.png      97_depth_0_final_np.png\n",
      "321_depth_0_final_ori.png     97_depth_0_final_ori.png\n",
      "321_depth_0_final.png\t      97_depth_0_final.png\n",
      "321_depth_0.png\t\t      97_depth_0.png\n",
      "321_image_0.png\t\t      97_image_0.png\n",
      "321_segmentation_0_final.png  97_segmentation_0_final.png\n",
      "321_segmentation_0.png\t      97_segmentation_0.png\n",
      "322_depth_0_final_np.png      98_depth_0_final_np.png\n",
      "322_depth_0_final_ori.png     98_depth_0_final_ori.png\n",
      "322_depth_0_final.png\t      98_depth_0_final.png\n",
      "322_depth_0.png\t\t      98_depth_0.png\n",
      "322_image_0.png\t\t      98_image_0.png\n",
      "322_segmentation_0_final.png  98_segmentation_0_final.png\n",
      "322_segmentation_0.png\t      98_segmentation_0.png\n",
      "323_depth_0_final_np.png      99_depth_0_final_np.png\n",
      "323_depth_0_final_ori.png     99_depth_0_final_ori.png\n",
      "323_depth_0_final.png\t      99_depth_0_final.png\n",
      "323_depth_0.png\t\t      99_depth_0.png\n",
      "323_image_0.png\t\t      99_image_0.png\n",
      "323_segmentation_0_final.png  99_segmentation_0_final.png\n",
      "323_segmentation_0.png\t      99_segmentation_0.png\n",
      "324_depth_0_final_np.png      9_depth_0_final_np.png\n",
      "324_depth_0_final_ori.png     9_depth_0_final_ori.png\n",
      "324_depth_0_final.png\t      9_depth_0_final.png\n",
      "324_depth_0.png\t\t      9_depth_0.png\n",
      "324_image_0.png\t\t      9_image_0.png\n",
      "324_segmentation_0_final.png  9_segmentation_0_final.png\n",
      "324_segmentation_0.png\t      9_segmentation_0.png\n"
     ]
    }
   ],
   "source": [
    "!cd planercnn\n",
    "!ls planercnn/test/inference"
   ]
  },
  {
   "cell_type": "code",
   "execution_count": null,
   "metadata": {
    "id": "HiThbkdAOwej"
   },
   "outputs": [],
   "source": []
  }
 ],
 "metadata": {
  "accelerator": "GPU",
  "colab": {
   "collapsed_sections": [],
   "name": "S14_CodeFinal.ipynb",
   "provenance": []
  },
  "kernelspec": {
   "display_name": "Python 3",
   "language": "python",
   "name": "python3"
  },
  "language_info": {
   "codemirror_mode": {
    "name": "ipython",
    "version": 3
   },
   "file_extension": ".py",
   "mimetype": "text/x-python",
   "name": "python",
   "nbconvert_exporter": "python",
   "pygments_lexer": "ipython3",
   "version": "3.8.5"
  }
 },
 "nbformat": 4,
 "nbformat_minor": 1
}
